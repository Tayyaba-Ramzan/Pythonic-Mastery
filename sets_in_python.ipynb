{
  "nbformat": 4,
  "nbformat_minor": 0,
  "metadata": {
    "colab": {
      "provenance": [],
      "authorship_tag": "ABX9TyPITcSBqtHZs6B+uJNAusZj",
      "include_colab_link": true
    },
    "kernelspec": {
      "name": "python3",
      "display_name": "Python 3"
    },
    "language_info": {
      "name": "python"
    }
  },
  "cells": [
    {
      "cell_type": "markdown",
      "metadata": {
        "id": "view-in-github",
        "colab_type": "text"
      },
      "source": [
        "<a href=\"https://colab.research.google.com/github/Tayyaba-Ramzan/Pythonic-Mastery/blob/main/sets_in_python.ipynb\" target=\"_parent\"><img src=\"https://colab.research.google.com/assets/colab-badge.svg\" alt=\"Open In Colab\"/></a>"
      ]
    },
    {
      "cell_type": "markdown",
      "source": [
        "# ***What are Sets in Python - Explained with Examples | Python Tutorial***\n"
      ],
      "metadata": {
        "id": "39IDZ4cpx1NA"
      }
    },
    {
      "cell_type": "markdown",
      "source": [
        "A **set** is an unordered collection of unique elements.  \n",
        "Sets are defined using **curly braces `{}`** or the `set()` function.\n",
        "They do **not allow duplicates** and do **not maintain order**."
      ],
      "metadata": {
        "id": "ysKwRhPwx5dX"
      }
    },
    {
      "cell_type": "markdown",
      "source": [
        "📌 Creating Sets\n",
        "\n"
      ],
      "metadata": {
        "id": "IHgjD5R1x7V_"
      }
    },
    {
      "cell_type": "code",
      "source": [
        "# Creating a set\n",
        "my_set = {1, 2, 3, 4, 5}\n",
        "print(my_set)\n",
        "\n",
        "# Creating set with duplicates\n",
        "dup_set = {1, 2, 2, 3, 4, 4, 5}\n",
        "print(dup_set)  # Duplicates will be removed"
      ],
      "metadata": {
        "id": "Zqz_bmMWx9kA",
        "outputId": "ef083503-95cb-4aa0-a967-64391c5d62ec",
        "colab": {
          "base_uri": "https://localhost:8080/"
        }
      },
      "execution_count": 1,
      "outputs": [
        {
          "output_type": "stream",
          "name": "stdout",
          "text": [
            "{1, 2, 3, 4, 5}\n",
            "{1, 2, 3, 4, 5}\n"
          ]
        }
      ]
    },
    {
      "cell_type": "markdown",
      "source": [
        "📌 Adding and Removing Elements\n",
        "\n"
      ],
      "metadata": {
        "id": "E1dJfeZvx_Xo"
      }
    },
    {
      "cell_type": "code",
      "source": [
        "# Add element to set\n",
        "my_set.add(6)\n",
        "print(my_set)\n",
        "\n",
        "# Remove element from set\n",
        "my_set.remove(3)\n",
        "print(my_set)\n",
        "\n",
        "# Discard method (won't raise error if element not found)\n",
        "my_set.discard(10)\n",
        "print(my_set)"
      ],
      "metadata": {
        "id": "DM7puHGxyDPn",
        "outputId": "ca390fcd-9527-48be-e107-d7edce490cca",
        "colab": {
          "base_uri": "https://localhost:8080/"
        }
      },
      "execution_count": 2,
      "outputs": [
        {
          "output_type": "stream",
          "name": "stdout",
          "text": [
            "{1, 2, 3, 4, 5, 6}\n",
            "{1, 2, 4, 5, 6}\n",
            "{1, 2, 4, 5, 6}\n"
          ]
        }
      ]
    },
    {
      "cell_type": "markdown",
      "source": [
        "📌 Set Operations\n"
      ],
      "metadata": {
        "id": "HLjy-JIkyGFP"
      }
    },
    {
      "cell_type": "code",
      "source": [
        "a = {1, 2, 3}\n",
        "b = {3, 4, 5}\n",
        "\n",
        "# Union\n",
        "print(\"Union:\", a | b)\n",
        "\n",
        "# Intersection\n",
        "print(\"Intersection:\", a & b)\n",
        "\n",
        "# Difference\n",
        "print(\"Difference:\", a - b)\n",
        "\n",
        "# Symmetric Difference\n",
        "print(\"Symmetric Difference:\", a ^ b)"
      ],
      "metadata": {
        "id": "LQOlZ6TXyH2_",
        "outputId": "dee76b0e-1c07-43c2-8e89-f7585347f26e",
        "colab": {
          "base_uri": "https://localhost:8080/"
        }
      },
      "execution_count": 3,
      "outputs": [
        {
          "output_type": "stream",
          "name": "stdout",
          "text": [
            "Union: {1, 2, 3, 4, 5}\n",
            "Intersection: {3}\n",
            "Difference: {1, 2}\n",
            "Symmetric Difference: {1, 2, 4, 5}\n"
          ]
        }
      ]
    },
    {
      "cell_type": "markdown",
      "source": [
        "📌 Looping Through Set\n",
        "\n"
      ],
      "metadata": {
        "id": "zS0KnH1qyKLn"
      }
    },
    {
      "cell_type": "code",
      "source": [
        "# Looping through set\n",
        "for item in my_set:\n",
        "    print(item)"
      ],
      "metadata": {
        "id": "CvpUYML_yMwv",
        "outputId": "c4fe76c5-9674-4000-df2f-45f340dd846b",
        "colab": {
          "base_uri": "https://localhost:8080/"
        }
      },
      "execution_count": 4,
      "outputs": [
        {
          "output_type": "stream",
          "name": "stdout",
          "text": [
            "1\n",
            "2\n",
            "4\n",
            "5\n",
            "6\n"
          ]
        }
      ]
    }
  ]
}