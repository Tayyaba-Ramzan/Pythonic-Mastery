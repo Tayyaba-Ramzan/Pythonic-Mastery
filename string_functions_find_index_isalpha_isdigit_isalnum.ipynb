{
  "nbformat": 4,
  "nbformat_minor": 0,
  "metadata": {
    "colab": {
      "provenance": [],
      "authorship_tag": "ABX9TyPDdqDUHcPVJmCEIML72pgq",
      "include_colab_link": true
    },
    "kernelspec": {
      "name": "python3",
      "display_name": "Python 3"
    },
    "language_info": {
      "name": "python"
    }
  },
  "cells": [
    {
      "cell_type": "markdown",
      "metadata": {
        "id": "view-in-github",
        "colab_type": "text"
      },
      "source": [
        "<a href=\"https://colab.research.google.com/github/Tayyaba-Ramzan/Pythonic-Mastery/blob/main/string_functions_find_index_isalpha_isdigit_isalnum.ipynb\" target=\"_parent\"><img src=\"https://colab.research.google.com/assets/colab-badge.svg\" alt=\"Open In Colab\"/></a>"
      ]
    },
    {
      "cell_type": "markdown",
      "source": [
        "# ***String Functions in Python | find(), index(), isalpha(), isdigit(), isalnum() | Python Tutorial***\n"
      ],
      "metadata": {
        "id": "ZnxNF3dRmgG4"
      }
    },
    {
      "cell_type": "markdown",
      "source": [
        "\n",
        "In this tutorial, we will explore five useful string functions in Python:\n",
        "- `find()`\n",
        "- `index()`\n",
        "- `isalpha()`\n",
        "- `isdigit()`\n",
        "- `isalnum()`\n",
        "\n",
        "These functions help with searching, identifying characters, and validating strings."
      ],
      "metadata": {
        "id": "KJDdoLU4ml_2"
      }
    },
    {
      "cell_type": "markdown",
      "source": [
        "🔍 Using find()"
      ],
      "metadata": {
        "id": "K5dML2dVmw1n"
      }
    },
    {
      "cell_type": "code",
      "source": [
        "# 'find()' returns the lowest index of the substring if it's found.\n",
        "# If the substring is not found, it returns -1.\n",
        "\n",
        "department = \"Software Engineering\"\n",
        "\n",
        "# Find 'i' starting from index 13\n",
        "print(\"Find 'i' after index 13:\", department.find(\"i\", 13))\n",
        "\n",
        "# If 'z' is not found, it will return -1\n",
        "# print(department.find(\"z\"))  # Uncomment to see the result: -1\n"
      ],
      "metadata": {
        "id": "V9Ao24tImyem",
        "colab": {
          "base_uri": "https://localhost:8080/"
        },
        "outputId": "a33969a4-2dd2-4bd4-f9a9-7510f1fb8d4a"
      },
      "execution_count": 1,
      "outputs": [
        {
          "output_type": "stream",
          "name": "stdout",
          "text": [
            "Find 'i' after index 13: 17\n"
          ]
        }
      ]
    },
    {
      "cell_type": "markdown",
      "source": [
        "🔢 Using index()"
      ],
      "metadata": {
        "id": "3R0nMp3vm1G_"
      }
    },
    {
      "cell_type": "code",
      "source": [
        "# 'index()' is similar to 'find()', but raises a ValueError if the substring is not found.\n",
        "\n",
        "print(\"Index of 'S':\", department.index(\"S\"))\n",
        "\n",
        "# This will raise an error since 'x' is not in the string\n",
        "# print(department.index(\"x\"))  # Uncomment to see the ValueError"
      ],
      "metadata": {
        "id": "lYJCBeQBm4M-",
        "colab": {
          "base_uri": "https://localhost:8080/"
        },
        "outputId": "54ec6929-a1a4-48a0-bf1c-da70d7c1789f"
      },
      "execution_count": 2,
      "outputs": [
        {
          "output_type": "stream",
          "name": "stdout",
          "text": [
            "Index of 'S': 0\n"
          ]
        }
      ]
    },
    {
      "cell_type": "markdown",
      "source": [
        "🅰️ Using isalpha()"
      ],
      "metadata": {
        "id": "oRpaNh3Im6Pm"
      }
    },
    {
      "cell_type": "code",
      "source": [
        "# 'isalpha()' checks if all characters in the string are alphabetic (letters only).\n",
        "\n",
        "alpha = \"Hi\"\n",
        "print(\"Is 'Hi' alphabetic?\", alpha.isalpha())\n",
        "\n",
        "# Uncomment to test a string that is not alphabetic\n",
        "# non_alpha = \"Hello123\"\n",
        "# print(non_alpha.isalpha())  # This will return False"
      ],
      "metadata": {
        "id": "jTQx5WXZm9Ou",
        "colab": {
          "base_uri": "https://localhost:8080/"
        },
        "outputId": "42cf3169-ebc3-4145-97ad-ed158a356ac6"
      },
      "execution_count": 3,
      "outputs": [
        {
          "output_type": "stream",
          "name": "stdout",
          "text": [
            "Is 'Hi' alphabetic? True\n"
          ]
        }
      ]
    },
    {
      "cell_type": "markdown",
      "source": [
        "🔢 Using isdigit()"
      ],
      "metadata": {
        "id": "_Y0JkKVbm-6u"
      }
    },
    {
      "cell_type": "code",
      "source": [
        "# 'isdigit()' checks if all characters in the string are digits (numbers only).\n",
        "\n",
        "digit = \"123\"\n",
        "print(\"Is '123' a digit?\", digit.isdigit())\n",
        "\n",
        "# Uncomment to test a string with non-digit characters\n",
        "# non_digit = \"123a\"\n",
        "# print(non_digit.isdigit())  # This will return False"
      ],
      "metadata": {
        "id": "pUIdv3nenBc2",
        "colab": {
          "base_uri": "https://localhost:8080/"
        },
        "outputId": "486db73d-43f0-4c9c-c65c-33877602e92d"
      },
      "execution_count": 4,
      "outputs": [
        {
          "output_type": "stream",
          "name": "stdout",
          "text": [
            "Is '123' a digit? True\n"
          ]
        }
      ]
    },
    {
      "cell_type": "markdown",
      "source": [
        "🅰️🔢 Using isalnum()"
      ],
      "metadata": {
        "id": "vhPbTVfvnDB2"
      }
    },
    {
      "cell_type": "code",
      "source": [
        "# 'isalnum()' checks if all characters in the string are alphanumeric (letters or digits).\n",
        "\n",
        "isNum = \"hello123\"\n",
        "print(\"Is 'hello123' alphanumeric?\", isNum.isalnum())\n",
        "\n",
        "# Uncomment to test a string with special characters\n",
        "# special_char = \"hello@123\"\n",
        "# print(special_char.isalnum())  # This will return False"
      ],
      "metadata": {
        "id": "tzL5ALM_nG5P",
        "colab": {
          "base_uri": "https://localhost:8080/"
        },
        "outputId": "a5a63399-456f-49c8-a9a8-64671e9a1eb7"
      },
      "execution_count": 5,
      "outputs": [
        {
          "output_type": "stream",
          "name": "stdout",
          "text": [
            "Is 'hello123' alphanumeric? True\n"
          ]
        }
      ]
    },
    {
      "cell_type": "markdown",
      "source": [
        "## Summary:\n",
        "- `find()` - Returns the lowest index of the substring found, or -1 if not found.\n",
        "- `index()` - Similar to `find()`, but raises an error if the substring is not found.\n",
        "- `isalpha()` - Checks if all characters in the string are alphabetic.\n",
        "- `isdigit()` - Checks if all characters in the string are digits.\n",
        "- `isalnum()` - Checks if all characters in the string are alphanumeric (letters or digits).\n",
        "\n",
        "These functions are essential for string manipulation and validation in Python."
      ],
      "metadata": {
        "id": "T1duf4U-nIwf"
      }
    }
  ]
}