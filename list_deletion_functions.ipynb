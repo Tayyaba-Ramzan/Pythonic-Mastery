{
  "nbformat": 4,
  "nbformat_minor": 0,
  "metadata": {
    "colab": {
      "provenance": [],
      "authorship_tag": "ABX9TyPew4Oj+ma6/BM5SbsjvaMV",
      "include_colab_link": true
    },
    "kernelspec": {
      "name": "python3",
      "display_name": "Python 3"
    },
    "language_info": {
      "name": "python"
    }
  },
  "cells": [
    {
      "cell_type": "markdown",
      "metadata": {
        "id": "view-in-github",
        "colab_type": "text"
      },
      "source": [
        "<a href=\"https://colab.research.google.com/github/Tayyaba-Ramzan/Pythonic-Mastery/blob/main/list_deletion_functions.ipynb\" target=\"_parent\"><img src=\"https://colab.research.google.com/assets/colab-badge.svg\" alt=\"Open In Colab\"/></a>"
      ]
    },
    {
      "cell_type": "markdown",
      "source": [
        "# ***List Functions to Delete Elements | remove(), clear(), pop()***"
      ],
      "metadata": {
        "id": "BoICuPGkbgjc"
      }
    },
    {
      "cell_type": "markdown",
      "source": [
        "In this lesson, you will learn:\n",
        "- How to delete elements from a list\n",
        "- Difference between `remove()`, `pop()`, and `clear()`\n",
        "- When to use each function\n",
        "\n",
        "These functions are useful when you want to manipulate or clean up your list."
      ],
      "metadata": {
        "id": "loaCbTc4bj_K"
      }
    },
    {
      "cell_type": "markdown",
      "source": [
        "📌 remove() Function"
      ],
      "metadata": {
        "id": "Pu2p4QZSblo6"
      }
    },
    {
      "cell_type": "code",
      "source": [
        "# remove() - removes the first occurrence of the specified value\n",
        "names = [\"Tayyaba\", \"Ramzan\", \"Python\", \"Tayyaba\"]\n",
        "names.remove(\"Tayyaba\")\n",
        "print(\"After remove():\", names)"
      ],
      "metadata": {
        "id": "VF65_HOFbnoa",
        "outputId": "0c5c3fa8-13b8-4101-a6bd-910b35d53fd6",
        "colab": {
          "base_uri": "https://localhost:8080/"
        }
      },
      "execution_count": 1,
      "outputs": [
        {
          "output_type": "stream",
          "name": "stdout",
          "text": [
            "After remove(): ['Ramzan', 'Python', 'Tayyaba']\n"
          ]
        }
      ]
    },
    {
      "cell_type": "markdown",
      "source": [
        "📌 pop() Function"
      ],
      "metadata": {
        "id": "MiQI8P6Qbq5S"
      }
    },
    {
      "cell_type": "code",
      "source": [
        "# pop() - removes element at a given index (default is the last one)\n",
        "numbers = [10, 20, 30, 40, 50]\n",
        "removed_item = numbers.pop(2)\n",
        "print(\"After pop(2):\", numbers)\n",
        "print(\"Removed Item:\", removed_item)"
      ],
      "metadata": {
        "id": "x_bHGLP2btXS",
        "outputId": "0badf8b8-9c74-40e0-dbf1-c79b75fa57c0",
        "colab": {
          "base_uri": "https://localhost:8080/"
        }
      },
      "execution_count": 2,
      "outputs": [
        {
          "output_type": "stream",
          "name": "stdout",
          "text": [
            "After pop(2): [10, 20, 40, 50]\n",
            "Removed Item: 30\n"
          ]
        }
      ]
    },
    {
      "cell_type": "markdown",
      "source": [
        "📌 clear() Function"
      ],
      "metadata": {
        "id": "E1RUqL6MbvG6"
      }
    },
    {
      "cell_type": "code",
      "source": [
        "# clear() - removes all elements from the list\n",
        "languages = [\"Python\", \"JavaScript\", \"C++\"]\n",
        "languages.clear()\n",
        "print(\"After clear():\", languages)"
      ],
      "metadata": {
        "id": "LfAWYtrqbxI7",
        "outputId": "f6499e7d-e3d8-4161-9d98-c57f2ff997b4",
        "colab": {
          "base_uri": "https://localhost:8080/"
        }
      },
      "execution_count": 3,
      "outputs": [
        {
          "output_type": "stream",
          "name": "stdout",
          "text": [
            "After clear(): []\n"
          ]
        }
      ]
    },
    {
      "cell_type": "markdown",
      "source": [
        "## Summary\n",
        "\n",
        "- `remove(value)` deletes the first match of the value in the list.\n",
        "- `pop(index)` deletes an element by index and returns it.\n",
        "- `clear()` removes everything from the list.\n",
        "\n",
        "In the next lesson, we’ll learn about **list insert, extend, and slicing techniques**."
      ],
      "metadata": {
        "id": "RZ6U3QObbzjS"
      }
    }
  ]
}