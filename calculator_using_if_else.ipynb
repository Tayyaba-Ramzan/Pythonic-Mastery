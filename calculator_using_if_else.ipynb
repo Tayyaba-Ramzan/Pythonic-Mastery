{
  "nbformat": 4,
  "nbformat_minor": 0,
  "metadata": {
    "colab": {
      "provenance": [],
      "authorship_tag": "ABX9TyO3cTkOslzomrM7AMXpUJ6G",
      "include_colab_link": true
    },
    "kernelspec": {
      "name": "python3",
      "display_name": "Python 3"
    },
    "language_info": {
      "name": "python"
    }
  },
  "cells": [
    {
      "cell_type": "markdown",
      "metadata": {
        "id": "view-in-github",
        "colab_type": "text"
      },
      "source": [
        "<a href=\"https://colab.research.google.com/github/Tayyaba-Ramzan/Pythonic-Mastery/blob/main/calculator_using_if_else.ipynb\" target=\"_parent\"><img src=\"https://colab.research.google.com/assets/colab-badge.svg\" alt=\"Open In Colab\"/></a>"
      ]
    },
    {
      "cell_type": "markdown",
      "source": [
        "# ***How to Make a Calculator in Python (Using If-Else Statement)***"
      ],
      "metadata": {
        "id": "c74HRqXFlSkN"
      }
    },
    {
      "cell_type": "markdown",
      "source": [
        "In this tutorial, we will create a simple calculator using the `if-else` statement in Python. The calculator will take two numbers as input and perform basic arithmetic operations such as addition, subtraction, multiplication, and division.\n",
        "\n",
        "---\n",
        "\n",
        "***🧪 Example:***\n",
        "\n",
        "```python\n",
        "# Simple Calculator using if-else Statement\n",
        "\n",
        "# Taking input from the user\n",
        "num1 = float(input(\"Enter the first number: \"))\n",
        "num2 = float(input(\"Enter the second number: \"))\n",
        "operation = input(\"Choose operation (+, -, *, /): \")\n",
        "\n",
        "# Perform the calculation using if-else\n",
        "if operation == \"+\":\n",
        "    result = num1 + num2\n",
        "    print(f\"The result of {num1} + {num2} = {result}\")\n",
        "elif operation == \"-\":\n",
        "    result = num1 - num2\n",
        "    print(f\"The result of {num1} - {num2} = {result}\")\n",
        "elif operation == \"*\":\n",
        "    result = num1 * num2\n",
        "    print(f\"The result of {num1} * {num2} = {result}\")\n",
        "elif operation == \"/\":\n",
        "    if num2 != 0:\n",
        "        result = num1 / num2\n",
        "        print(f\"The result of {num1} / {num2} = {result}\")\n",
        "    else:\n",
        "        print(\"Error! Division by zero.\")\n",
        "else:\n",
        "    print(\"Invalid operation! Please choose from (+, -, *, /).\")"
      ],
      "metadata": {
        "id": "Fg06y_PIlb4S"
      }
    },
    {
      "cell_type": "code",
      "execution_count": 1,
      "metadata": {
        "colab": {
          "base_uri": "https://localhost:8080/"
        },
        "id": "xeEiRdtDkwr0",
        "outputId": "cbbc83be-936d-4fd5-e20a-c0f80ea9b73c"
      },
      "outputs": [
        {
          "output_type": "stream",
          "name": "stdout",
          "text": [
            "Enter the first value: 25\n",
            "Enter the second value: 5\n",
            "Enter the operator (+, -, *, /, %): /\n",
            "25.0 / 5.0 = 5.0\n"
          ]
        }
      ],
      "source": [
        "# Calculator in Python\n",
        "\n",
        "# Taking input values and operator from the user\n",
        "num1 = float(input(\"Enter the first value: \"))\n",
        "num2 = float(input(\"Enter the second value: \"))\n",
        "opr = input(\"Enter the operator (+, -, *, /, %): \")\n",
        "\n",
        "# Perform the calculation using if-else\n",
        "if opr == \"+\":\n",
        "    print(f\"{num1} + {num2} = {num1 + num2}\")\n",
        "elif opr == \"-\":\n",
        "    print(f\"{num1} - {num2} = {num1 - num2}\")\n",
        "elif opr == \"X\":\n",
        "    print(f\"{num1} * {num2} = {num1 * num2}\")\n",
        "elif opr == \"%\":\n",
        "    print(f\"{num1} % {num2} = {num1 % num2}\")\n",
        "elif opr == \"/\":\n",
        "    if num2 != 0:\n",
        "        print(f\"{num1} / {num2} = {num1 / num2}\")\n",
        "    else:\n",
        "        print(\"Error! Division by zero.\")\n",
        "else:\n",
        "    print(\"INVALID OPERATOR! Please enter a valid operator (+, -, *, /, %).\")\n"
      ]
    }
  ]
}