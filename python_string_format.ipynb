{
  "nbformat": 4,
  "nbformat_minor": 0,
  "metadata": {
    "colab": {
      "provenance": [],
      "authorship_tag": "ABX9TyN7Nvks5AGW8eihBe0P5RUs",
      "include_colab_link": true
    },
    "kernelspec": {
      "name": "python3",
      "display_name": "Python 3"
    },
    "language_info": {
      "name": "python"
    }
  },
  "cells": [
    {
      "cell_type": "markdown",
      "metadata": {
        "id": "view-in-github",
        "colab_type": "text"
      },
      "source": [
        "<a href=\"https://colab.research.google.com/github/Tayyaba-Ramzan/Pythonic-Mastery/blob/main/python_string_format.ipynb\" target=\"_parent\"><img src=\"https://colab.research.google.com/assets/colab-badge.svg\" alt=\"Open In Colab\"/></a>"
      ]
    },
    {
      "cell_type": "markdown",
      "source": [
        "# ***String Formatting in Python | Python Tutorial for Beginners***"
      ],
      "metadata": {
        "id": "5uUUVKk9odSG"
      }
    },
    {
      "cell_type": "markdown",
      "source": [
        "In this tutorial, we will explore different methods of string formatting in Python:\n",
        "- **f-strings (formatted string literals)**\n",
        "- **str.format() method**\n",
        "- **% formatting (old-style)**\n",
        "\n",
        "These methods allow you to insert variables or expressions inside strings in an efficient and readable way."
      ],
      "metadata": {
        "id": "eC5ptG4Nogmd"
      }
    },
    {
      "cell_type": "markdown",
      "source": [
        "🔢 Using Keyword Arguments"
      ],
      "metadata": {
        "id": "kCbM7m43oi8F"
      }
    },
    {
      "cell_type": "code",
      "source": [
        "# The 'format()' method can take keyword arguments and place them in the string.\n",
        "\n",
        "txt1 = \"Welcome {fname} {lname}\".format(fname=\"Tayyaba\", lname=\"Ramzan\")\n",
        "print(\"Using keyword arguments:\", txt1)"
      ],
      "metadata": {
        "colab": {
          "base_uri": "https://localhost:8080/"
        },
        "id": "Z211nKd-or-9",
        "outputId": "a137826d-1c7a-4d55-a2f7-9d37692c6505"
      },
      "execution_count": 1,
      "outputs": [
        {
          "output_type": "stream",
          "name": "stdout",
          "text": [
            "Using keyword arguments: Welcome Tayyaba Ramzan\n"
          ]
        }
      ]
    },
    {
      "cell_type": "markdown",
      "source": [
        "🔢 Using Positional Arguments"
      ],
      "metadata": {
        "id": "ydAD7usYou3d"
      }
    },
    {
      "cell_type": "code",
      "source": [
        "# The 'format()' method can also take positional arguments that are placed in the string by index.\n",
        "\n",
        "txt2 = \"Welcome to {0} {1}\".format(\"Tayyaba\", \"Ramzan\")\n",
        "print(\"Using positional arguments:\", txt2)"
      ],
      "metadata": {
        "colab": {
          "base_uri": "https://localhost:8080/"
        },
        "id": "ZW_HdjjyowOF",
        "outputId": "6d7ef824-0da1-4bb3-b271-daae1bfa5957"
      },
      "execution_count": 2,
      "outputs": [
        {
          "output_type": "stream",
          "name": "stdout",
          "text": [
            "Using positional arguments: Welcome to Tayyaba Ramzan\n"
          ]
        }
      ]
    },
    {
      "cell_type": "markdown",
      "source": [
        "🔢 Using Implicit Positional Arguments"
      ],
      "metadata": {
        "id": "WZAYlEa4oyX8"
      }
    },
    {
      "cell_type": "code",
      "source": [
        "# You can omit the index and just pass the values in order. The 'format()' method will automatically\n",
        "# insert them in the string based on their position.\n",
        "\n",
        "txt3 = \"Welcome to {} {}\".format(\"Tayyaba\", \"Ramzan\")\n",
        "print(\"Using implicit positional arguments:\", txt3)"
      ],
      "metadata": {
        "colab": {
          "base_uri": "https://localhost:8080/"
        },
        "id": "I1JTTLKQo0VF",
        "outputId": "1ffa9a32-3a53-43fc-85ac-6c73ca71cf2d"
      },
      "execution_count": 3,
      "outputs": [
        {
          "output_type": "stream",
          "name": "stdout",
          "text": [
            "Using implicit positional arguments: Welcome to Tayyaba Ramzan\n"
          ]
        }
      ]
    },
    {
      "cell_type": "markdown",
      "source": [
        "🔢 Alignment and Padding (Center)"
      ],
      "metadata": {
        "id": "OdLdvp_Bo2q1"
      }
    },
    {
      "cell_type": "code",
      "source": [
        "# The 'format()' method allows you to control alignment and padding of values in the string.\n",
        "# Here, we're centering the value and padding it with spaces.\n",
        "\n",
        "txt4 = \"My value is {a:^10} {b}\".format(a=10, b=30)\n",
        "print(\"Center-aligned:\", txt4)"
      ],
      "metadata": {
        "id": "eOB2Tn9vo5Gk"
      },
      "execution_count": null,
      "outputs": []
    },
    {
      "cell_type": "markdown",
      "source": [
        "🔢 Alignment and Padding (Left)"
      ],
      "metadata": {
        "id": "qNyQ2Rz8o6ss"
      }
    },
    {
      "cell_type": "code",
      "source": [
        "# The 'format()' method can also left-align values in the string.\n",
        "# In this case, the value is padded to the left.\n",
        "\n",
        "txt5 = \"My value is {a:<10} {b}\".format(a=10, b=30)\n",
        "print(\"Left-aligned:\", txt5)"
      ],
      "metadata": {
        "colab": {
          "base_uri": "https://localhost:8080/"
        },
        "id": "pW7MxuRno_y9",
        "outputId": "01847c12-d053-4464-a05f-87fe8199db94"
      },
      "execution_count": 4,
      "outputs": [
        {
          "output_type": "stream",
          "name": "stdout",
          "text": [
            "Left-aligned: My value is 10         30\n"
          ]
        }
      ]
    },
    {
      "cell_type": "markdown",
      "source": [
        "🔢 Alignment and Padding (Right)"
      ],
      "metadata": {
        "id": "MVo_siUKpCCN"
      }
    },
    {
      "cell_type": "code",
      "source": [
        "# The 'format()' method can right-align values in the string, padding them to the right.\n",
        "\n",
        "txt6 = \"My value is {a:>10} {b}\".format(a=10, b=30)\n",
        "print(\"Right-aligned:\", txt6)"
      ],
      "metadata": {
        "colab": {
          "base_uri": "https://localhost:8080/"
        },
        "id": "MBiUCvWppEaN",
        "outputId": "c51fcd9a-4c0b-48a9-9a4d-21a3a628d937"
      },
      "execution_count": 5,
      "outputs": [
        {
          "output_type": "stream",
          "name": "stdout",
          "text": [
            "Right-aligned: My value is         10 30\n"
          ]
        }
      ]
    },
    {
      "cell_type": "markdown",
      "source": [
        "## Summary:\n",
        "- **Positional Arguments**: Placeholders are replaced by the arguments passed in order.\n",
        "- **Keyword Arguments**: Use keywords to specify which value goes into which placeholder.\n",
        "- **Alignment**: Control the alignment of values inside the string (left, center, right).\n",
        "- **Padding**: Adjust the width of the values inside the placeholders for better formatting.\n",
        "\n",
        "These string formatting techniques help improve the readability and manageability of your Python code."
      ],
      "metadata": {
        "id": "-g99_gDqpIOt"
      }
    }
  ]
}