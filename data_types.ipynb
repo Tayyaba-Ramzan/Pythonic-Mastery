{
  "cells": [
    {
      "cell_type": "markdown",
      "metadata": {
        "id": "view-in-github",
        "colab_type": "text"
      },
      "source": [
        "<a href=\"https://colab.research.google.com/github/Tayyaba-Ramzan/Pythonic-Mastery/blob/main/data_types.ipynb\" target=\"_parent\"><img src=\"https://colab.research.google.com/assets/colab-badge.svg\" alt=\"Open In Colab\"/></a>"
      ]
    },
    {
      "cell_type": "markdown",
      "metadata": {
        "id": "fgAGz-gYXK4_"
      },
      "source": [
        "# ***Data Types in Python***\n"
      ]
    },
    {
      "cell_type": "markdown",
      "source": [
        "In this tutorial, we will learn about **different built-in data types** available in Python.\n",
        "\n",
        "Python has the following standard data types:\n",
        "\n",
        "int – for integers\n",
        "\n",
        "float – for decimal numbers\n",
        "\n",
        "complex – for complex numbers (e.g., 2 + 3j)\n",
        "\n",
        "str – for strings (text)\n",
        "\n",
        "bool – for Boolean values (True, False)\n",
        "\n",
        "list – ordered, mutable sequence\n",
        "\n",
        "tuple – ordered, immutable sequence\n",
        "\n",
        "set – unordered, unique values\n",
        "\n",
        "dict – key-value pairs\n",
        "\n",
        "## ***🧪 Examples:***\n",
        "\n",
        "# Integer\n",
        "a = 10\n",
        "\n",
        "# Float\n",
        "b = 5.5\n",
        "\n",
        "\n",
        "# Complex\n",
        "z = 2 + 3j\n",
        "\n",
        "# String\n",
        "name = \"Tayyaba\"\n",
        "\n",
        "# Boolean\n",
        "is_valid = True\n",
        "\n",
        "# List\n",
        "fruits = ['apple', 'banana', 'mango']\n",
        "\n",
        "# Tuple\n",
        "colors = ('red', 'green', 'blue')\n",
        "\n",
        "# Set\n",
        "unique_numbers = {1, 2, 3, 4}\n",
        "\n",
        "# Dictionary\n",
        "student = {'name': 'Tayyaba', 'age': 18}"
      ],
      "metadata": {
        "id": "8H0pdPY3e21h"
      }
    },
    {
      "cell_type": "code",
      "execution_count": 12,
      "metadata": {
        "colab": {
          "base_uri": "https://localhost:8080/"
        },
        "id": "0OVe903YYWyG",
        "outputId": "fa193ff3-b120-4ca8-9981-1fef5b02e624"
      },
      "outputs": [
        {
          "output_type": "stream",
          "name": "stdout",
          "text": [
            "Type of a (int): <class 'int'>\n"
          ]
        }
      ],
      "source": [
        "# Int\n",
        "a = 5\n",
        "print(f\"Type of a (int): {type(a)}\")  # <class 'int'>"
      ]
    },
    {
      "cell_type": "code",
      "source": [
        "# Float\n",
        "a = 0.3\n",
        "print(f\"Type of a (float): {type(a)}\")  # <class 'float'>"
      ],
      "metadata": {
        "colab": {
          "base_uri": "https://localhost:8080/"
        },
        "id": "rJ-2QWIDdCDa",
        "outputId": "fd3fe17a-efc9-4f81-b1b9-8bfb078322e0"
      },
      "execution_count": 13,
      "outputs": [
        {
          "output_type": "stream",
          "name": "stdout",
          "text": [
            "Type of a (float): <class 'float'>\n"
          ]
        }
      ]
    },
    {
      "cell_type": "code",
      "source": [
        "# Complex\n",
        "a = 2 + 5j\n",
        "print(f\"Type of a (complex): {type(a)}\")  # <class 'complex'>"
      ],
      "metadata": {
        "colab": {
          "base_uri": "https://localhost:8080/"
        },
        "id": "KPPhRqSpd0PS",
        "outputId": "c3f4d852-b0ac-4d84-d619-dd5400312559"
      },
      "execution_count": 18,
      "outputs": [
        {
          "output_type": "stream",
          "name": "stdout",
          "text": [
            "Type of a (complex): <class 'complex'>\n"
          ]
        }
      ]
    },
    {
      "cell_type": "code",
      "source": [
        "# String\n",
        "firstLetter = \"hello@133\"\n",
        "print(f\"Value: {firstLetter}, Type: {type(firstLetter)}\")  # <class 'str'>\n",
        "\n",
        "secondLetter = \"\"\"\n",
        "                    Python Program\n",
        "\"\"\"\n",
        "print(f\"Value: {secondLetter}, Type: {type(secondLetter)}\")  # <class 'str'>"
      ],
      "metadata": {
        "colab": {
          "base_uri": "https://localhost:8080/"
        },
        "id": "wJxh4yaEdFWB",
        "outputId": "51f37361-6c61-462c-ca18-1eb039b95304"
      },
      "execution_count": 14,
      "outputs": [
        {
          "output_type": "stream",
          "name": "stdout",
          "text": [
            "Value: hello@133, Type: <class 'str'>\n",
            "Value: \n",
            "                    Python Program\n",
            ", Type: <class 'str'>\n"
          ]
        }
      ]
    },
    {
      "cell_type": "code",
      "source": [
        "# Boolean\n",
        "a = True\n",
        "b = False\n",
        "print(\"Boolean a:\", a, type(a))\n",
        "print(\"Boolean b:\", b, type(b))\n"
      ],
      "metadata": {
        "colab": {
          "base_uri": "https://localhost:8080/"
        },
        "id": "s2Wtmnr0dTth",
        "outputId": "b48f084f-6b26-427a-c026-e112657dac4d"
      },
      "execution_count": 16,
      "outputs": [
        {
          "output_type": "stream",
          "name": "stdout",
          "text": [
            "Boolean a: True <class 'bool'>\n",
            "Boolean b: False <class 'bool'>\n"
          ]
        }
      ]
    },
    {
      "cell_type": "code",
      "source": [
        "# List (Mutable)\n",
        "list = [10, \"tayyaba\", 2.4]\n",
        "list[2] = 15  # List is mutable, so we can modify values\n",
        "print(f\"List: {list}, Type: {type(list)}\")  # <class 'list'>"
      ],
      "metadata": {
        "colab": {
          "base_uri": "https://localhost:8080/"
        },
        "id": "ooCOk1XTdX9p",
        "outputId": "2068c021-fc08-45eb-a486-5dfa5d4e6fb1"
      },
      "execution_count": 22,
      "outputs": [
        {
          "output_type": "stream",
          "name": "stdout",
          "text": [
            "List: [10, 'tayyaba', 15], Type: <class 'list'>\n"
          ]
        }
      ]
    },
    {
      "cell_type": "code",
      "source": [
        "# Tuple (Immutable)\n",
        "tuple = (10, 20, \"ramzan\", 2j)\n",
        "print(f\"Tuple: {tuple}, Type: {type(tuple)}\")  # <class 'tuple'>"
      ],
      "metadata": {
        "colab": {
          "base_uri": "https://localhost:8080/"
        },
        "id": "EyvJJbxOdZzh",
        "outputId": "04c97576-d202-4728-8992-2348114c30bd"
      },
      "execution_count": 21,
      "outputs": [
        {
          "output_type": "stream",
          "name": "stdout",
          "text": [
            "Tuple: (10, 20, 'ramzan', 2j), Type: <class 'tuple'>\n"
          ]
        }
      ]
    },
    {
      "cell_type": "code",
      "source": [
        "# Set (Mutable but unordered)\n",
        "s = {1, 2, 3}\n",
        "print(f\"Set: {s}, Type: {type(s)}\")  # <class 'set'>"
      ],
      "metadata": {
        "colab": {
          "base_uri": "https://localhost:8080/"
        },
        "id": "vJXl1Plbdcr5",
        "outputId": "6c65ebf1-657e-4d81-9197-44361c73d35c"
      },
      "execution_count": 20,
      "outputs": [
        {
          "output_type": "stream",
          "name": "stdout",
          "text": [
            "Set: {1, 2, 3}, Type: <class 'set'>\n"
          ]
        }
      ]
    },
    {
      "cell_type": "code",
      "source": [
        "# Dictionary (Mutable)\n",
        "dict = {\n",
        "    \"courseName\": \"Python\",\n",
        "    \"courseDuration\": \"3 Month\"\n",
        "}\n",
        "print(f\"Dictionary: {dict}, Type: {type(dict)}\")  # <class 'dict'>\n",
        "print(f\"Course Duration: {dict['courseDuration']}\")"
      ],
      "metadata": {
        "colab": {
          "base_uri": "https://localhost:8080/"
        },
        "id": "9-G1OM3kdekJ",
        "outputId": "39afaf09-51d8-407e-9452-4804fcbfedfe"
      },
      "execution_count": 19,
      "outputs": [
        {
          "output_type": "stream",
          "name": "stdout",
          "text": [
            "Dictionary: {'courseName': 'Python', 'courseDuration': '3 Month'}, Type: <class 'dict'>\n",
            "Course Duration: 3 Month\n"
          ]
        }
      ]
    }
  ],
  "metadata": {
    "colab": {
      "provenance": [],
      "authorship_tag": "ABX9TyOtQ9gAKiGALiK/X7Tah0Bv",
      "include_colab_link": true
    },
    "kernelspec": {
      "display_name": "Python 3",
      "name": "python3"
    },
    "language_info": {
      "name": "python"
    }
  },
  "nbformat": 4,
  "nbformat_minor": 0
}