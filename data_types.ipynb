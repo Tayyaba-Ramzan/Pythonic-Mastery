{
  "cells": [
    {
      "cell_type": "markdown",
      "metadata": {
        "id": "view-in-github",
        "colab_type": "text"
      },
      "source": [
        "<a href=\"https://colab.research.google.com/github/Tayyaba-Ramzan/Pythonic-Mastery/blob/main/data_types.ipynb\" target=\"_parent\"><img src=\"https://colab.research.google.com/assets/colab-badge.svg\" alt=\"Open In Colab\"/></a>"
      ]
    },
    {
      "cell_type": "markdown",
      "metadata": {
        "id": "fgAGz-gYXK4_"
      },
      "source": [
        "# ***Data Types in Python***\n",
        "\n",
        "In this tutorial, we will learn about **different built-in data types** available in Python.\n",
        "\n",
        "Python has the following standard data types:\n",
        "\n",
        "- `int` – for integers  \n",
        "- `float` – for decimal numbers  \n",
        "- `str` – for strings (text)  \n",
        "- `bool` – for Boolean values (`True`, `False`)  \n",
        "- `list` – ordered, mutable sequence  \n",
        "- `tuple` – ordered, immutable sequence  \n",
        "- `set` – unordered, unique values  \n",
        "- `dict` – key-value pairs  \n",
        "\n",
        "### 🧪 Examples:\n",
        "```python\n",
        "# Integer\n",
        "a = 10\n",
        "\n",
        "# Float\n",
        "b = 5.5\n",
        "\n",
        "# String\n",
        "name = \"Tayyaba\"\n",
        "\n",
        "# Boolean\n",
        "is_valid = True\n",
        "\n",
        "# List\n",
        "fruits = ['apple', 'banana', 'mango']\n",
        "\n",
        "# Tuple\n",
        "colors = ('red', 'green', 'blue')\n",
        "\n",
        "# Set\n",
        "unique_numbers = {1, 2, 3, 4}\n",
        "\n",
        "# Dictionary\n",
        "student = {'name': 'Tayyaba', 'age': 18}"
      ]
    },
    {
      "cell_type": "code",
      "execution_count": null,
      "metadata": {
        "colab": {
          "base_uri": "https://localhost:8080/"
        },
        "id": "6Rvc-T2BXIGM",
        "outputId": "5d794d91-4770-48fa-bb24-bc6b0e1fcb1d"
      },
      "outputs": [
        {
          "name": "stdout",
          "output_type": "stream",
          "text": [
            "Type of a (int): <class 'int'>\n",
            "Type of a (float): <class 'float'>\n",
            "Type of a (complex): <class 'complex'>\n",
            "Value: hello@133, Type: <class 'str'>\n",
            "Value: \n",
            "                    Python Program\n",
            ", Type: <class 'str'>\n",
            "List: [10, 'tayyaba', 15], Type: <class 'list'>\n",
            "Tuple: (10, 20, 'ramzan', 2j), Type: <class 'tuple'>\n",
            "Dictionary: {'courseName': 'Python', 'courseDuration': '3 Month'}, Type: <class 'dict'>\n",
            "Course Duration: 3 Month\n",
            "Set: {1, 2, 3}, Type: <class 'set'>\n"
          ]
        }
      ],
      "source": [
        "# Int\n",
        "a = 5\n",
        "print(f\"Type of a (int): {type(a)}\")  # <class 'int'>\n",
        "\n",
        "# Float\n",
        "a = 0.3\n",
        "print(f\"Type of a (float): {type(a)}\")  # <class 'float'>\n",
        "\n",
        "# Complex\n",
        "a = 2 + 5j\n",
        "print(f\"Type of a (complex): {type(a)}\")  # <class 'complex'>\n",
        "\n",
        "# String\n",
        "firstLetter = \"hello@133\"\n",
        "print(f\"Value: {firstLetter}, Type: {type(firstLetter)}\")  # <class 'str'>\n",
        "\n",
        "secondLetter = \"\"\"\n",
        "                    Python Program\n",
        "\"\"\"\n",
        "print(f\"Value: {secondLetter}, Type: {type(secondLetter)}\")  # <class 'str'>\n",
        "\n",
        "# List (Mutable)\n",
        "list = [10, \"tayyaba\", 2.4]\n",
        "list[2] = 15  # List is mutable, so we can modify values\n",
        "print(f\"List: {list}, Type: {type(list)}\")  # <class 'list'>\n",
        "\n",
        "# Tuple (Immutable)\n",
        "tuple = (10, 20, \"ramzan\", 2j)\n",
        "print(f\"Tuple: {tuple}, Type: {type(tuple)}\")  # <class 'tuple'>\n",
        "\n",
        "# Dictionary (Mutable)\n",
        "dict = {\n",
        "    \"courseName\": \"Python\",\n",
        "    \"courseDuration\": \"3 Month\"\n",
        "}\n",
        "print(f\"Dictionary: {dict}, Type: {type(dict)}\")  # <class 'dict'>\n",
        "print(f\"Course Duration: {dict['courseDuration']}\")\n",
        "\n",
        "# Set (Mutable but unordered)\n",
        "s = {1, 2, 3}\n",
        "print(f\"Set: {s}, Type: {type(s)}\")  # <class 'set'>\n"
      ]
    },
    {
      "cell_type": "code",
      "execution_count": null,
      "metadata": {
        "colab": {
          "background_save": true
        },
        "id": "0OVe903YYWyG",
        "outputId": "58a4b234-10ca-4b88-e285-9a71558451e1"
      },
      "outputs": [
        {
          "name": "stdout",
          "output_type": "stream",
          "text": [
            "Type of a (int): <class 'int'>\n"
          ]
        }
      ],
      "source": []
    }
  ],
  "metadata": {
    "colab": {
      "provenance": [],
      "authorship_tag": "ABX9TyMNQPHsj2u+6OPovev7HWLy",
      "include_colab_link": true
    },
    "kernelspec": {
      "display_name": "Python 3",
      "name": "python3"
    },
    "language_info": {
      "name": "python"
    }
  },
  "nbformat": 4,
  "nbformat_minor": 0
}