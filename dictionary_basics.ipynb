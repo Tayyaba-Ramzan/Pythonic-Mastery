{
  "nbformat": 4,
  "nbformat_minor": 0,
  "metadata": {
    "colab": {
      "provenance": [],
      "authorship_tag": "ABX9TyNzIze1JnzAKWiIn6ZHl5XH",
      "include_colab_link": true
    },
    "kernelspec": {
      "name": "python3",
      "display_name": "Python 3"
    },
    "language_info": {
      "name": "python"
    }
  },
  "cells": [
    {
      "cell_type": "markdown",
      "metadata": {
        "id": "view-in-github",
        "colab_type": "text"
      },
      "source": [
        "<a href=\"https://colab.research.google.com/github/Tayyaba-Ramzan/Pythonic-Mastery/blob/main/dictionary_basics.ipynb\" target=\"_parent\"><img src=\"https://colab.research.google.com/assets/colab-badge.svg\" alt=\"Open In Colab\"/></a>"
      ]
    },
    {
      "cell_type": "markdown",
      "source": [
        "# ***What is Dictionary in Python - Complete Tutorial for Beginners***"
      ],
      "metadata": {
        "id": "W3uSt_BczRPT"
      }
    },
    {
      "cell_type": "markdown",
      "source": [
        "A **dictionary** in Python is an unordered collection of data values used to store data in **key:value** pairs.  \n",
        "It is mutable and allows duplicate-free values with fast access using keys.\n",
        "\n",
        "## Key Features:\n",
        "- Uses `{}` curly braces\n",
        "- Keys must be unique and immutable\n",
        "- Values can be of any data type"
      ],
      "metadata": {
        "id": "95vPMc4QzVSD"
      }
    },
    {
      "cell_type": "markdown",
      "source": [
        "📌 Creating a Dictionary"
      ],
      "metadata": {
        "id": "GDidHfL6zXVy"
      }
    },
    {
      "cell_type": "code",
      "source": [
        "# Creating a dictionary\n",
        "student = {\n",
        "    \"name\": \"Tayyaba Ramzan\",\n",
        "    \"age\": 20,\n",
        "    \"course\": \"Python Programming\"\n",
        "}\n",
        "\n",
        "print(student)"
      ],
      "metadata": {
        "colab": {
          "base_uri": "https://localhost:8080/"
        },
        "id": "TQgWisk8zZoC",
        "outputId": "d253c8f1-dee8-4a5e-b1af-b9cb2ccb647b"
      },
      "execution_count": 5,
      "outputs": [
        {
          "output_type": "stream",
          "name": "stdout",
          "text": [
            "{'name': 'Tayyaba Ramzan', 'age': 20, 'course': 'Python Programming'}\n"
          ]
        }
      ]
    },
    {
      "cell_type": "markdown",
      "source": [
        "📌 Accessing Dictionary Values"
      ],
      "metadata": {
        "id": "Kkbo_AcizhLa"
      }
    },
    {
      "cell_type": "code",
      "source": [
        "# Access values using keys\n",
        "print(\"Name:\", student[\"name\"])\n",
        "print(\"Age:\", student[\"age\"])"
      ],
      "metadata": {
        "colab": {
          "base_uri": "https://localhost:8080/"
        },
        "id": "3NojTW-0ziha",
        "outputId": "77fd39b9-80a6-4cf9-f22a-04f603091287"
      },
      "execution_count": 2,
      "outputs": [
        {
          "output_type": "stream",
          "name": "stdout",
          "text": [
            "Name: Tayyaba Ramzan\n",
            "Age: 20\n"
          ]
        }
      ]
    },
    {
      "cell_type": "markdown",
      "source": [
        "📌 Adding & Updating Values"
      ],
      "metadata": {
        "id": "LSsuoMgZzlgq"
      }
    },
    {
      "cell_type": "code",
      "source": [
        "# Add a new key-value pair\n",
        "student[\"grade\"] = \"A\"\n",
        "\n",
        "# Update an existing value\n",
        "student[\"age\"] = 21\n",
        "\n",
        "print(student)"
      ],
      "metadata": {
        "colab": {
          "base_uri": "https://localhost:8080/"
        },
        "id": "xv2TRboGzn43",
        "outputId": "7e5eb756-1a76-4529-929c-07271609ba82"
      },
      "execution_count": 3,
      "outputs": [
        {
          "output_type": "stream",
          "name": "stdout",
          "text": [
            "{'name': 'Tayyaba Ramzan', 'age': 21, 'course': 'Python Programming', 'grade': 'A'}\n"
          ]
        }
      ]
    },
    {
      "cell_type": "markdown",
      "source": [
        "📌 Removing Items from Dictionary"
      ],
      "metadata": {
        "id": "cOqFzuZXzp6K"
      }
    },
    {
      "cell_type": "code",
      "source": [
        "# Remove a key-value pair using pop\n",
        "student.pop(\"course\")\n",
        "\n",
        "# Remove the last inserted item using popitem\n",
        "student.popitem()\n",
        "\n",
        "print(student)"
      ],
      "metadata": {
        "colab": {
          "base_uri": "https://localhost:8080/"
        },
        "id": "AZwc3Q64zsAS",
        "outputId": "678a57a3-09ee-4f8b-cafb-40edd5db605c"
      },
      "execution_count": 6,
      "outputs": [
        {
          "output_type": "stream",
          "name": "stdout",
          "text": [
            "{'name': 'Tayyaba Ramzan'}\n"
          ]
        }
      ]
    },
    {
      "cell_type": "markdown",
      "source": [
        "📌 Dictionary Methods"
      ],
      "metadata": {
        "id": "vP7NkxNtztfL"
      }
    },
    {
      "cell_type": "code",
      "source": [
        "# Get keys, values, and items\n",
        "print(\"Keys:\", student.keys())\n",
        "print(\"Values:\", student.values())\n",
        "print(\"Items:\", student.items())"
      ],
      "metadata": {
        "colab": {
          "base_uri": "https://localhost:8080/"
        },
        "id": "PKeY312IzviL",
        "outputId": "70b9d97e-9f78-4d36-bf97-c240328f7165"
      },
      "execution_count": 4,
      "outputs": [
        {
          "output_type": "stream",
          "name": "stdout",
          "text": [
            "Keys: dict_keys(['name', 'age', 'course', 'grade'])\n",
            "Values: dict_values(['Tayyaba Ramzan', 21, 'Python Programming', 'A'])\n",
            "Items: dict_items([('name', 'Tayyaba Ramzan'), ('age', 21), ('course', 'Python Programming'), ('grade', 'A')])\n"
          ]
        }
      ]
    }
  ]
}