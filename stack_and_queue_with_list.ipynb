{
  "nbformat": 4,
  "nbformat_minor": 0,
  "metadata": {
    "colab": {
      "provenance": [],
      "authorship_tag": "ABX9TyMT9nncSyGwznzddr6Trvdg",
      "include_colab_link": true
    },
    "kernelspec": {
      "name": "python3",
      "display_name": "Python 3"
    },
    "language_info": {
      "name": "python"
    }
  },
  "cells": [
    {
      "cell_type": "markdown",
      "metadata": {
        "id": "view-in-github",
        "colab_type": "text"
      },
      "source": [
        "<a href=\"https://colab.research.google.com/github/Tayyaba-Ramzan/Pythonic-Mastery/blob/main/stack_and_queue_with_list.ipynb\" target=\"_parent\"><img src=\"https://colab.research.google.com/assets/colab-badge.svg\" alt=\"Open In Colab\"/></a>"
      ]
    },
    {
      "cell_type": "markdown",
      "source": [
        "# ***How to Use List Data Type to Implement a Stack and Queue in Python***\n"
      ],
      "metadata": {
        "id": "FekLZsalyuXD"
      }
    },
    {
      "cell_type": "markdown",
      "source": [
        "In this lesson, we will learn how to use Python's built-in `list` data type to implement:\n",
        "\n",
        "- A **Stack** (Last-In-First-Out)\n",
        "- A **Queue** (First-In-First-Out)\n",
        "\n",
        "Python lists provide built-in methods such as `append()`, `pop()`, and `pop(0)` which we will use to simulate stack and queue behavior."
      ],
      "metadata": {
        "id": "QlgfIW3gywqr"
      }
    },
    {
      "cell_type": "markdown",
      "source": [
        "📌 Implementing a Stack using List"
      ],
      "metadata": {
        "id": "0MD5SuxRyysZ"
      }
    },
    {
      "cell_type": "code",
      "source": [
        "# Stack Implementation using List\n",
        "stack = []\n",
        "\n",
        "# Push elements\n",
        "stack.append('A')\n",
        "stack.append('B')\n",
        "stack.append('C')\n",
        "print(\"Stack after pushing:\", stack)\n",
        "\n",
        "# Pop element\n",
        "print(\"Popped element:\", stack.pop())\n",
        "print(\"Stack after popping:\", stack)"
      ],
      "metadata": {
        "colab": {
          "base_uri": "https://localhost:8080/"
        },
        "id": "1xseaHbsy1Cz",
        "outputId": "4c394aaa-d5a6-46a3-935d-9793918c9a12"
      },
      "execution_count": 2,
      "outputs": [
        {
          "output_type": "stream",
          "name": "stdout",
          "text": [
            "Stack after pushing: ['A', 'B', 'C']\n",
            "Popped element: C\n",
            "Stack after popping: ['A', 'B']\n"
          ]
        }
      ]
    },
    {
      "cell_type": "markdown",
      "source": [
        "📌 Implementing a Queue using List\n",
        "\n"
      ],
      "metadata": {
        "id": "W-OtfZx8y23z"
      }
    },
    {
      "cell_type": "code",
      "source": [
        "# Queue Implementation using List\n",
        "queue = []\n",
        "\n",
        "# Enqueue elements\n",
        "queue.append('A')\n",
        "queue.append('B')\n",
        "queue.append('C')\n",
        "print(\"Queue after enqueuing:\", queue)\n",
        "\n",
        "# Dequeue element\n",
        "print(\"Dequeued element:\", queue.pop(0))\n",
        "print(\"Queue after dequeuing:\", queue)"
      ],
      "metadata": {
        "colab": {
          "base_uri": "https://localhost:8080/"
        },
        "id": "_KJZzf3Vy5Lj",
        "outputId": "fc149d7d-6545-4595-aa62-2a74f7128e26"
      },
      "execution_count": 1,
      "outputs": [
        {
          "output_type": "stream",
          "name": "stdout",
          "text": [
            "Queue after enqueuing: ['A', 'B', 'C']\n",
            "Dequeued element: A\n",
            "Queue after dequeuing: ['B', 'C']\n"
          ]
        }
      ]
    }
  ]
}