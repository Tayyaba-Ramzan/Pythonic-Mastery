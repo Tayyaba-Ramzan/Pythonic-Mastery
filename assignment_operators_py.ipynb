{
  "nbformat": 4,
  "nbformat_minor": 0,
  "metadata": {
    "colab": {
      "provenance": [],
      "authorship_tag": "ABX9TyOWFqosCpSBknETgZXSpgYr",
      "include_colab_link": true
    },
    "kernelspec": {
      "name": "python3",
      "display_name": "Python 3"
    },
    "language_info": {
      "name": "python"
    }
  },
  "cells": [
    {
      "cell_type": "markdown",
      "metadata": {
        "id": "view-in-github",
        "colab_type": "text"
      },
      "source": [
        "<a href=\"https://colab.research.google.com/github/Tayyaba-Ramzan/Pythonic-Mastery/blob/main/assignment_operators_py.ipynb\" target=\"_parent\"><img src=\"https://colab.research.google.com/assets/colab-badge.svg\" alt=\"Open In Colab\"/></a>"
      ]
    },
    {
      "cell_type": "markdown",
      "source": [
        "# ***Assignment Operators in Python (Explained in Hindi)***\n",
        "\n",
        "In this step, we will explore Assignment Operators in Python. These operators are used to assign values to variables, such as `=`, `+=`, `-=`, `*=`, `/=`, and more.\n",
        "\n"
      ],
      "metadata": {
        "id": "9h08wBM-8okf"
      }
    },
    {
      "cell_type": "code",
      "execution_count": 1,
      "metadata": {
        "colab": {
          "base_uri": "https://localhost:8080/"
        },
        "id": "C-Ao5DYs8m3e",
        "outputId": "066fbfed-d026-47fd-bc56-7da1f9932c0c"
      },
      "outputs": [
        {
          "output_type": "stream",
          "name": "stdout",
          "text": [
            "x = 10\n",
            "x += 5 ➝ 15\n",
            "x -= 3 ➝ 12\n",
            "x *= 2 ➝ 24\n",
            "x /= 4 ➝ 6.0\n",
            "x %= 3 ➝ 0.0\n"
          ]
        }
      ],
      "source": [
        "# Simple Assignment\n",
        "x = 10\n",
        "print(\"x =\", x)\n",
        "\n",
        "# Add and Assign\n",
        "x += 5   # x = x + 5\n",
        "print(\"x += 5 ➝\", x)\n",
        "\n",
        "# Subtract and Assign\n",
        "x -= 3   # x = x - 3\n",
        "print(\"x -= 3 ➝\", x)\n",
        "\n",
        "# Multiply and Assign\n",
        "x *= 2   # x = x * 2\n",
        "print(\"x *= 2 ➝\", x)\n",
        "\n",
        "# Divide and Assign\n",
        "x /= 4   # x = x / 4\n",
        "print(\"x /= 4 ➝\", x)\n",
        "\n",
        "# Modulus and Assign\n",
        "x %= 3   # x = x % 3\n",
        "print(\"x %= 3 ➝\", x)\n"
      ]
    }
  ]
}