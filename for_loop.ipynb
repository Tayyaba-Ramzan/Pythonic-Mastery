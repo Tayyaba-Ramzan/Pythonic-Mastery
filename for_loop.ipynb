{
  "nbformat": 4,
  "nbformat_minor": 0,
  "metadata": {
    "colab": {
      "provenance": [],
      "authorship_tag": "ABX9TyNJs88uz+98Pu+vRvtcMecl",
      "include_colab_link": true
    },
    "kernelspec": {
      "name": "python3",
      "display_name": "Python 3"
    },
    "language_info": {
      "name": "python"
    }
  },
  "cells": [
    {
      "cell_type": "markdown",
      "metadata": {
        "id": "view-in-github",
        "colab_type": "text"
      },
      "source": [
        "<a href=\"https://colab.research.google.com/github/Tayyaba-Ramzan/Pythonic-Mastery/blob/main/for_loop.ipynb\" target=\"_parent\"><img src=\"https://colab.research.google.com/assets/colab-badge.svg\" alt=\"Open In Colab\"/></a>"
      ]
    },
    {
      "cell_type": "markdown",
      "source": [
        "# ***What is For Loop in Python | Data on Repeat | Python Tutorials***"
      ],
      "metadata": {
        "id": "gDhk1Uj7wDnb"
      }
    },
    {
      "cell_type": "markdown",
      "source": [
        "In this tutorial, we will explore how to use the `for` loop in Python. The `for` loop is used to iterate over a sequence (like a list, tuple, or string) and repeat operations multiple times. We will demonstrate its basic usage and provide an example where it helps in iterating over a list of numbers.\n"
      ],
      "metadata": {
        "id": "vIF71M-CeK6N"
      }
    },
    {
      "cell_type": "markdown",
      "source": [
        "---\n",
        "\n",
        "***🧪 Example:***\n",
        "\n",
        "```python\n",
        "# For Loop Example: Iterate over a list of numbers\n",
        "\n",
        "# List of numbers\n",
        "numbers = [1, 2, 3, 4, 5]\n",
        "\n",
        "# Using for loop to print each number\n",
        "for num in numbers:\n",
        "    print(f\"Current number is: {num}\")\n",
        "\n",
        "# Additional example: Sum all numbers in the list\n",
        "total_sum = 0\n",
        "for num in numbers:\n",
        "    total_sum += num\n",
        "\n",
        "print(f\"The total sum of the numbers is: {total_sum}\")"
      ],
      "metadata": {
        "id": "-parvJWLwHS5"
      }
    },
    {
      "cell_type": "code",
      "execution_count": 1,
      "metadata": {
        "id": "vYQxYLmevuqo",
        "colab": {
          "base_uri": "https://localhost:8080/"
        },
        "outputId": "bb5e3e7b-68c2-4a25-95bb-e6ff77fa5c13"
      },
      "outputs": [
        {
          "output_type": "stream",
          "name": "stdout",
          "text": [
            "0\n",
            "1\n",
            "2\n",
            "3\n",
            "4\n"
          ]
        }
      ],
      "source": [
        "# Example 1: range(5) - Default start=0, condition <5, increment=1\n",
        "# Value: (0, 1, 2, 3, 4)\n",
        "for n in range(5):\n",
        "    print(n)\n"
      ]
    },
    {
      "cell_type": "code",
      "source": [
        "# Example 2: range(1,6) - Start=1, condition <6, increment=1\n",
        "# Value: (1, 2, 3, 4, 5)\n",
        "for n in range(1,6):\n",
        "    print(n)\n"
      ],
      "metadata": {
        "id": "Rt8PanY3wecS",
        "colab": {
          "base_uri": "https://localhost:8080/"
        },
        "outputId": "3b240c66-e6c8-42b3-a6a2-0b8762d749da"
      },
      "execution_count": 2,
      "outputs": [
        {
          "output_type": "stream",
          "name": "stdout",
          "text": [
            "1\n",
            "2\n",
            "3\n",
            "4\n",
            "5\n"
          ]
        }
      ]
    },
    {
      "cell_type": "code",
      "source": [
        "# Example 3: range(1,8,2) - Start=1, condition <8, increment=2\n",
        "# Value: (1, 3, 5, 7)\n",
        "for n in range(1,8,2):\n",
        "    print(n)"
      ],
      "metadata": {
        "id": "fcj6EdVTwhiR",
        "colab": {
          "base_uri": "https://localhost:8080/"
        },
        "outputId": "bbd2d69b-9e64-4cb1-f50f-30878c175d54"
      },
      "execution_count": 3,
      "outputs": [
        {
          "output_type": "stream",
          "name": "stdout",
          "text": [
            "1\n",
            "3\n",
            "5\n",
            "7\n"
          ]
        }
      ]
    },
    {
      "cell_type": "code",
      "source": [
        "# Example 4: Table of Two (2)\n",
        "# Print multiplication table of 2\n",
        "for n in range(1,11,1):\n",
        "    print(2, \"X\", n, \"=\", 2*n)"
      ],
      "metadata": {
        "id": "RXb59yslwjBZ",
        "colab": {
          "base_uri": "https://localhost:8080/"
        },
        "outputId": "1c9534ca-59a9-4dd5-ab34-0079cf2433af"
      },
      "execution_count": 4,
      "outputs": [
        {
          "output_type": "stream",
          "name": "stdout",
          "text": [
            "2 X 1 = 2\n",
            "2 X 2 = 4\n",
            "2 X 3 = 6\n",
            "2 X 4 = 8\n",
            "2 X 5 = 10\n",
            "2 X 6 = 12\n",
            "2 X 7 = 14\n",
            "2 X 8 = 16\n",
            "2 X 9 = 18\n",
            "2 X 10 = 20\n"
          ]
        }
      ]
    },
    {
      "cell_type": "code",
      "source": [
        "# Example 5: Print Name 10 times\n",
        "for n in range(11):\n",
        "    print(\"Tayyaba Ramzan\")\n"
      ],
      "metadata": {
        "id": "94zForrrwoKp",
        "colab": {
          "base_uri": "https://localhost:8080/"
        },
        "outputId": "9a6a9c39-4445-4669-cdea-9741b7f4f0ad"
      },
      "execution_count": 5,
      "outputs": [
        {
          "output_type": "stream",
          "name": "stdout",
          "text": [
            "Tayyaba Ramzan\n",
            "Tayyaba Ramzan\n",
            "Tayyaba Ramzan\n",
            "Tayyaba Ramzan\n",
            "Tayyaba Ramzan\n",
            "Tayyaba Ramzan\n",
            "Tayyaba Ramzan\n",
            "Tayyaba Ramzan\n",
            "Tayyaba Ramzan\n",
            "Tayyaba Ramzan\n",
            "Tayyaba Ramzan\n"
          ]
        }
      ]
    },
    {
      "cell_type": "code",
      "source": [
        "# Example 6: Reverse range(10,0,-1) - Start=10, condition >0, decrement=-1\n",
        "# Value: (10, 9, 8, 7, 6, 5, 4, 3, 2, 1)\n",
        "for n in range(10, 0, -1):\n",
        "    print(n)"
      ],
      "metadata": {
        "id": "zsTVkMlKwqZR",
        "colab": {
          "base_uri": "https://localhost:8080/"
        },
        "outputId": "78557554-88df-4c87-b1f2-b72e375dead9"
      },
      "execution_count": 6,
      "outputs": [
        {
          "output_type": "stream",
          "name": "stdout",
          "text": [
            "10\n",
            "9\n",
            "8\n",
            "7\n",
            "6\n",
            "5\n",
            "4\n",
            "3\n",
            "2\n",
            "1\n"
          ]
        }
      ]
    },
    {
      "cell_type": "code",
      "source": [
        "# Example 7: Reverse with step -2\n",
        "# Print even numbers in reverse starting from 10\n",
        "for n in range(10, -1, -2):\n",
        "    print(n)"
      ],
      "metadata": {
        "id": "Wi67k0CRwszI",
        "colab": {
          "base_uri": "https://localhost:8080/"
        },
        "outputId": "7f694e06-0ca1-47da-c609-cbe5a79a0c93"
      },
      "execution_count": 7,
      "outputs": [
        {
          "output_type": "stream",
          "name": "stdout",
          "text": [
            "10\n",
            "8\n",
            "6\n",
            "4\n",
            "2\n",
            "0\n"
          ]
        }
      ]
    }
  ]
}