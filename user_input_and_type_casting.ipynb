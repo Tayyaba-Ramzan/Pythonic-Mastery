{
  "nbformat": 4,
  "nbformat_minor": 0,
  "metadata": {
    "colab": {
      "provenance": [],
      "authorship_tag": "ABX9TyPc0YUTMgjCpTRdwSJ5VpG3",
      "include_colab_link": true
    },
    "kernelspec": {
      "name": "python3",
      "display_name": "Python 3"
    },
    "language_info": {
      "name": "python"
    }
  },
  "cells": [
    {
      "cell_type": "markdown",
      "metadata": {
        "id": "view-in-github",
        "colab_type": "text"
      },
      "source": [
        "<a href=\"https://colab.research.google.com/github/Tayyaba-Ramzan/Pythonic-Mastery/blob/main/user_input_and_type_casting.ipynb\" target=\"_parent\"><img src=\"https://colab.research.google.com/assets/colab-badge.svg\" alt=\"Open In Colab\"/></a>"
      ]
    },
    {
      "cell_type": "markdown",
      "source": [
        "# ***User Input & Type Casting in Python | Command Line Input***"
      ],
      "metadata": {
        "id": "fxiRoohkhAyA"
      }
    },
    {
      "cell_type": "markdown",
      "source": [
        "In this tutorial, we will learn how to:\n",
        "\n",
        "- Take input from the user using the `input()` function\n",
        "- Convert data types using type casting methods like `int()`, `float()`, and `str()`\n",
        "\n",
        "---\n",
        "***🧪 Examples:***\n",
        "\n",
        "```python\n",
        "# Taking input from the user\n",
        "name = input(\"Enter your name: \")\n",
        "print(\"Hello\", name)\n",
        "\n",
        "# Taking numeric input (type casting to integer)\n",
        "age = int(input(\"Enter your age: \"))\n",
        "print(\"You are\", age, \"years old\")\n",
        "\n",
        "# Taking float input\n",
        "height = float(input(\"Enter your height in meters: \"))\n",
        "print(\"Your height is\", height, \"m\")\n",
        "\n",
        "# Type casting float to int\n",
        "height_in_cm = int(height * 100)\n",
        "print(\"Height in centimeters:\", height_in_cm)"
      ],
      "metadata": {
        "id": "Z_qFxMQHhCqO"
      }
    },
    {
      "cell_type": "code",
      "source": [
        "# 🧑‍💻 User Input and Type Casting in Python\n",
        "\n",
        "# 🔹 input() → Get input from the user as a string\n",
        "# 🔹 int() → Convert to integer\n",
        "# 🔹 float() → Convert to float\n",
        "# 🔹 eval() → Evaluate the expression (handle int, float, etc.)"
      ],
      "metadata": {
        "id": "rDcIUfaDhpdu"
      },
      "execution_count": 2,
      "outputs": []
    },
    {
      "cell_type": "code",
      "source": [
        "# 🚀 Example 1: Basic input\n",
        "user_input1 = input(\"Enter your first name: \")\n",
        "user_input2 = input(\"Enter your last name: \")\n",
        "print(\"Full Name:\", user_input1 + \" \" + user_input2)\n"
      ],
      "metadata": {
        "colab": {
          "base_uri": "https://localhost:8080/"
        },
        "id": "mJXluDqdhiuG",
        "outputId": "44b3fec5-0001-4f0c-a471-ecba9b945907"
      },
      "execution_count": 3,
      "outputs": [
        {
          "output_type": "stream",
          "name": "stdout",
          "text": [
            "Enter your first name: Tayyaba\n",
            "Enter your last name: Ramzan\n",
            "Full Name: Tayyaba Ramzan\n"
          ]
        }
      ]
    },
    {
      "cell_type": "code",
      "source": [
        "# 🚀 Example 2: Integer input with type casting\n",
        "user_int1 = int(input(\"Enter first integer: \"))\n",
        "user_int2 = int(input(\"Enter second integer: \"))\n",
        "print(\"Sum of integers:\", user_int1 + user_int2)"
      ],
      "metadata": {
        "colab": {
          "base_uri": "https://localhost:8080/"
        },
        "id": "DeOsNOyuhkQX",
        "outputId": "3e67b8c4-7483-4714-c123-08b8c38f9cf9"
      },
      "execution_count": 5,
      "outputs": [
        {
          "output_type": "stream",
          "name": "stdout",
          "text": [
            "Enter first integer: 10\n",
            "Enter second integer: 25\n",
            "Sum of integers: 35\n"
          ]
        }
      ]
    },
    {
      "cell_type": "code",
      "source": [
        "# 🚀 Example 3: Float input with type casting\n",
        "user_float1 = float(input(\"Enter first float value: \"))\n",
        "user_float2 = float(input(\"Enter second float value: \"))\n",
        "print(\"Sum of float values:\", user_float1 + user_float2)\n"
      ],
      "metadata": {
        "colab": {
          "base_uri": "https://localhost:8080/"
        },
        "id": "Y8wVBfEmhlrB",
        "outputId": "a95cc38f-03dc-426f-e51d-d41d9954de21"
      },
      "execution_count": 6,
      "outputs": [
        {
          "output_type": "stream",
          "name": "stdout",
          "text": [
            "Enter first float value: 5.2\n",
            "Enter second float value: 5.5\n",
            "Sum of float values: 10.7\n"
          ]
        }
      ]
    },
    {
      "cell_type": "code",
      "source": [
        "# 🚀 Example 4: Using eval() for automatic type detection\n",
        "user_eval1 = eval(input(\"Enter any value (int/float): \"))\n",
        "user_eval2 = eval(input(\"Enter another value (int/float): \"))\n",
        "print(\"Sum using eval():\", user_eval1 + user_eval2)\n"
      ],
      "metadata": {
        "colab": {
          "base_uri": "https://localhost:8080/"
        },
        "id": "1ek5gBIJhnEW",
        "outputId": "64541b18-b5a3-4cc6-b4ec-f3f284454900"
      },
      "execution_count": 8,
      "outputs": [
        {
          "output_type": "stream",
          "name": "stdout",
          "text": [
            "Enter any value (int/float): 20\n",
            "Enter another value (int/float): 15.55\n",
            "Sum using eval(): 35.55\n"
          ]
        }
      ]
    }
  ]
}