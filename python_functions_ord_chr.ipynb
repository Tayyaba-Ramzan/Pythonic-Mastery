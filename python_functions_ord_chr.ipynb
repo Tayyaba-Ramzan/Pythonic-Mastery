{
  "nbformat": 4,
  "nbformat_minor": 0,
  "metadata": {
    "colab": {
      "provenance": [],
      "authorship_tag": "ABX9TyNLWP38BmC7HrJC1Ee7HFRH",
      "include_colab_link": true
    },
    "kernelspec": {
      "name": "python3",
      "display_name": "Python 3"
    },
    "language_info": {
      "name": "python"
    }
  },
  "cells": [
    {
      "cell_type": "markdown",
      "metadata": {
        "id": "view-in-github",
        "colab_type": "text"
      },
      "source": [
        "<a href=\"https://colab.research.google.com/github/Tayyaba-Ramzan/Pythonic-Mastery/blob/main/python_functions_ord_chr.ipynb\" target=\"_parent\"><img src=\"https://colab.research.google.com/assets/colab-badge.svg\" alt=\"Open In Colab\"/></a>"
      ]
    },
    {
      "cell_type": "markdown",
      "source": [
        "# ***Python Functions | ord() and chr() Functions | Python Tutorial***"
      ],
      "metadata": {
        "id": "mPsnwLuqnnzG"
      }
    },
    {
      "cell_type": "markdown",
      "source": [
        "In this tutorial, we will explore two important Python functions:\n",
        "- `ord()`\n",
        "- `chr()`\n",
        "\n",
        "These functions allow conversion between characters and their corresponding ASCII (or Unicode) values."
      ],
      "metadata": {
        "id": "DKKG7rF_nriN"
      }
    },
    {
      "cell_type": "markdown",
      "source": [
        "🔠 Using chr()"
      ],
      "metadata": {
        "id": "A_-VcPwnnwbl"
      }
    },
    {
      "cell_type": "code",
      "source": [
        "# 'chr()' function takes an integer (ASCII value) and returns its corresponding character.\n",
        "\n",
        "a = 65\n",
        "print(\"Character corresponding to ASCII value 65:\", chr(a))\n",
        "\n",
        "# Example of converting other ASCII values\n",
        "# print(chr(66))  # Uncomment to see character 'B' (ASCII 66)\n",
        "# print(chr(97))  # Uncomment to see character 'a' (ASCII 97)"
      ],
      "metadata": {
        "colab": {
          "base_uri": "https://localhost:8080/"
        },
        "id": "BH_fR21Dny9N",
        "outputId": "753f6792-d303-4532-bc97-85ef3c70a957"
      },
      "execution_count": 1,
      "outputs": [
        {
          "output_type": "stream",
          "name": "stdout",
          "text": [
            "Character corresponding to ASCII value 65: A\n"
          ]
        }
      ]
    },
    {
      "cell_type": "markdown",
      "source": [
        "🔢 Using ord()"
      ],
      "metadata": {
        "id": "4bd-ZczYn0tN"
      }
    },
    {
      "cell_type": "code",
      "source": [
        "# 'ord()' function takes a character (string of length 1) and returns its corresponding ASCII value.\n",
        "\n",
        "b = \"B\"\n",
        "print(\"ASCII value of character 'B':\", ord(b))\n",
        "\n",
        "# Example of converting other characters\n",
        "# print(ord('a'))  # Uncomment to see the ASCII value of 'a' (97)\n",
        "# print(ord('z'))  # Uncomment to see the ASCII value of 'z' (122)"
      ],
      "metadata": {
        "colab": {
          "base_uri": "https://localhost:8080/"
        },
        "id": "oiW0fKnQn3ON",
        "outputId": "eae64096-c626-4cf5-a615-ce9dc554e34e"
      },
      "execution_count": 2,
      "outputs": [
        {
          "output_type": "stream",
          "name": "stdout",
          "text": [
            "ASCII value of character 'B': 66\n"
          ]
        }
      ]
    },
    {
      "cell_type": "markdown",
      "source": [
        "## Summary:\n",
        "- `chr()` - Converts an ASCII value (integer) to its corresponding character.\n",
        "- `ord()` - Converts a character (string of length 1) to its corresponding ASCII (or Unicode) value.\n",
        "\n",
        "These functions are essential for encoding and decoding characters in Python, useful in various applications like text processing and encryption."
      ],
      "metadata": {
        "id": "00CopRY_n5N1"
      }
    }
  ]
}