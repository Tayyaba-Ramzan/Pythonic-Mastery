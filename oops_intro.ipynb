{
  "nbformat": 4,
  "nbformat_minor": 0,
  "metadata": {
    "colab": {
      "provenance": [],
      "authorship_tag": "ABX9TyPi8YRg5H6K8LcJz9vxfjgK",
      "include_colab_link": true
    },
    "kernelspec": {
      "name": "python3",
      "display_name": "Python 3"
    },
    "language_info": {
      "name": "python"
    }
  },
  "cells": [
    {
      "cell_type": "markdown",
      "metadata": {
        "id": "view-in-github",
        "colab_type": "text"
      },
      "source": [
        "<a href=\"https://colab.research.google.com/github/Tayyaba-Ramzan/Pythonic-Mastery/blob/main/oops_intro.ipynb\" target=\"_parent\"><img src=\"https://colab.research.google.com/assets/colab-badge.svg\" alt=\"Open In Colab\"/></a>"
      ]
    },
    {
      "cell_type": "markdown",
      "source": [
        "# ***Object-Oriented Programming (OOP) in Python***"
      ],
      "metadata": {
        "id": "qW4wvmiZI4IM"
      }
    },
    {
      "cell_type": "markdown",
      "source": [
        "Object-Oriented Programming (OOP) is a programming paradigm based on the concept of **\"objects\"**, which can contain **data** and **code**: data in the form of attributes, and code in the form of methods.\n",
        "\n",
        "---\n",
        "\n",
        "## 📌 Key Concepts:\n",
        "\n",
        "- **Class** → Blueprint for creating objects\n",
        "- **Object** → Instance of a class\n",
        "- **Constructor (`__init__`)** → Initializes object state\n",
        "- **Self** → Refers to the current instance\n",
        "- **Methods** → Functions defined inside a class\n",
        "- **Encapsulation, Inheritance, Polymorphism, Abstraction**\n",
        "\n",
        "---\n",
        "\n",
        "## 📦 Example 1: Basic Class and Object\n",
        "```python\n",
        "class Student:\n",
        "    def __init__(self, name, roll_no):\n",
        "        self.name = name\n",
        "        self.roll_no = roll_no\n",
        "\n",
        "    def display(self):\n",
        "        print(f\"Name: {self.name}, Roll No: {self.roll_no}\")\n",
        "\n",
        "# Creating Object\n",
        "student1 = Student(\"Tayyaba Ramzan\", 101)\n",
        "student1.display()"
      ],
      "metadata": {
        "id": "20YOfxV0I6Tr"
      }
    },
    {
      "cell_type": "markdown",
      "source": [
        "🧱 Example 2: Adding More Methods"
      ],
      "metadata": {
        "id": "a-_VXQ4LI-HD"
      }
    },
    {
      "cell_type": "code",
      "source": [
        "class Calculator:\n",
        "    def add(self, a, b):\n",
        "        return a + b\n",
        "\n",
        "    def subtract(self, a, b):\n",
        "        return a - b\n",
        "\n",
        "calc = Calculator()\n",
        "print(\"Add:\", calc.add(10, 5))\n",
        "print(\"Subtract:\", calc.subtract(10, 5))"
      ],
      "metadata": {
        "colab": {
          "base_uri": "https://localhost:8080/"
        },
        "id": "UIAsPF9gJD_b",
        "outputId": "52cb1c2b-e651-4b98-d99c-0b4c92cb9a94"
      },
      "execution_count": 2,
      "outputs": [
        {
          "output_type": "stream",
          "name": "stdout",
          "text": [
            "Add: 15\n",
            "Subtract: 5\n"
          ]
        }
      ]
    },
    {
      "cell_type": "markdown",
      "source": [
        "🔄 Example 3: Inheritance\n"
      ],
      "metadata": {
        "id": "UBFA575UJHdX"
      }
    },
    {
      "cell_type": "code",
      "source": [
        "class Animal:\n",
        "    def speak(self):\n",
        "        print(\"Animal speaks\")\n",
        "\n",
        "class Dog(Animal):\n",
        "    def speak(self):\n",
        "        print(\"Dog barks\")\n",
        "\n",
        "d = Dog()\n",
        "d.speak()"
      ],
      "metadata": {
        "colab": {
          "base_uri": "https://localhost:8080/"
        },
        "id": "G9v86zYHJIbT",
        "outputId": "c6126143-eae7-4e3b-bd13-3cb2ff826d80"
      },
      "execution_count": 3,
      "outputs": [
        {
          "output_type": "stream",
          "name": "stdout",
          "text": [
            "Dog barks\n"
          ]
        }
      ]
    },
    {
      "cell_type": "markdown",
      "source": [
        "🧩 Example 4: Polymorphism"
      ],
      "metadata": {
        "id": "Tgqd23t_JLgz"
      }
    },
    {
      "cell_type": "code",
      "source": [
        "class Bird:\n",
        "    def intro(self):\n",
        "        print(\"There are many types of birds.\")\n",
        "\n",
        "    def flight(self):\n",
        "        print(\"Most of the birds can fly but some cannot.\")\n",
        "\n",
        "class Sparrow(Bird):\n",
        "    def flight(self):\n",
        "        print(\"Sparrows can fly.\")\n",
        "\n",
        "class Ostrich(Bird):\n",
        "    def flight(self):\n",
        "        print(\"Ostriches cannot fly.\")\n",
        "\n",
        "obj_bird = Bird()\n",
        "obj_sparrow = Sparrow()\n",
        "obj_ostrich = Ostrich()\n",
        "\n",
        "for bird in (obj_bird, obj_sparrow, obj_ostrich):\n",
        "    bird.intro()\n",
        "    bird.flight()"
      ],
      "metadata": {
        "colab": {
          "base_uri": "https://localhost:8080/"
        },
        "id": "1n--XxGuJMBM",
        "outputId": "ea0a9db6-aa92-4d78-e2e5-df988936d764"
      },
      "execution_count": 4,
      "outputs": [
        {
          "output_type": "stream",
          "name": "stdout",
          "text": [
            "There are many types of birds.\n",
            "Most of the birds can fly but some cannot.\n",
            "There are many types of birds.\n",
            "Sparrows can fly.\n",
            "There are many types of birds.\n",
            "Ostriches cannot fly.\n"
          ]
        }
      ]
    }
  ]
}