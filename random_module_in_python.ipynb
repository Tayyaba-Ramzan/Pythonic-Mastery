{
  "nbformat": 4,
  "nbformat_minor": 0,
  "metadata": {
    "colab": {
      "provenance": [],
      "authorship_tag": "ABX9TyMk1ljyKyJL/+kjJvid+UzT",
      "include_colab_link": true
    },
    "kernelspec": {
      "name": "python3",
      "display_name": "Python 3"
    },
    "language_info": {
      "name": "python"
    }
  },
  "cells": [
    {
      "cell_type": "markdown",
      "metadata": {
        "id": "view-in-github",
        "colab_type": "text"
      },
      "source": [
        "<a href=\"https://colab.research.google.com/github/Tayyaba-Ramzan/Pythonic-Mastery/blob/main/random_module_in_python.ipynb\" target=\"_parent\"><img src=\"https://colab.research.google.com/assets/colab-badge.svg\" alt=\"Open In Colab\"/></a>"
      ]
    },
    {
      "cell_type": "markdown",
      "source": [
        "# ***What are Random Modules in Python - Explained with Examples | Python Tutorial***"
      ],
      "metadata": {
        "id": "B4Hj0Y5ByZA4"
      }
    },
    {
      "cell_type": "markdown",
      "source": [
        "The `random` module in Python is used to generate random numbers and perform random operations such as picking a random item, shuffling a list, etc.\n",
        "\n",
        "To use this module, we import it:\n",
        "\n",
        "```python\n",
        "import random"
      ],
      "metadata": {
        "id": "h4TDvkOUy93W"
      }
    },
    {
      "cell_type": "markdown",
      "source": [
        "Some commonly used functions:\n",
        "\n",
        "random.random() — returns a random float between 0.0 and 1.0\n",
        "\n",
        "random.randint(a, b) — returns a random integer between a and b (inclusive)\n",
        "\n",
        "random.choice(sequence) — returns a random element from a sequence (list, tuple, string)\n",
        "\n",
        "random.shuffle(list) — shuffles the list in place\n",
        "\n",
        "random.uniform(a, b) — returns a random float between a and b"
      ],
      "metadata": {
        "id": "YzuDHoyGyfHX"
      }
    },
    {
      "cell_type": "markdown",
      "source": [
        "📌 Cell 1: Import and Random Float"
      ],
      "metadata": {
        "id": "Nz4Y-qLayinf"
      }
    },
    {
      "cell_type": "code",
      "source": [
        "import random\n",
        "\n",
        "print(\"Random float between 0 and 1:\", random.random())\n",
        "print(\"Random float between 1 and 10:\", random.uniform(1, 10))"
      ],
      "metadata": {
        "colab": {
          "base_uri": "https://localhost:8080/"
        },
        "id": "bP-ajgWsyl-X",
        "outputId": "e9118b96-db9e-488a-be99-e217a1dbd3d7"
      },
      "execution_count": 1,
      "outputs": [
        {
          "output_type": "stream",
          "name": "stdout",
          "text": [
            "Random float between 0 and 1: 0.28512211478128\n",
            "Random float between 1 and 10: 8.02196340653579\n"
          ]
        }
      ]
    },
    {
      "cell_type": "markdown",
      "source": [
        "📌 Cell 2: Random Integer"
      ],
      "metadata": {
        "id": "1EN8k20nypd4"
      }
    },
    {
      "cell_type": "code",
      "source": [
        "print(\"Random integer between 10 and 100:\", random.randint(10, 100))"
      ],
      "metadata": {
        "colab": {
          "base_uri": "https://localhost:8080/"
        },
        "id": "4FIiGRFgyrMO",
        "outputId": "aec6332b-0ca5-4a01-f718-da5df0a75b49"
      },
      "execution_count": 2,
      "outputs": [
        {
          "output_type": "stream",
          "name": "stdout",
          "text": [
            "Random integer between 10 and 100: 30\n"
          ]
        }
      ]
    },
    {
      "cell_type": "markdown",
      "source": [
        "📌 Cell 3: Random Choice from a List"
      ],
      "metadata": {
        "id": "I0vyAfKCywq3"
      }
    },
    {
      "cell_type": "code",
      "source": [
        "fruits = [\"apple\", \"banana\", \"cherry\", \"mango\"]\n",
        "print(\"Random fruit:\", random.choice(fruits))"
      ],
      "metadata": {
        "colab": {
          "base_uri": "https://localhost:8080/"
        },
        "id": "hraH8HPWyxeH",
        "outputId": "4e8b4736-eb69-4c4d-e833-c35381e43e21"
      },
      "execution_count": 3,
      "outputs": [
        {
          "output_type": "stream",
          "name": "stdout",
          "text": [
            "Random fruit: apple\n"
          ]
        }
      ]
    },
    {
      "cell_type": "markdown",
      "source": [
        "📌 Cell 4: Shuffle a List"
      ],
      "metadata": {
        "id": "dJvMvBXJy17o"
      }
    },
    {
      "cell_type": "code",
      "source": [
        "numbers = [1, 2, 3, 4, 5]\n",
        "random.shuffle(numbers)\n",
        "print(\"Shuffled list:\", numbers)"
      ],
      "metadata": {
        "colab": {
          "base_uri": "https://localhost:8080/"
        },
        "id": "cFbfkyhwy2jt",
        "outputId": "6c9c34cf-e3b5-4c50-aa94-580996ddf806"
      },
      "execution_count": 4,
      "outputs": [
        {
          "output_type": "stream",
          "name": "stdout",
          "text": [
            "Shuffled list: [2, 3, 4, 5, 1]\n"
          ]
        }
      ]
    }
  ]
}