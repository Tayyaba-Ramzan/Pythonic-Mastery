{
  "nbformat": 4,
  "nbformat_minor": 0,
  "metadata": {
    "colab": {
      "provenance": [],
      "authorship_tag": "ABX9TyPG78YpLffF3nN6ndTHCiOu",
      "include_colab_link": true
    },
    "kernelspec": {
      "name": "python3",
      "display_name": "Python 3"
    },
    "language_info": {
      "name": "python"
    }
  },
  "cells": [
    {
      "cell_type": "markdown",
      "metadata": {
        "id": "view-in-github",
        "colab_type": "text"
      },
      "source": [
        "<a href=\"https://colab.research.google.com/github/Tayyaba-Ramzan/Pythonic-Mastery/blob/main/membership_operators.ipynb\" target=\"_parent\"><img src=\"https://colab.research.google.com/assets/colab-badge.svg\" alt=\"Open In Colab\"/></a>"
      ]
    },
    {
      "cell_type": "markdown",
      "source": [
        "# ***Membership Operators in Python***\n",
        "In this step, we will learn about Membership Operators in Python. These operators are used to test if a value is **present** in a sequence like a **list, string, tuple**, etc.\n",
        "\n",
        "- `in` → Returns `True` if a value exists in the sequence  \n",
        "- `not in` → Returns `True` if a value does **not** exist in the sequence\n",
        "\n",
        "### Example:\n",
        "```python\n",
        "fruits = ['apple', 'banana', 'mango']\n",
        "print('banana' in fruits)     # True\n",
        "print('grape' not in fruits)  # True"
      ],
      "metadata": {
        "id": "yCr3rrBeRcxV"
      }
    },
    {
      "cell_type": "code",
      "execution_count": 1,
      "metadata": {
        "colab": {
          "base_uri": "https://localhost:8080/"
        },
        "id": "6dzrktPjRJ_R",
        "outputId": "addb1d09-0bcc-4546-814f-f92129edf95d"
      },
      "outputs": [
        {
          "output_type": "stream",
          "name": "stdout",
          "text": [
            "True\n",
            "True\n",
            "False\n"
          ]
        }
      ],
      "source": [
        "# Membership Operators in Python\n",
        "\n",
        "# 'in' operator with string\n",
        "firstName = \"tayyaba\"\n",
        "print(\"t\" in firstName)      # True — 't' is in \"tayyaba\"\n",
        "\n",
        "# 'not in' operator with string\n",
        "lastName = \"ramzan\"\n",
        "print(\"x\" not in lastName)   # True — 'x' is not in \"ramzan\"\n",
        "\n",
        "# 'in' operator with list\n",
        "num = [10, 20, 30, 40]\n",
        "print(50 in num)             # False — 50 is not in the list"
      ]
    }
  ]
}