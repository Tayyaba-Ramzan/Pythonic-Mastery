{
  "nbformat": 4,
  "nbformat_minor": 0,
  "metadata": {
    "colab": {
      "provenance": [],
      "authorship_tag": "ABX9TyOOjDb1L+doghlJUBYxwj0H",
      "include_colab_link": true
    },
    "kernelspec": {
      "name": "python3",
      "display_name": "Python 3"
    },
    "language_info": {
      "name": "python"
    }
  },
  "cells": [
    {
      "cell_type": "markdown",
      "metadata": {
        "id": "view-in-github",
        "colab_type": "text"
      },
      "source": [
        "<a href=\"https://colab.research.google.com/github/Tayyaba-Ramzan/Pythonic-Mastery/blob/main/oops_methods_constructors.ipynb\" target=\"_parent\"><img src=\"https://colab.research.google.com/assets/colab-badge.svg\" alt=\"Open In Colab\"/></a>"
      ]
    },
    {
      "cell_type": "markdown",
      "source": [
        "# ***🚀 Methods and Constructors in Python OOP***"
      ],
      "metadata": {
        "id": "QnDPU2CNJpBk"
      }
    },
    {
      "cell_type": "markdown",
      "source": [
        "In this notebook, we’ll learn:\n",
        "- What are **Constructors (`__init__`)**\n",
        "- What are **Instance Methods**\n",
        "- What are **Class Methods**\n",
        "- What are **Static Methods**"
      ],
      "metadata": {
        "id": "08s3qc2dJs97"
      }
    },
    {
      "cell_type": "markdown",
      "source": [
        "## 🛠 Constructor in Python (`__init__` method)\n",
        "Constructors are special methods used to initialize objects when they are created."
      ],
      "metadata": {
        "id": "71P6xOYiJwzz"
      }
    },
    {
      "cell_type": "code",
      "source": [
        "class Person:\n",
        "    def __init__(self, name, age):\n",
        "        self.name = name\n",
        "        self.age = age\n",
        "\n",
        "    def display(self):\n",
        "        print(f\"Name: {self.name}, Age: {self.age}\")\n",
        "\n",
        "p1 = Person(\"Tayyaba\", 20)\n",
        "p1.display()"
      ],
      "metadata": {
        "colab": {
          "base_uri": "https://localhost:8080/"
        },
        "id": "-OSrYO9zJy5T",
        "outputId": "6eba27fb-70ca-421e-c601-aca6cd2ed011"
      },
      "execution_count": 1,
      "outputs": [
        {
          "output_type": "stream",
          "name": "stdout",
          "text": [
            "Name: Tayyaba, Age: 22\n"
          ]
        }
      ]
    },
    {
      "cell_type": "markdown",
      "source": [
        "## 🧑‍ Instance Methods\n",
        "These are normal methods that take `self` as the first argument and operate on instance data."
      ],
      "metadata": {
        "id": "mdWCjcuGJ4GT"
      }
    },
    {
      "cell_type": "code",
      "source": [
        "class Circle:\n",
        "    def __init__(self, radius):\n",
        "        self.radius = radius\n",
        "\n",
        "    def area(self):\n",
        "        return 3.14 * self.radius * self.radius\n",
        "\n",
        "c1 = Circle(5)\n",
        "print(\"Area of circle:\", c1.area())"
      ],
      "metadata": {
        "colab": {
          "base_uri": "https://localhost:8080/"
        },
        "id": "aZOW5ue2J53b",
        "outputId": "432cba64-b84d-4178-acb7-121ee7291384"
      },
      "execution_count": 2,
      "outputs": [
        {
          "output_type": "stream",
          "name": "stdout",
          "text": [
            "Area of circle: 78.5\n"
          ]
        }
      ]
    },
    {
      "cell_type": "markdown",
      "source": [
        "## 🏛 Class Methods\n",
        "Class methods take `cls` as the first parameter and can access or modify class-level variables."
      ],
      "metadata": {
        "id": "msZuQl7tJ8Lr"
      }
    },
    {
      "cell_type": "code",
      "source": [
        "class Student:\n",
        "    school = \"City School\"\n",
        "\n",
        "    def __init__(self, name):\n",
        "        self.name = name\n",
        "\n",
        "    @classmethod\n",
        "    def change_school(cls, new_school):\n",
        "        cls.school = new_school\n",
        "\n",
        "    def display(self):\n",
        "        print(f\"Student: {self.name}, School: {Student.school}\")\n",
        "\n",
        "s1 = Student(\"Ali\")\n",
        "s1.display()\n",
        "\n",
        "Student.change_school(\"Green House\")\n",
        "s1.display()"
      ],
      "metadata": {
        "colab": {
          "base_uri": "https://localhost:8080/"
        },
        "id": "5vRkaipqJ_p7",
        "outputId": "6b158da2-cff4-44f1-ecf4-9dc994c736d1"
      },
      "execution_count": 3,
      "outputs": [
        {
          "output_type": "stream",
          "name": "stdout",
          "text": [
            "Student: Ali, School: City School\n",
            "Student: Ali, School: Green House\n"
          ]
        }
      ]
    },
    {
      "cell_type": "markdown",
      "source": [
        "## 📌 Static Methods\n",
        "Static methods do not take `self` or `cls`. They are utility functions used inside the class."
      ],
      "metadata": {
        "id": "qFyrTjxcKB5j"
      }
    },
    {
      "cell_type": "code",
      "source": [
        "class MathUtility:\n",
        "    @staticmethod\n",
        "    def add(x, y):\n",
        "        return x + y\n",
        "\n",
        "    @staticmethod\n",
        "    def multiply(x, y):\n",
        "        return x * y\n",
        "\n",
        "print(\"Addition:\", MathUtility.add(5, 3))\n",
        "print(\"Multiplication:\", MathUtility.multiply(5, 3))"
      ],
      "metadata": {
        "colab": {
          "base_uri": "https://localhost:8080/"
        },
        "id": "Et7VG6d9KDwU",
        "outputId": "af0c5fbb-0fc8-4f8f-dc20-b4c36e25482b"
      },
      "execution_count": 4,
      "outputs": [
        {
          "output_type": "stream",
          "name": "stdout",
          "text": [
            "Addition: 8\n",
            "Multiplication: 15\n"
          ]
        }
      ]
    }
  ]
}