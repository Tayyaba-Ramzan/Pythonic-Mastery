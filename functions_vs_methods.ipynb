{
  "nbformat": 4,
  "nbformat_minor": 0,
  "metadata": {
    "colab": {
      "provenance": [],
      "authorship_tag": "ABX9TyNapIqhhp5jAUddGpGqvqYc",
      "include_colab_link": true
    },
    "kernelspec": {
      "name": "python3",
      "display_name": "Python 3"
    },
    "language_info": {
      "name": "python"
    }
  },
  "cells": [
    {
      "cell_type": "markdown",
      "metadata": {
        "id": "view-in-github",
        "colab_type": "text"
      },
      "source": [
        "<a href=\"https://colab.research.google.com/github/Tayyaba-Ramzan/Pythonic-Mastery/blob/main/functions_vs_methods.ipynb\" target=\"_parent\"><img src=\"https://colab.research.google.com/assets/colab-badge.svg\" alt=\"Open In Colab\"/></a>"
      ]
    },
    {
      "cell_type": "markdown",
      "source": [
        "# ***What are Functions and Methods in Python | Python Tutorial in Hindi***\n"
      ],
      "metadata": {
        "id": "lQBDIUS40Is7"
      }
    },
    {
      "cell_type": "markdown",
      "source": [
        "In Python, **Functions** and **Methods** are both used to perform a specific task.  \n",
        "The main difference is:\n",
        "\n",
        "- A **function** is defined using `def` and can be called independently.\n",
        "- A **method** is like a function but is called on objects (belongs to a class)."
      ],
      "metadata": {
        "id": "A6Xr8lLN0Lki"
      }
    },
    {
      "cell_type": "markdown",
      "source": [
        "📌 Function Example"
      ],
      "metadata": {
        "id": "wKStAEZf0Nb5"
      }
    },
    {
      "cell_type": "code",
      "source": [
        "# Function: Defined using def and works independently\n",
        "def greet(name):\n",
        "    return f\"Hello, {name}!\"\n",
        "\n",
        "print(greet(\"Tayyaba\"))"
      ],
      "metadata": {
        "id": "z7T3OU9h0PeS",
        "colab": {
          "base_uri": "https://localhost:8080/"
        },
        "outputId": "232a2c32-e372-4d8b-ac8e-393e77076887"
      },
      "execution_count": 1,
      "outputs": [
        {
          "output_type": "stream",
          "name": "stdout",
          "text": [
            "Hello, Tayyaba!\n"
          ]
        }
      ]
    },
    {
      "cell_type": "markdown",
      "source": [
        "📌 Method Example\n"
      ],
      "metadata": {
        "id": "86nxsRfI0RAJ"
      }
    },
    {
      "cell_type": "code",
      "source": [
        "# Method: Called on an object (like string or list)\n",
        "text = \"hello world\"\n",
        "print(text.upper())  # .upper() is a method of string object"
      ],
      "metadata": {
        "id": "Wnq5vmnT0UuK",
        "colab": {
          "base_uri": "https://localhost:8080/"
        },
        "outputId": "e4e84736-0759-4487-de23-b74d6e5e7c43"
      },
      "execution_count": 2,
      "outputs": [
        {
          "output_type": "stream",
          "name": "stdout",
          "text": [
            "HELLO WORLD\n"
          ]
        }
      ]
    },
    {
      "cell_type": "markdown",
      "source": [
        "📌 Another Method Example"
      ],
      "metadata": {
        "id": "IC186AlY0WAZ"
      }
    },
    {
      "cell_type": "code",
      "source": [
        "# List method example\n",
        "numbers = [5, 3, 1]\n",
        "numbers.sort()  # .sort() is a method\n",
        "print(numbers)"
      ],
      "metadata": {
        "id": "jRtSSe_H0Yi6",
        "colab": {
          "base_uri": "https://localhost:8080/"
        },
        "outputId": "70db9a86-51b5-4a2d-ceb0-81ffe23fa791"
      },
      "execution_count": 3,
      "outputs": [
        {
          "output_type": "stream",
          "name": "stdout",
          "text": [
            "[1, 3, 5]\n"
          ]
        }
      ]
    }
  ]
}