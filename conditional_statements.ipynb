{
  "nbformat": 4,
  "nbformat_minor": 0,
  "metadata": {
    "colab": {
      "provenance": [],
      "authorship_tag": "ABX9TyMTLan24v1pzmmjpfwSGD1C",
      "include_colab_link": true
    },
    "kernelspec": {
      "name": "python3",
      "display_name": "Python 3"
    },
    "language_info": {
      "name": "python"
    }
  },
  "cells": [
    {
      "cell_type": "markdown",
      "metadata": {
        "id": "view-in-github",
        "colab_type": "text"
      },
      "source": [
        "<a href=\"https://colab.research.google.com/github/Tayyaba-Ramzan/Pythonic-Mastery/blob/main/conditional_statements.ipynb\" target=\"_parent\"><img src=\"https://colab.research.google.com/assets/colab-badge.svg\" alt=\"Open In Colab\"/></a>"
      ]
    },
    {
      "cell_type": "markdown",
      "source": [
        "# ***Conditional Statements in Python (if, if-else, if-elif-else)***"
      ],
      "metadata": {
        "id": "7grHHpkfjpzF"
      }
    },
    {
      "cell_type": "markdown",
      "source": [
        "In this tutorial, we will learn how to control the flow of a Python program using conditional statements.\n",
        "\n",
        "We will cover:\n",
        "\n",
        "- `if` statement\n",
        "- `if-else` statement\n",
        "- `if-elif-else` ladder\n",
        "\n",
        "---\n",
        "\n",
        "***🧪 Examples:***\n",
        "\n",
        "```python\n",
        "# ✅ if Statement\n",
        "age = 20\n",
        "if age >= 18:\n",
        "    print(\"You are eligible to vote.\")\n",
        "\n",
        "# ✅ if-else Statement\n",
        "number = 5\n",
        "if number % 2 == 0:\n",
        "    print(\"Even Number\")\n",
        "else:\n",
        "    print(\"Odd Number\")\n",
        "\n",
        "# ✅ if-elif-else Statement\n",
        "marks = 85\n",
        "if marks >= 90:\n",
        "    print(\"Grade A\")\n",
        "elif marks >= 80:\n",
        "    print(\"Grade B\")\n",
        "elif marks >= 70:\n",
        "    print(\"Grade C\")\n",
        "else:\n",
        "    print(\"Grade D or below\")"
      ],
      "metadata": {
        "id": "UtVU8HOpjuqc"
      }
    },
    {
      "cell_type": "code",
      "execution_count": 4,
      "metadata": {
        "colab": {
          "base_uri": "https://localhost:8080/"
        },
        "id": "1qHLLxg4jceE",
        "outputId": "f470db31-108a-4982-ec58-6ec1575f1ea1"
      },
      "outputs": [
        {
          "output_type": "stream",
          "name": "stdout",
          "text": [
            "Enter the number: 8\n",
            "8 is an Even Number\n"
          ]
        }
      ],
      "source": [
        "# if Statement: Check if a number is Even\n",
        "num1 = int(input(\"Enter the number: \"))\n",
        "if num1 % 2 == 0:\n",
        "    print(num1, \"is an Even Number\")"
      ]
    },
    {
      "cell_type": "code",
      "source": [
        "# # if-else Statement: Check if a number is Even or Odd\n",
        "num2 = int(input(\"Enter the number: \"))\n",
        "if num2 % 2 == 0:\n",
        "    print(num2, \"is an Even Number\")\n",
        "else:\n",
        "    print(num2, \"is an Odd Number\")"
      ],
      "metadata": {
        "colab": {
          "base_uri": "https://localhost:8080/"
        },
        "id": "bKafaXa2kAX8",
        "outputId": "fcfbbe94-8188-4084-d33f-670537514519"
      },
      "execution_count": 2,
      "outputs": [
        {
          "output_type": "stream",
          "name": "stdout",
          "text": [
            "Enter the number: 3\n",
            "3 is an Odd Number\n"
          ]
        }
      ]
    },
    {
      "cell_type": "code",
      "source": [
        "# if-elif-else Statement: Check student division based on percentage\n",
        "per = int(input(\"Enter your percentage: \"))\n",
        "if per >= 60:\n",
        "    print(\"FIRST DIVISION\")\n",
        "elif per >= 40:\n",
        "    print(\"SECOND DIVISION\")\n",
        "elif per > 35:\n",
        "    print(\"THIRD DIVISION\")\n",
        "else:\n",
        "    print(\"FAILED\")"
      ],
      "metadata": {
        "colab": {
          "base_uri": "https://localhost:8080/"
        },
        "id": "Ru7cOovjkDf-",
        "outputId": "b923081b-f150-48cf-cf1f-dc9bdc298380"
      },
      "execution_count": 3,
      "outputs": [
        {
          "output_type": "stream",
          "name": "stdout",
          "text": [
            "Enter your percentage: 88\n",
            "FIRST DIVISION\n"
          ]
        }
      ]
    }
  ]
}