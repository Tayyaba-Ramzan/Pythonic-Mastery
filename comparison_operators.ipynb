{
  "nbformat": 4,
  "nbformat_minor": 0,
  "metadata": {
    "colab": {
      "provenance": [],
      "authorship_tag": "ABX9TyPKM5gIGAcn51YD8mca3cew",
      "include_colab_link": true
    },
    "kernelspec": {
      "name": "python3",
      "display_name": "Python 3"
    },
    "language_info": {
      "name": "python"
    }
  },
  "cells": [
    {
      "cell_type": "markdown",
      "metadata": {
        "id": "view-in-github",
        "colab_type": "text"
      },
      "source": [
        "<a href=\"https://colab.research.google.com/github/Tayyaba-Ramzan/Pythonic-Mastery/blob/main/comparison_operators.ipynb\" target=\"_parent\"><img src=\"https://colab.research.google.com/assets/colab-badge.svg\" alt=\"Open In Colab\"/></a>"
      ]
    },
    {
      "cell_type": "markdown",
      "source": [
        "# ***Comparison Operators in Python***\n",
        "In this step, we will learn about Comparison Operators in Python. These operators are used to compare two values and return a boolean result (`True` or `False`). Examples include: `==`, `!=`, `>`, `<`, `>=`, `<=`.\n"
      ],
      "metadata": {
        "id": "357iEgJOMX_r"
      }
    },
    {
      "cell_type": "code",
      "execution_count": null,
      "metadata": {
        "colab": {
          "base_uri": "https://localhost:8080/"
        },
        "id": "SA2knVGtMWv9",
        "outputId": "0a65aa30-8bfd-4687-d359-ae6947a27bf9"
      },
      "outputs": [
        {
          "output_type": "stream",
          "name": "stdout",
          "text": [
            "True\n",
            "True\n",
            "True\n",
            "True\n",
            "True\n",
            "True\n"
          ]
        }
      ],
      "source": [
        "\n",
        "# Equal To (==)\n",
        "x = 10\n",
        "y = 10\n",
        "print(x == y)   # True\n",
        "\n",
        "# Not Equal To (!=)\n",
        "x = 10\n",
        "y = 5\n",
        "print(x != y)   # True\n",
        "\n",
        "# Greater Than (>)\n",
        "x = 30\n",
        "y = 20\n",
        "print(x > y)    # True\n",
        "\n",
        "# Greater Than or Equal To (>=)\n",
        "x = 10\n",
        "y = 20\n",
        "print(y >= x)   # True\n",
        "\n",
        "# Less Than (<)\n",
        "x = 5\n",
        "y = 1\n",
        "print(y < x)    # True\n",
        "\n",
        "# Less Than or Equal To (<=)\n",
        "x = 2\n",
        "y = 4\n",
        "print(x <= y)   # True"
      ]
    }
  ]
}