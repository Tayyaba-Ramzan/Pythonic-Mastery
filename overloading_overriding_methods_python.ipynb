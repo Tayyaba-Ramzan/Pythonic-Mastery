{
  "nbformat": 4,
  "nbformat_minor": 0,
  "metadata": {
    "colab": {
      "provenance": [],
      "authorship_tag": "ABX9TyPmYFCQMJL4KcY9jR2Wa3dM",
      "include_colab_link": true
    },
    "kernelspec": {
      "name": "python3",
      "display_name": "Python 3"
    },
    "language_info": {
      "name": "python"
    }
  },
  "cells": [
    {
      "cell_type": "markdown",
      "metadata": {
        "id": "view-in-github",
        "colab_type": "text"
      },
      "source": [
        "<a href=\"https://colab.research.google.com/github/Tayyaba-Ramzan/Pythonic-Mastery/blob/main/overloading_overriding_methods_python.ipynb\" target=\"_parent\"><img src=\"https://colab.research.google.com/assets/colab-badge.svg\" alt=\"Open In Colab\"/></a>"
      ]
    },
    {
      "cell_type": "markdown",
      "source": [
        "# ***🔄 Overloading and Overriding Methods in Python***"
      ],
      "metadata": {
        "id": "dxv2g09E5nU6"
      }
    },
    {
      "cell_type": "markdown",
      "source": [
        "In Python, we often come across two important concepts related to object-oriented programming (OOP): **Method Overloading** and **Method Overriding**.\n",
        "\n",
        "- **Method Overloading** allows us to define multiple methods with the same name but different arguments (although Python does not support it directly).\n",
        "- **Method Overriding** involves a derived class providing a specific implementation of a method already defined in its base class.\n",
        "\n",
        "Let's dive deeper into both concepts."
      ],
      "metadata": {
        "id": "a4ZJU2m75ql4"
      }
    },
    {
      "cell_type": "markdown",
      "source": [
        "## 🔹 Method Overloading in Python\n",
        "\n",
        "Method overloading in Python is not supported natively like other languages (Java, C++). However, we can simulate it using variable-length arguments (`*args` or `**kwargs`).\n",
        "\n",
        "Here's how we can mimic method overloading in Python:\n"
      ],
      "metadata": {
        "id": "B44kljyt5sJR"
      }
    },
    {
      "cell_type": "code",
      "source": [
        "class Calculator:\n",
        "    def add(self, *args):\n",
        "        result = 0\n",
        "        for number in args:\n",
        "            result += number\n",
        "        return result\n",
        "\n",
        "# Creating object\n",
        "calc = Calculator()\n",
        "\n",
        "# Using method with different numbers of arguments\n",
        "print(calc.add(2, 3))        # Outputs: 5\n",
        "print(calc.add(1, 2, 3, 4))  # Outputs: 10\n",
        "print(calc.add(10))          # Outputs: 10"
      ],
      "metadata": {
        "id": "vdkN-3C05tnI"
      },
      "execution_count": null,
      "outputs": []
    },
    {
      "cell_type": "markdown",
      "source": [
        "## 🔹 Method Overriding in Python\n",
        "\n",
        "Method overriding occurs when a subclass provides a specific implementation of a method that is already defined in its parent class. This is used when we want to modify or extend the functionality of an inherited method.\n",
        "\n",
        "Let's see an example of method overriding:"
      ],
      "metadata": {
        "id": "fKL3_trL5vLy"
      }
    },
    {
      "cell_type": "code",
      "source": [
        "class Animal:\n",
        "    def speak(self):\n",
        "        print(\"Animal speaks\")\n",
        "\n",
        "class Dog(Animal):\n",
        "    def speak(self):  # Overriding the base class method\n",
        "        print(\"Dog barks\")\n",
        "\n",
        "class Cat(Animal):\n",
        "    def speak(self):  # Overriding the base class method\n",
        "        print(\"Cat meows\")\n",
        "\n",
        "# Creating objects\n",
        "animal = Animal()\n",
        "dog = Dog()\n",
        "cat = Cat()\n",
        "\n",
        "# Polymorphism with overriding\n",
        "animal.speak()  # Outputs: Animal speaks\n",
        "dog.speak()     # Outputs: Dog barks\n",
        "cat.speak()     # Outputs: Cat meows"
      ],
      "metadata": {
        "id": "TznDO7VT5w8p"
      },
      "execution_count": null,
      "outputs": []
    },
    {
      "cell_type": "markdown",
      "source": [
        "## ✅ Key Differences Between Method Overloading and Method Overriding\n",
        "\n",
        "- **Method Overloading**: Defines multiple methods with the same name but different parameters. Achieved through variable-length arguments in Python.\n",
        "- **Method Overriding**: A subclass method has the same name as a parent class method and provides a new implementation.\n",
        "\n",
        "Both concepts are essential in OOP for creating flexible and reusable code."
      ],
      "metadata": {
        "id": "Yacjsp3F5yoI"
      }
    }
  ]
}