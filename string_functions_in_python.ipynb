{
  "nbformat": 4,
  "nbformat_minor": 0,
  "metadata": {
    "colab": {
      "provenance": [],
      "authorship_tag": "ABX9TyMdqRLRphfEeAptvmBHhfPY",
      "include_colab_link": true
    },
    "kernelspec": {
      "name": "python3",
      "display_name": "Python 3"
    },
    "language_info": {
      "name": "python"
    }
  },
  "cells": [
    {
      "cell_type": "markdown",
      "metadata": {
        "id": "view-in-github",
        "colab_type": "text"
      },
      "source": [
        "<a href=\"https://colab.research.google.com/github/Tayyaba-Ramzan/Pythonic-Mastery/blob/main/string_functions_in_python.ipynb\" target=\"_parent\"><img src=\"https://colab.research.google.com/assets/colab-badge.svg\" alt=\"Open In Colab\"/></a>"
      ]
    },
    {
      "cell_type": "markdown",
      "source": [
        "# ***What are String Functions in Python? | Lower, Upper, Title & Capitalize Functions | Python Tutorial for Beginners***\n"
      ],
      "metadata": {
        "id": "BXfkKDrClUDo"
      }
    },
    {
      "cell_type": "markdown",
      "source": [
        "In this tutorial, we will explore four common string functions in Python: `lower()`, `upper()`, `title()`, and `capitalize()`. These functions are useful for formatting text in various ways.\n"
      ],
      "metadata": {
        "id": "pyxFE-YXlYgH"
      }
    },
    {
      "cell_type": "markdown",
      "source": [
        "🔡 Lowercase Conversion"
      ],
      "metadata": {
        "id": "j1vLjbW7lxd-"
      }
    },
    {
      "cell_type": "code",
      "source": [
        "# Convert string to lowercase\n",
        "my_name = \"Tayyaba Ramzan\"\n",
        "print(\"Lowercase:\", my_name.lower())"
      ],
      "metadata": {
        "colab": {
          "base_uri": "https://localhost:8080/"
        },
        "id": "ZrYEswB4lyq-",
        "outputId": "072e9e4c-eb1a-4cf3-bc32-879c1f404218"
      },
      "execution_count": 1,
      "outputs": [
        {
          "output_type": "stream",
          "name": "stdout",
          "text": [
            "Lowercase: tayyaba ramzan\n"
          ]
        }
      ]
    },
    {
      "cell_type": "markdown",
      "source": [
        "🔠 Uppercase Conversion"
      ],
      "metadata": {
        "id": "s4DCqsXSl1NI"
      }
    },
    {
      "cell_type": "code",
      "source": [
        "# Convert string to uppercase\n",
        "print(\"Uppercase:\", my_name.upper())"
      ],
      "metadata": {
        "colab": {
          "base_uri": "https://localhost:8080/"
        },
        "id": "EeVU4-8ll4Bm",
        "outputId": "3e478988-6657-4b87-dac1-349dd6e6ef6e"
      },
      "execution_count": 2,
      "outputs": [
        {
          "output_type": "stream",
          "name": "stdout",
          "text": [
            "Uppercase: TAYYABA RAMZAN\n"
          ]
        }
      ]
    },
    {
      "cell_type": "markdown",
      "source": [
        "📚 Titlecase Conversion"
      ],
      "metadata": {
        "id": "XZ2TPmRsl8B_"
      }
    },
    {
      "cell_type": "code",
      "source": [
        "# Convert string to titlecase (capitalizing the first letter of each word)\n",
        "print(\"Titlecase:\", my_name.title())"
      ],
      "metadata": {
        "colab": {
          "base_uri": "https://localhost:8080/"
        },
        "id": "-MoUudSOl9yg",
        "outputId": "44bc4021-cea4-4758-bcf8-8787943eef0b"
      },
      "execution_count": 3,
      "outputs": [
        {
          "output_type": "stream",
          "name": "stdout",
          "text": [
            "Titlecase: Tayyaba Ramzan\n"
          ]
        }
      ]
    },
    {
      "cell_type": "markdown",
      "source": [
        "🅰️ Capitalize First Letter"
      ],
      "metadata": {
        "id": "Ntzp40z6mBQf"
      }
    },
    {
      "cell_type": "code",
      "source": [
        "# Capitalize only the first letter of the string (others remain as is)\n",
        "print(\"Capitalize:\", my_name.capitalize())"
      ],
      "metadata": {
        "colab": {
          "base_uri": "https://localhost:8080/"
        },
        "id": "SA5bEclPmCfv",
        "outputId": "a70f6f3b-394d-4590-a880-b0774d9e8725"
      },
      "execution_count": 4,
      "outputs": [
        {
          "output_type": "stream",
          "name": "stdout",
          "text": [
            "Capitalize: Tayyaba ramzan\n"
          ]
        }
      ]
    },
    {
      "cell_type": "markdown",
      "source": [
        "## Summary:\n",
        "- `lower()` - Converts the entire string to lowercase.\n",
        "- `upper()` - Converts the entire string to uppercase.\n",
        "- `title()` - Capitalizes the first letter of each word in the string.\n",
        "- `capitalize()` - Capitalizes only the first letter of the first word in the string, leaving the rest in lowercase.\n",
        "\n",
        "These functions are essential for text formatting and user input normalization in Python.\n"
      ],
      "metadata": {
        "id": "bShpjufPmFzX"
      }
    }
  ]
}