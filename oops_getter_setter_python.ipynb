{
  "nbformat": 4,
  "nbformat_minor": 0,
  "metadata": {
    "colab": {
      "provenance": [],
      "authorship_tag": "ABX9TyMnYnFhYkUbA+a+7jVrY+gp",
      "include_colab_link": true
    },
    "kernelspec": {
      "name": "python3",
      "display_name": "Python 3"
    },
    "language_info": {
      "name": "python"
    }
  },
  "cells": [
    {
      "cell_type": "markdown",
      "metadata": {
        "id": "view-in-github",
        "colab_type": "text"
      },
      "source": [
        "<a href=\"https://colab.research.google.com/github/Tayyaba-Ramzan/Pythonic-Mastery/blob/main/oops_getter_setter_python.ipynb\" target=\"_parent\"><img src=\"https://colab.research.google.com/assets/colab-badge.svg\" alt=\"Open In Colab\"/></a>"
      ]
    },
    {
      "cell_type": "markdown",
      "source": [
        "# ***🧠 Getter and Setter Methods in Python | OOP Concept***"
      ],
      "metadata": {
        "id": "-mlZDxZe4PzT"
      }
    },
    {
      "cell_type": "markdown",
      "source": [
        "Getter and Setter methods are used to access and update private data members in a controlled way.\n",
        "\n",
        "Encapsulation uses these methods to enforce data protection and validation logic."
      ],
      "metadata": {
        "id": "i2gZNdHw4YkZ"
      }
    },
    {
      "cell_type": "markdown",
      "source": [
        "## 🔹 Why Use Getters and Setters?\n",
        "\n",
        "- To read/write private variables\n",
        "- To add validation during assignment\n",
        "- To prevent direct access/modification of internal data"
      ],
      "metadata": {
        "id": "5XkP9Wke4aJh"
      }
    },
    {
      "cell_type": "code",
      "source": [
        "class Student:\n",
        "    def __init__(self, name, age):\n",
        "        self.__name = name      # Private attribute\n",
        "        self.__age = age        # Private attribute\n",
        "\n",
        "    def get_name(self):         # Getter\n",
        "        return self.__name\n",
        "\n",
        "    def set_name(self, name):   # Setter\n",
        "        self.__name = name\n",
        "\n",
        "    def get_age(self):          # Getter\n",
        "        return self.__age\n",
        "\n",
        "    def set_age(self, age):     # Setter with validation\n",
        "        if age > 0:\n",
        "            self.__age = age\n",
        "        else:\n",
        "            print(\"Age must be positive\")\n",
        "\n",
        "# Creating object\n",
        "s1 = Student(\"Tayyaba\", 20)\n",
        "\n",
        "# Accessing private attributes using getter\n",
        "print(s1.get_name())\n",
        "print(s1.get_age())\n",
        "\n",
        "# Updating private attributes using setter\n",
        "s1.set_name(\"Ramzan\")\n",
        "s1.set_age(22)\n",
        "\n",
        "print(s1.get_name())\n",
        "print(s1.get_age())\n",
        "\n",
        "# Trying to set invalid age\n",
        "s1.set_age(-5)  # ❌ Invalid age"
      ],
      "metadata": {
        "colab": {
          "base_uri": "https://localhost:8080/"
        },
        "id": "fwJI-4uW4cjR",
        "outputId": "6c080b0f-13cf-4a55-9dd1-34eefddd916d"
      },
      "execution_count": 1,
      "outputs": [
        {
          "output_type": "stream",
          "name": "stdout",
          "text": [
            "Tayyaba\n",
            "20\n",
            "Ramzan\n",
            "22\n",
            "Age must be positive\n"
          ]
        }
      ]
    },
    {
      "cell_type": "markdown",
      "source": [
        "## ✅ Summary\n",
        "\n",
        "- `get_` methods = Access private data\n",
        "- `set_` methods = Modify private data with optional validation\n",
        "- Good for large systems where internal logic must be protected\n",
        "\n",
        "**Encapsulation + Getters/Setters = Clean and Safe Code**"
      ],
      "metadata": {
        "id": "fWOMkv7X4fkr"
      }
    }
  ]
}