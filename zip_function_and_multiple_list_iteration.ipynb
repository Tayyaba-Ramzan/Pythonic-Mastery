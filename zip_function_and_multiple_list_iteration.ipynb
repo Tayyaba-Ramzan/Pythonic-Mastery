{
  "nbformat": 4,
  "nbformat_minor": 0,
  "metadata": {
    "colab": {
      "provenance": [],
      "authorship_tag": "ABX9TyNFyXh5iQxq+aXgO+pSx5in",
      "include_colab_link": true
    },
    "kernelspec": {
      "name": "python3",
      "display_name": "Python 3"
    },
    "language_info": {
      "name": "python"
    }
  },
  "cells": [
    {
      "cell_type": "markdown",
      "metadata": {
        "id": "view-in-github",
        "colab_type": "text"
      },
      "source": [
        "<a href=\"https://colab.research.google.com/github/Tayyaba-Ramzan/Pythonic-Mastery/blob/main/zip_function_and_multiple_list_iteration.ipynb\" target=\"_parent\"><img src=\"https://colab.research.google.com/assets/colab-badge.svg\" alt=\"Open In Colab\"/></a>"
      ]
    },
    {
      "cell_type": "markdown",
      "source": [
        "# ***Zip Function in Python | Iterate Over Multiple Lists***"
      ],
      "metadata": {
        "id": "WXwX0EWsdg8C"
      }
    },
    {
      "cell_type": "markdown",
      "source": [
        "In this tutorial, we will explore:\n",
        "\n",
        "- How the `zip()` function works\n",
        "- How to iterate over two or more lists at the same time\n",
        "- How to convert zipped data into a list or dictionary\n",
        "- Important behavior of zip when lists are unequal in length"
      ],
      "metadata": {
        "id": "JuXCkn0idk8B"
      }
    },
    {
      "cell_type": "markdown",
      "source": [
        "📌 Basic Usage of zip()"
      ],
      "metadata": {
        "id": "ZQ3-3ufcdnHp"
      }
    },
    {
      "cell_type": "code",
      "source": [
        "# zip() example with two lists\n",
        "names = [\"Ali\", \"Sara\", \"Ahmed\"]\n",
        "scores = [85, 92, 78]\n",
        "\n",
        "for name, score in zip(names, scores):\n",
        "    print(f\"{name} scored {score}\")"
      ],
      "metadata": {
        "colab": {
          "base_uri": "https://localhost:8080/"
        },
        "id": "kWqCbnk3dpbh",
        "outputId": "3fcab7c9-4464-472a-bb5d-819fea981bcc"
      },
      "execution_count": 1,
      "outputs": [
        {
          "output_type": "stream",
          "name": "stdout",
          "text": [
            "Ali scored 85\n",
            "Sara scored 92\n",
            "Ahmed scored 78\n"
          ]
        }
      ]
    },
    {
      "cell_type": "markdown",
      "source": [
        "📌 Converting zip to list"
      ],
      "metadata": {
        "id": "DvJq193ldslp"
      }
    },
    {
      "cell_type": "code",
      "source": [
        "# Convert zipped object into a list of tuples\n",
        "combined = list(zip(names, scores))\n",
        "print(\"Zipped List:\", combined)"
      ],
      "metadata": {
        "colab": {
          "base_uri": "https://localhost:8080/"
        },
        "id": "EtACbIxTdu9K",
        "outputId": "7e183038-23e3-446c-a39e-ef3f515b382b"
      },
      "execution_count": 2,
      "outputs": [
        {
          "output_type": "stream",
          "name": "stdout",
          "text": [
            "Zipped List: [('Ali', 85), ('Sara', 92), ('Ahmed', 78)]\n"
          ]
        }
      ]
    },
    {
      "cell_type": "markdown",
      "source": [
        "📌 zip() with three lists"
      ],
      "metadata": {
        "id": "Ju9EntaYdxcx"
      }
    },
    {
      "cell_type": "code",
      "source": [
        "# zip() with three lists\n",
        "subjects = [\"Math\", \"Science\", \"English\"]\n",
        "\n",
        "for name, score, subject in zip(names, scores, subjects):\n",
        "    print(f\"{name} scored {score} in {subject}\")"
      ],
      "metadata": {
        "colab": {
          "base_uri": "https://localhost:8080/"
        },
        "id": "sPxkwFCod0Gh",
        "outputId": "cbbd2f1e-5966-462c-aa59-91fb2d2d8b17"
      },
      "execution_count": 3,
      "outputs": [
        {
          "output_type": "stream",
          "name": "stdout",
          "text": [
            "Ali scored 85 in Math\n",
            "Sara scored 92 in Science\n",
            "Ahmed scored 78 in English\n"
          ]
        }
      ]
    },
    {
      "cell_type": "markdown",
      "source": [
        "📌 zip() with unequal lengths"
      ],
      "metadata": {
        "id": "GyQL4GI2d2HA"
      }
    },
    {
      "cell_type": "code",
      "source": [
        "# When one list is shorter than others\n",
        "short_names = [\"Ali\", \"Sara\"]\n",
        "scores = [85, 92, 78]\n",
        "\n",
        "# zip stops at the shortest list\n",
        "for name, score in zip(short_names, scores):\n",
        "    print(f\"{name} scored {score}\")"
      ],
      "metadata": {
        "colab": {
          "base_uri": "https://localhost:8080/"
        },
        "id": "l7ummhTCd4lR",
        "outputId": "28e10781-3739-4f23-9589-c403304e2f47"
      },
      "execution_count": 4,
      "outputs": [
        {
          "output_type": "stream",
          "name": "stdout",
          "text": [
            "Ali scored 85\n",
            "Sara scored 92\n"
          ]
        }
      ]
    },
    {
      "cell_type": "markdown",
      "source": [
        "📌 Creating Dictionary using zip()"
      ],
      "metadata": {
        "id": "FHELL4u0d9RQ"
      }
    },
    {
      "cell_type": "code",
      "source": [
        "# Create a dictionary from two lists using zip\n",
        "student_scores = dict(zip(names, scores))\n",
        "print(\"Student Score Dictionary:\", student_scores)"
      ],
      "metadata": {
        "colab": {
          "base_uri": "https://localhost:8080/"
        },
        "id": "tEfOkmVtd-iD",
        "outputId": "1b9a81a0-64e5-45b9-a863-d5f16211ef8d"
      },
      "execution_count": 5,
      "outputs": [
        {
          "output_type": "stream",
          "name": "stdout",
          "text": [
            "Student Score Dictionary: {'Ali': 85, 'Sara': 92, 'Ahmed': 78}\n"
          ]
        }
      ]
    }
  ]
}