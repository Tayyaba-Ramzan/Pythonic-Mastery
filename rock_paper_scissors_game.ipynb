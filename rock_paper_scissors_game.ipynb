{
  "nbformat": 4,
  "nbformat_minor": 0,
  "metadata": {
    "colab": {
      "provenance": [],
      "authorship_tag": "ABX9TyMjpqaB86NKirDV0Cjj5R+4",
      "include_colab_link": true
    },
    "kernelspec": {
      "name": "python3",
      "display_name": "Python 3"
    },
    "language_info": {
      "name": "python"
    }
  },
  "cells": [
    {
      "cell_type": "markdown",
      "metadata": {
        "id": "view-in-github",
        "colab_type": "text"
      },
      "source": [
        "<a href=\"https://colab.research.google.com/github/Tayyaba-Ramzan/Pythonic-Mastery/blob/main/rock_paper_scissors_game.ipynb\" target=\"_parent\"><img src=\"https://colab.research.google.com/assets/colab-badge.svg\" alt=\"Open In Colab\"/></a>"
      ]
    },
    {
      "cell_type": "markdown",
      "source": [
        "# ***✂️ Rock, Paper, Scissors Game using `random` Module in Python***"
      ],
      "metadata": {
        "id": "xS3b1fZ6GQGO"
      }
    },
    {
      "cell_type": "markdown",
      "source": [
        "## 🎯 Objective\n",
        "\n",
        "In this mini project, we will create a **Rock, Paper, Scissors** game using Python.  \n",
        "The goal is to practice logic-building, conditionals, loops, and user interaction with the help of Python’s built-in **`random`** module.\n",
        "\n",
        "---\n",
        "\n",
        "## 📚 What You Will Learn\n",
        "\n",
        "- How to take user input using `input()`\n",
        "- How to generate random choices using `random.choice()`\n",
        "- How to compare choices using conditional statements (`if`, `elif`, `else`)\n",
        "- How to keep track of score and play multiple rounds\n",
        "- How to make your Python program interactive and fun!\n",
        "\n",
        "---\n",
        "\n",
        "## 🛠️ Requirements\n",
        "\n",
        "No external libraries needed — only Python’s built-in `random` module.\n",
        "\n",
        "```python\n",
        "import random"
      ],
      "metadata": {
        "id": "gBu4h5qDGmQV"
      }
    },
    {
      "cell_type": "markdown",
      "source": [
        "✅ Features\n",
        "Interactive CLI game\n",
        "\n",
        "Validates user input\n",
        "\n",
        "Best of N rounds logic\n",
        "\n",
        "Tracks and displays score\n",
        "\n",
        "Declares the final winner"
      ],
      "metadata": {
        "id": "FINvPNEYGrFt"
      }
    },
    {
      "cell_type": "code",
      "source": [
        "# 🎮 Rock, Paper, Scissors Game Using Python's Random Module\n",
        "\n",
        "import random\n",
        "\n",
        "def get_user_choice():\n",
        "    choice = input(\"Choose Rock, Paper, or Scissors: \").strip().lower()\n",
        "    if choice not in ['rock', 'paper', 'scissors']:\n",
        "        print(\"❌ Invalid choice! Please choose again.\\n\")\n",
        "        return get_user_choice()\n",
        "    return choice\n",
        "\n",
        "def get_computer_choice():\n",
        "    return random.choice(['rock', 'paper', 'scissors'])\n",
        "\n",
        "def determine_winner(user, computer):\n",
        "    if user == computer:\n",
        "        return \"draw\"\n",
        "    if (user == \"rock\" and computer == \"scissors\") or \\\n",
        "       (user == \"paper\" and computer == \"rock\") or \\\n",
        "       (user == \"scissors\" and computer == \"paper\"):\n",
        "        return \"user\"\n",
        "    return \"computer\"\n",
        "\n",
        "def play():\n",
        "    print(\"🎯 Welcome to Rock, Paper, Scissors Game!\")\n",
        "    rounds = int(input(\"How many rounds would you like to play? \"))\n",
        "    user_score = 0\n",
        "    computer_score = 0\n",
        "\n",
        "    for round_number in range(1, rounds + 1):\n",
        "        print(f\"\\n🔄 Round {round_number}\")\n",
        "        user = get_user_choice()\n",
        "        computer = get_computer_choice()\n",
        "        print(f\"🧑 You chose: {user.capitalize()}\")\n",
        "        print(f\"🤖 Computer chose: {computer.capitalize()}\")\n",
        "\n",
        "        winner = determine_winner(user, computer)\n",
        "        if winner == \"user\":\n",
        "            print(\"✅ You win this round!\")\n",
        "            user_score += 1\n",
        "        elif winner == \"computer\":\n",
        "            print(\"❌ Computer wins this round!\")\n",
        "            computer_score += 1\n",
        "        else:\n",
        "            print(\"⚖️ It's a draw!\")\n",
        "\n",
        "    print(\"\\n🏁 Game Over!\")\n",
        "    print(f\"🧑 Your Score: {user_score}\")\n",
        "    print(f\"🤖 Computer Score: {computer_score}\")\n",
        "\n",
        "    if user_score > computer_score:\n",
        "        print(\"🎉 Congratulations! You won the game!\")\n",
        "    elif user_score < computer_score:\n",
        "        print(\"😓 Computer won the game. Better luck next time!\")\n",
        "    else:\n",
        "        print(\"🤝 It's a tie!\")\n",
        "\n",
        "if __name__ == \"__main__\":\n",
        "    play()\n"
      ],
      "metadata": {
        "colab": {
          "base_uri": "https://localhost:8080/"
        },
        "id": "V7i-li8_GtlV",
        "outputId": "2eddb505-0e10-41db-8649-cb19df35bda7"
      },
      "execution_count": 5,
      "outputs": [
        {
          "output_type": "stream",
          "name": "stdout",
          "text": [
            "🎯 Welcome to Rock, Paper, Scissors Game!\n",
            "How many rounds would you like to play? 1\n",
            "\n",
            "🔄 Round 1\n",
            "Choose Rock, Paper, or Scissors: Scissors\n",
            "🧑 You chose: Scissors\n",
            "🤖 Computer chose: Paper\n",
            "✅ You win this round!\n",
            "\n",
            "🏁 Game Over!\n",
            "🧑 Your Score: 1\n",
            "🤖 Computer Score: 0\n",
            "🎉 Congratulations! You won the game!\n"
          ]
        }
      ]
    }
  ]
}