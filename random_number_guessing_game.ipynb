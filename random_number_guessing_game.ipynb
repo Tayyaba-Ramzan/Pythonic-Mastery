{
  "nbformat": 4,
  "nbformat_minor": 0,
  "metadata": {
    "colab": {
      "provenance": [],
      "authorship_tag": "ABX9TyMicc7a4XcwSyQZvJ81IZg+",
      "include_colab_link": true
    },
    "kernelspec": {
      "name": "python3",
      "display_name": "Python 3"
    },
    "language_info": {
      "name": "python"
    }
  },
  "cells": [
    {
      "cell_type": "markdown",
      "metadata": {
        "id": "view-in-github",
        "colab_type": "text"
      },
      "source": [
        "<a href=\"https://colab.research.google.com/github/Tayyaba-Ramzan/Pythonic-Mastery/blob/main/random_number_guessing_game.ipynb\" target=\"_parent\"><img src=\"https://colab.research.google.com/assets/colab-badge.svg\" alt=\"Open In Colab\"/></a>"
      ]
    },
    {
      "cell_type": "markdown",
      "source": [
        "# ***How to Create a Random Number Guessing Game Using Random Module in Python***"
      ],
      "metadata": {
        "id": "ivjivnkQFplY"
      }
    },
    {
      "cell_type": "markdown",
      "source": [
        "This tutorial demonstrates how to build a simple number guessing game using the `random` module. The program will:\n",
        "- Generate a random number between 1 and 10\n",
        "- Ask the user to guess the number\n",
        "- Give feedback whether the guess is correct or not\n",
        "\n",
        "We'll use:\n",
        "- `random.randint()` to generate the number\n",
        "- `input()` to get the user's guess\n",
        "- A `while` loop to keep asking until the guess is correct"
      ],
      "metadata": {
        "id": "vsF8TBgcFrg3"
      }
    },
    {
      "cell_type": "code",
      "source": [
        "# Random Number Guessing Game using random module\n",
        "\n",
        "import random\n",
        "\n",
        "# Generate a random number between 1 and 10\n",
        "secret_number = random.randint(1, 10)\n",
        "\n",
        "# Initial message\n",
        "print(\"Welcome to the Random Number Guessing Game!\")\n",
        "print(\"I'm thinking of a number between 1 and 10. Can you guess it?\")\n",
        "\n",
        "# Keep asking until the user guesses correctly\n",
        "while True:\n",
        "    # Get input from the user\n",
        "    guess = int(input(\"Enter your guess: \"))\n",
        "\n",
        "    # Check the guess\n",
        "    if guess == secret_number:\n",
        "        print(\"🎉 Congratulations! You guessed it right!\")\n",
        "        break\n",
        "    elif guess < secret_number:\n",
        "        print(\"Too low. Try a higher number.\")\n",
        "    else:\n",
        "        print(\"Too high. Try a lower number.\")\n"
      ],
      "metadata": {
        "id": "fxac349cFth2",
        "colab": {
          "base_uri": "https://localhost:8080/"
        },
        "outputId": "053d81e1-67bc-4c89-8e54-b31cefd24e1e"
      },
      "execution_count": 2,
      "outputs": [
        {
          "output_type": "stream",
          "name": "stdout",
          "text": [
            "Welcome to the Random Number Guessing Game!\n",
            "I'm thinking of a number between 1 and 10. Can you guess it?\n",
            "Enter your guess: 5\n",
            "Too low. Try a higher number.\n",
            "Enter your guess: 8\n",
            "Too high. Try a lower number.\n",
            "Enter your guess: 6\n",
            "Too low. Try a higher number.\n",
            "Enter your guess: 7\n",
            "🎉 Congratulations! You guessed it right!\n"
          ]
        }
      ]
    }
  ]
}