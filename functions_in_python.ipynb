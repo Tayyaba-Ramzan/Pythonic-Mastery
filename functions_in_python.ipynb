{
  "nbformat": 4,
  "nbformat_minor": 0,
  "metadata": {
    "colab": {
      "provenance": [],
      "authorship_tag": "ABX9TyP84k0CPs45xfo2x6BIdS5x",
      "include_colab_link": true
    },
    "kernelspec": {
      "name": "python3",
      "display_name": "Python 3"
    },
    "language_info": {
      "name": "python"
    }
  },
  "cells": [
    {
      "cell_type": "markdown",
      "metadata": {
        "id": "view-in-github",
        "colab_type": "text"
      },
      "source": [
        "<a href=\"https://colab.research.google.com/github/Tayyaba-Ramzan/Pythonic-Mastery/blob/main/functions_in_python.ipynb\" target=\"_parent\"><img src=\"https://colab.research.google.com/assets/colab-badge.svg\" alt=\"Open In Colab\"/></a>"
      ]
    },
    {
      "cell_type": "markdown",
      "source": [
        "# ***What are Functions in Python - Explained with Examples for Beginners***\n"
      ],
      "metadata": {
        "id": "DHnZAVy2yv-_"
      }
    },
    {
      "cell_type": "markdown",
      "source": [
        "Functions in Python are blocks of reusable code used to perform a specific task.  \n",
        "You can define a function using the `def` keyword.\n",
        "\n",
        "### Benefits of using functions:\n",
        "- Reusability of code\n",
        "- Better readability and organization\n",
        "- Easier debugging and testing"
      ],
      "metadata": {
        "id": "RP5QaEyGy07W"
      }
    },
    {
      "cell_type": "markdown",
      "source": [
        "📌 Defining and Calling a Simple Function\n",
        "\n"
      ],
      "metadata": {
        "id": "09xBvkV-y2Am"
      }
    },
    {
      "cell_type": "code",
      "source": [
        "# Simple function definition and call\n",
        "def greet():\n",
        "    print(\"Hello! Welcome to Python Functions.\")\n",
        "\n",
        "greet()"
      ],
      "metadata": {
        "id": "kCespUgey5Fm",
        "colab": {
          "base_uri": "https://localhost:8080/"
        },
        "outputId": "179b5543-5aea-41a7-9f1f-eeb7a4e4fd86"
      },
      "execution_count": 1,
      "outputs": [
        {
          "output_type": "stream",
          "name": "stdout",
          "text": [
            "Hello! Welcome to Python Functions.\n"
          ]
        }
      ]
    },
    {
      "cell_type": "markdown",
      "source": [
        "📌 Function with Parameters\n",
        "\n"
      ],
      "metadata": {
        "id": "OG2yBVK3y9CG"
      }
    },
    {
      "cell_type": "code",
      "source": [
        "# Function with one parameter\n",
        "def greet_user(name):\n",
        "    print(\"Hello\", name)\n",
        "\n",
        "greet_user(\"Tayyaba\")"
      ],
      "metadata": {
        "id": "QPPcoRUUy-y-",
        "colab": {
          "base_uri": "https://localhost:8080/"
        },
        "outputId": "d402e103-f624-4d2c-aed5-4a8d9488e177"
      },
      "execution_count": 5,
      "outputs": [
        {
          "output_type": "stream",
          "name": "stdout",
          "text": [
            "Hello Tayyaba\n"
          ]
        }
      ]
    },
    {
      "cell_type": "markdown",
      "source": [
        "📌 Function with Return Value\n"
      ],
      "metadata": {
        "id": "WmVYolxCzB3-"
      }
    },
    {
      "cell_type": "code",
      "source": [
        "# Function that returns value\n",
        "def add(a, b):\n",
        "    return a + b\n",
        "\n",
        "result = add(5, 10)\n",
        "print(\"Sum:\", result)"
      ],
      "metadata": {
        "id": "6ZsqO4emzEBe",
        "colab": {
          "base_uri": "https://localhost:8080/"
        },
        "outputId": "a9551f4f-7dfc-4306-d04f-8466626ad909"
      },
      "execution_count": 4,
      "outputs": [
        {
          "output_type": "stream",
          "name": "stdout",
          "text": [
            "Sum: 15\n"
          ]
        }
      ]
    },
    {
      "cell_type": "markdown",
      "source": [
        "📌 Function with Default Parameter\n",
        "\n"
      ],
      "metadata": {
        "id": "VNS1wqIazE4P"
      }
    },
    {
      "cell_type": "code",
      "source": [
        "# Function with default parameter\n",
        "def greet_user(name=\"Guest\"):\n",
        "    print(\"Welcome\", name)\n",
        "\n",
        "greet_user()\n",
        "greet_user(\"Ramzan\")"
      ],
      "metadata": {
        "id": "uDLl4hD8zGyu",
        "colab": {
          "base_uri": "https://localhost:8080/"
        },
        "outputId": "df248310-f47c-4797-b8cf-4e19eecabb1f"
      },
      "execution_count": 3,
      "outputs": [
        {
          "output_type": "stream",
          "name": "stdout",
          "text": [
            "Welcome Guest\n",
            "Welcome Ramzan\n"
          ]
        }
      ]
    },
    {
      "cell_type": "markdown",
      "source": [
        "📌 Function with Multiple Parameters\n"
      ],
      "metadata": {
        "id": "8WnWH5bnzJau"
      }
    },
    {
      "cell_type": "code",
      "source": [
        "# Function with multiple parameters\n",
        "def multiply(x, y):\n",
        "    print(\"Product:\", x * y)\n",
        "\n",
        "multiply(4, 6)"
      ],
      "metadata": {
        "id": "2ZebvizizMrG",
        "colab": {
          "base_uri": "https://localhost:8080/"
        },
        "outputId": "5cd3ae37-09f2-43de-fa3c-5688171e031a"
      },
      "execution_count": 2,
      "outputs": [
        {
          "output_type": "stream",
          "name": "stdout",
          "text": [
            "Product: 24\n"
          ]
        }
      ]
    }
  ]
}