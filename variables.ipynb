{
  "nbformat": 4,
  "nbformat_minor": 0,
  "metadata": {
    "colab": {
      "provenance": [],
      "authorship_tag": "ABX9TyPBIsKv4ZzghOEr230z4l+f",
      "include_colab_link": true
    },
    "kernelspec": {
      "name": "python3",
      "display_name": "Python 3"
    },
    "language_info": {
      "name": "python"
    }
  },
  "cells": [
    {
      "cell_type": "markdown",
      "metadata": {
        "id": "view-in-github",
        "colab_type": "text"
      },
      "source": [
        "<a href=\"https://colab.research.google.com/github/Tayyaba-Ramzan/Pythonic-Mastery/blob/main/variables.ipynb\" target=\"_parent\"><img src=\"https://colab.research.google.com/assets/colab-badge.svg\" alt=\"Open In Colab\"/></a>"
      ]
    },
    {
      "cell_type": "markdown",
      "source": [
        "# ***Variables in Python***"
      ],
      "metadata": {
        "id": "nNN97HZFv8yd"
      }
    },
    {
      "cell_type": "code",
      "execution_count": 1,
      "metadata": {
        "colab": {
          "base_uri": "https://localhost:8080/"
        },
        "id": "6EHPbQsTvmZ_",
        "outputId": "358dc7f5-9882-4ac5-da71-eaaf2c2741bb"
      },
      "outputs": [
        {
          "output_type": "stream",
          "name": "stdout",
          "text": [
            "10 10\n",
            "a 10\n",
            "10751144 10751144\n",
            "Hello\n"
          ]
        }
      ],
      "source": [
        "# Variable Declaration\n",
        "a = 10\n",
        "b = 10\n",
        "print(a, b)\n",
        "print('a', b)\n",
        "\n",
        "# Memory Location / Address\n",
        "print(id(a), id(b))\n",
        "\n",
        "# String Variable\n",
        "c = \"Hello\"\n",
        "print(c)\n"
      ]
    }
  ]
}