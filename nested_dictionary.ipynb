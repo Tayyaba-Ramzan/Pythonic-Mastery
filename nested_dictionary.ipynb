{
  "nbformat": 4,
  "nbformat_minor": 0,
  "metadata": {
    "colab": {
      "provenance": [],
      "authorship_tag": "ABX9TyO4TQ7P9Y7KFXLe/Ku/iAVv",
      "include_colab_link": true
    },
    "kernelspec": {
      "name": "python3",
      "display_name": "Python 3"
    },
    "language_info": {
      "name": "python"
    }
  },
  "cells": [
    {
      "cell_type": "markdown",
      "metadata": {
        "id": "view-in-github",
        "colab_type": "text"
      },
      "source": [
        "<a href=\"https://colab.research.google.com/github/Tayyaba-Ramzan/Pythonic-Mastery/blob/main/nested_dictionary.ipynb\" target=\"_parent\"><img src=\"https://colab.research.google.com/assets/colab-badge.svg\" alt=\"Open In Colab\"/></a>"
      ]
    },
    {
      "cell_type": "markdown",
      "source": [
        "# ***What is Python Nested Dictionary - Explained with Examples for Beginners***\n",
        "\n"
      ],
      "metadata": {
        "id": "QbZxK8Zg0rry"
      }
    },
    {
      "cell_type": "markdown",
      "source": [
        "A **nested dictionary** means a dictionary inside another dictionary.  \n",
        "It allows you to store complex data structures in a hierarchical way."
      ],
      "metadata": {
        "id": "qrFTSv_Z00lZ"
      }
    },
    {
      "cell_type": "markdown",
      "source": [
        "📌 Simple Nested Dictionary"
      ],
      "metadata": {
        "id": "1yj1hLZR02Ya"
      }
    },
    {
      "cell_type": "code",
      "source": [
        "# Nested Dictionary Example\n",
        "student = {\n",
        "    \"name\": \"Tayyaba\",\n",
        "    \"marks\": {\n",
        "        \"Python\": 93,\n",
        "        \"Next.js\": 95\n",
        "    }\n",
        "}\n",
        "\n",
        "print(student)"
      ],
      "metadata": {
        "id": "4ijR5KAm04ZS",
        "colab": {
          "base_uri": "https://localhost:8080/"
        },
        "outputId": "b0ea7597-4def-4257-96c5-591b8a0f05d0"
      },
      "execution_count": 5,
      "outputs": [
        {
          "output_type": "stream",
          "name": "stdout",
          "text": [
            "{'name': 'Tayyaba', 'marks': {'Python': 93, 'Next.js': 95}}\n"
          ]
        }
      ]
    },
    {
      "cell_type": "markdown",
      "source": [
        "📌 Accessing Nested Values"
      ],
      "metadata": {
        "id": "PNVHm4Wk052Z"
      }
    },
    {
      "cell_type": "code",
      "source": [
        "# Accessing nested values\n",
        "print(\"Math Marks:\", student[\"marks\"][\"math\"])\n",
        "print(\"Science Marks:\", student[\"marks\"][\"science\"])"
      ],
      "metadata": {
        "id": "sjnGSxA30-dB",
        "colab": {
          "base_uri": "https://localhost:8080/"
        },
        "outputId": "7ded2df9-4d88-4aa9-bd0d-4c814bf74d9b"
      },
      "execution_count": 2,
      "outputs": [
        {
          "output_type": "stream",
          "name": "stdout",
          "text": [
            "Math Marks: 90\n",
            "Science Marks: 85\n"
          ]
        }
      ]
    },
    {
      "cell_type": "markdown",
      "source": [
        "📌 Updating Nested Dictionary"
      ],
      "metadata": {
        "id": "19zJLayd0-_p"
      }
    },
    {
      "cell_type": "code",
      "source": [
        "# Updating nested dictionary value\n",
        "student[\"marks\"][\"math\"] = 95\n",
        "print(\"Updated Math Marks:\", student[\"marks\"][\"math\"])"
      ],
      "metadata": {
        "id": "-UN08pfK1BPB",
        "colab": {
          "base_uri": "https://localhost:8080/"
        },
        "outputId": "6fda019e-d871-4d05-b57d-237190f7aac8"
      },
      "execution_count": 3,
      "outputs": [
        {
          "output_type": "stream",
          "name": "stdout",
          "text": [
            "Updated Math Marks: 95\n"
          ]
        }
      ]
    },
    {
      "cell_type": "markdown",
      "source": [
        "📌 Iterating Through Nested Dictionary\n"
      ],
      "metadata": {
        "id": "QbPwt3dS1C7p"
      }
    },
    {
      "cell_type": "code",
      "source": [
        "# Iterating through nested dictionary\n",
        "for subject, score in student[\"marks\"].items():\n",
        "    print(subject, \":\", score)"
      ],
      "metadata": {
        "id": "-8xMYDVz1FFR",
        "colab": {
          "base_uri": "https://localhost:8080/"
        },
        "outputId": "82d749de-e353-4057-80a9-4d5440c11e93"
      },
      "execution_count": 4,
      "outputs": [
        {
          "output_type": "stream",
          "name": "stdout",
          "text": [
            "math : 95\n",
            "science : 85\n"
          ]
        }
      ]
    }
  ]
}