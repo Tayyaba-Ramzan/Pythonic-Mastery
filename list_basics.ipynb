{
  "nbformat": 4,
  "nbformat_minor": 0,
  "metadata": {
    "colab": {
      "provenance": [],
      "authorship_tag": "ABX9TyMCuypCOqIAAH4akPs3a45D",
      "include_colab_link": true
    },
    "kernelspec": {
      "name": "python3",
      "display_name": "Python 3"
    },
    "language_info": {
      "name": "python"
    }
  },
  "cells": [
    {
      "cell_type": "markdown",
      "metadata": {
        "id": "view-in-github",
        "colab_type": "text"
      },
      "source": [
        "<a href=\"https://colab.research.google.com/github/Tayyaba-Ramzan/Pythonic-Mastery/blob/main/list_basics.ipynb\" target=\"_parent\"><img src=\"https://colab.research.google.com/assets/colab-badge.svg\" alt=\"Open In Colab\"/></a>"
      ]
    },
    {
      "cell_type": "markdown",
      "source": [
        "# ***List in Python | Complete Tutorial for Beginners***"
      ],
      "metadata": {
        "id": "ZMIJ047EY4pG"
      }
    },
    {
      "cell_type": "markdown",
      "source": [
        "In this lesson, you'll learn how to:\n",
        "- Create a list in Python\n",
        "- Store different data types in a list\n",
        "- Use indexing to access list elements\n",
        "- Understand how lists are ordered and mutable\n",
        "\n",
        "Let's begin!"
      ],
      "metadata": {
        "id": "CXfPmes7Y8RA"
      }
    },
    {
      "cell_type": "markdown",
      "source": [
        "📌 Creating a List"
      ],
      "metadata": {
        "id": "cxREoHA_ZH2c"
      }
    },
    {
      "cell_type": "code",
      "source": [
        "# Creating a simple list\n",
        "fruits = [\"apple\", \"banana\", \"mango\", \"orange\"]\n",
        "print(\"List of fruits:\", fruits)"
      ],
      "metadata": {
        "colab": {
          "base_uri": "https://localhost:8080/"
        },
        "id": "PwYm4aIZZJFU",
        "outputId": "d58fb232-a1a3-47ce-f755-f83b3a7b24f2"
      },
      "execution_count": 1,
      "outputs": [
        {
          "output_type": "stream",
          "name": "stdout",
          "text": [
            "List of fruits: ['apple', 'banana', 'mango', 'orange']\n"
          ]
        }
      ]
    },
    {
      "cell_type": "markdown",
      "source": [
        "📌 List with Different Data Types"
      ],
      "metadata": {
        "id": "4uykTyeEZMm0"
      }
    },
    {
      "cell_type": "code",
      "source": [
        "# Lists can store different types of data\n",
        "my_info = [\"Tayyaba\", 21, True, 95.5]\n",
        "print(\"Mixed data list:\", my_info)"
      ],
      "metadata": {
        "colab": {
          "base_uri": "https://localhost:8080/"
        },
        "id": "H4WEl2K_ZOUs",
        "outputId": "3685250a-1962-4e68-e8ef-7aead77cd353"
      },
      "execution_count": 2,
      "outputs": [
        {
          "output_type": "stream",
          "name": "stdout",
          "text": [
            "Mixed data list: ['Tayyaba', 21, True, 95.5]\n"
          ]
        }
      ]
    },
    {
      "cell_type": "markdown",
      "source": [
        "📌 Accessing Elements by Index"
      ],
      "metadata": {
        "id": "MQRH_o43ZRYk"
      }
    },
    {
      "cell_type": "code",
      "source": [
        "# Accessing elements using index (0-based indexing)\n",
        "print(\"First fruit:\", fruits[0])\n",
        "print(\"Last fruit:\", fruits[-1])"
      ],
      "metadata": {
        "colab": {
          "base_uri": "https://localhost:8080/"
        },
        "id": "QU69Q5pnZT08",
        "outputId": "4579c3ab-00f5-45c5-ebc7-d47939d14b28"
      },
      "execution_count": 3,
      "outputs": [
        {
          "output_type": "stream",
          "name": "stdout",
          "text": [
            "First fruit: apple\n",
            "Last fruit: orange\n"
          ]
        }
      ]
    },
    {
      "cell_type": "markdown",
      "source": [
        "📌 Length of a List"
      ],
      "metadata": {
        "id": "CmT_qpudZWo0"
      }
    },
    {
      "cell_type": "code",
      "source": [
        "# Finding the length of a list\n",
        "print(\"Total number of fruits:\", len(fruits))"
      ],
      "metadata": {
        "colab": {
          "base_uri": "https://localhost:8080/"
        },
        "id": "NhBBEhCcZYcU",
        "outputId": "2c3e3e7b-6d32-4c21-b876-3785e658f4d5"
      },
      "execution_count": 4,
      "outputs": [
        {
          "output_type": "stream",
          "name": "stdout",
          "text": [
            "Total number of fruits: 4\n"
          ]
        }
      ]
    },
    {
      "cell_type": "markdown",
      "source": [
        "📌 Updating a List Item"
      ],
      "metadata": {
        "id": "VNx1MA3YZcxM"
      }
    },
    {
      "cell_type": "code",
      "source": [
        "# Lists are mutable, which means you can change the values\n",
        "fruits[1] = \"grapes\"\n",
        "print(\"Updated fruits list:\", fruits)"
      ],
      "metadata": {
        "colab": {
          "base_uri": "https://localhost:8080/"
        },
        "id": "x4KGijD0Zd7D",
        "outputId": "f6862454-ea29-4af4-d1b2-bcdac4566375"
      },
      "execution_count": 5,
      "outputs": [
        {
          "output_type": "stream",
          "name": "stdout",
          "text": [
            "Updated fruits list: ['apple', 'grapes', 'mango', 'orange']\n"
          ]
        }
      ]
    },
    {
      "cell_type": "markdown",
      "source": [
        "## Summary\n",
        "\n",
        "- Lists in Python are ordered collections of items.\n",
        "- They can store different types of data (strings, numbers, booleans, etc.).\n",
        "- Use `[]` to define a list and access elements using index.\n",
        "- Lists are mutable — you can change their values.\n",
        "\n",
        "Next, we’ll explore how to add, remove, and slice lists."
      ],
      "metadata": {
        "id": "xdB3R917ZgS0"
      }
    }
  ]
}