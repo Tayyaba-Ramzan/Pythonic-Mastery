{
  "nbformat": 4,
  "nbformat_minor": 0,
  "metadata": {
    "colab": {
      "provenance": [],
      "authorship_tag": "ABX9TyO/KY/TOVCb6tX7P4cMNFTc",
      "include_colab_link": true
    },
    "kernelspec": {
      "name": "python3",
      "display_name": "Python 3"
    },
    "language_info": {
      "name": "python"
    }
  },
  "cells": [
    {
      "cell_type": "markdown",
      "metadata": {
        "id": "view-in-github",
        "colab_type": "text"
      },
      "source": [
        "<a href=\"https://colab.research.google.com/github/Tayyaba-Ramzan/Pythonic-Mastery/blob/main/list_iteration.ipynb\" target=\"_parent\"><img src=\"https://colab.research.google.com/assets/colab-badge.svg\" alt=\"Open In Colab\"/></a>"
      ]
    },
    {
      "cell_type": "markdown",
      "source": [
        "# ***List Iteration in Python | Using For Loop & Enumerate***"
      ],
      "metadata": {
        "id": "0VEw_ufVZ7AE"
      }
    },
    {
      "cell_type": "markdown",
      "source": [
        "In this lesson, you’ll learn:\n",
        "- How to iterate over lists using `for` loop\n",
        "- How to access both index and value using `enumerate()`\n",
        "- The difference between normal iteration and `enumerate`\n",
        "\n",
        "Let's get started!"
      ],
      "metadata": {
        "id": "NO3CAoKnZ_Ic"
      }
    },
    {
      "cell_type": "markdown",
      "source": [
        "📌 Simple List Iteration"
      ],
      "metadata": {
        "id": "D_uJo1FlaAzD"
      }
    },
    {
      "cell_type": "code",
      "source": [
        "# Iterating through a list using for loop\n",
        "fruits = [\"apple\", \"banana\", \"mango\", \"orange\"]\n",
        "\n",
        "for fruit in fruits:\n",
        "    print(\"Fruit:\", fruit)"
      ],
      "metadata": {
        "colab": {
          "base_uri": "https://localhost:8080/"
        },
        "id": "LDc9EWTjaDms",
        "outputId": "c1f81fbb-14f9-4492-bd51-1691b36ca07d"
      },
      "execution_count": 1,
      "outputs": [
        {
          "output_type": "stream",
          "name": "stdout",
          "text": [
            "Fruit: apple\n",
            "Fruit: banana\n",
            "Fruit: mango\n",
            "Fruit: orange\n"
          ]
        }
      ]
    },
    {
      "cell_type": "markdown",
      "source": [
        "📌 List Iteration with Index using Range"
      ],
      "metadata": {
        "id": "Y8Nx5TCLaFuT"
      }
    },
    {
      "cell_type": "code",
      "source": [
        "# Using range and len to access index and value\n",
        "for i in range(len(fruits)):\n",
        "    print(\"Index:\", i, \"Fruit:\", fruits[i])"
      ],
      "metadata": {
        "colab": {
          "base_uri": "https://localhost:8080/"
        },
        "id": "WTwsFHepaIh7",
        "outputId": "7b5adebf-18e5-433d-cf3a-c341d6699d32"
      },
      "execution_count": 2,
      "outputs": [
        {
          "output_type": "stream",
          "name": "stdout",
          "text": [
            "Index: 0 Fruit: apple\n",
            "Index: 1 Fruit: banana\n",
            "Index: 2 Fruit: mango\n",
            "Index: 3 Fruit: orange\n"
          ]
        }
      ]
    },
    {
      "cell_type": "markdown",
      "source": [
        "📌 List Iteration with Enumerate"
      ],
      "metadata": {
        "id": "CSKNfkxgaN79"
      }
    },
    {
      "cell_type": "code",
      "source": [
        "# Using enumerate to get index and value together\n",
        "for index, fruit in enumerate(fruits):\n",
        "    print(\"Index:\", index, \"Fruit:\", fruit)"
      ],
      "metadata": {
        "colab": {
          "base_uri": "https://localhost:8080/"
        },
        "id": "psaFoxvxaQB7",
        "outputId": "6ba7c24c-3c95-4dd0-8cfd-3dd2bf44e1c2"
      },
      "execution_count": 3,
      "outputs": [
        {
          "output_type": "stream",
          "name": "stdout",
          "text": [
            "Index: 0 Fruit: apple\n",
            "Index: 1 Fruit: banana\n",
            "Index: 2 Fruit: mango\n",
            "Index: 3 Fruit: orange\n"
          ]
        }
      ]
    },
    {
      "cell_type": "markdown",
      "source": [
        "📌 Enumerate with Custom Start Index"
      ],
      "metadata": {
        "id": "YcWBH9F2aV07"
      }
    },
    {
      "cell_type": "code",
      "source": [
        "# Starting index from 1 instead of 0 using enumerate\n",
        "for index, fruit in enumerate(fruits, start=1):\n",
        "    print(\"Fruit\", index, \":\", fruit)"
      ],
      "metadata": {
        "colab": {
          "base_uri": "https://localhost:8080/"
        },
        "id": "dxkPMZXDaW0b",
        "outputId": "5646cfa2-6e48-4ede-c77f-507f8d1cf7cf"
      },
      "execution_count": 4,
      "outputs": [
        {
          "output_type": "stream",
          "name": "stdout",
          "text": [
            "Fruit 1 : apple\n",
            "Fruit 2 : banana\n",
            "Fruit 3 : mango\n",
            "Fruit 4 : orange\n"
          ]
        }
      ]
    },
    {
      "cell_type": "markdown",
      "source": [
        "## Summary\n",
        "\n",
        "- `for` loop is used to iterate through lists.\n",
        "- `range(len(list))` gives manual access to index and values.\n",
        "- `enumerate()` is a Pythonic way to get both index and value.\n",
        "- You can use `start=` in `enumerate()` to change starting index.\n",
        "\n",
        "In the next tutorial, we’ll learn about adding, updating, and removing elements in a list."
      ],
      "metadata": {
        "id": "-d4xMPaqaayL"
      }
    }
  ]
}