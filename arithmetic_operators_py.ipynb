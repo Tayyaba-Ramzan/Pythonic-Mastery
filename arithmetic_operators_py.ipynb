{
  "nbformat": 4,
  "nbformat_minor": 0,
  "metadata": {
    "colab": {
      "provenance": [],
      "authorship_tag": "ABX9TyPFd4dKzSuPbhtBkbEMs0ys",
      "include_colab_link": true
    },
    "kernelspec": {
      "name": "python3",
      "display_name": "Python 3"
    },
    "language_info": {
      "name": "python"
    }
  },
  "cells": [
    {
      "cell_type": "markdown",
      "metadata": {
        "id": "view-in-github",
        "colab_type": "text"
      },
      "source": [
        "<a href=\"https://colab.research.google.com/github/Tayyaba-Ramzan/Pythonic-Mastery/blob/main/arithmetic_operators_py.ipynb\" target=\"_parent\"><img src=\"https://colab.research.google.com/assets/colab-badge.svg\" alt=\"Open In Colab\"/></a>"
      ]
    },
    {
      "cell_type": "markdown",
      "source": [
        "# ***Arithmetic Operators in Python***\n",
        "In this step, we explore what operators are in Python, focusing on arithmetic operators such as `+`, `-`, `*`, `/`, `//`, `%`, and `**` with clear examples.\n"
      ],
      "metadata": {
        "id": "rNC4Kypt6eES"
      }
    },
    {
      "cell_type": "code",
      "execution_count": 2,
      "metadata": {
        "colab": {
          "base_uri": "https://localhost:8080/"
        },
        "id": "8RwktfK56ZIA",
        "outputId": "4730e2b5-5936-450f-d2f8-72c8664ccee4"
      },
      "outputs": [
        {
          "output_type": "stream",
          "name": "stdout",
          "text": [
            "Addition: 19\n",
            "Subtraction: 11\n",
            "Multiplication: 60\n",
            "Division: 3.75\n",
            "Floor Division: 3\n",
            "Modulus: 3\n",
            "Exponentiation: 50625\n"
          ]
        }
      ],
      "source": [
        "num1 = 15\n",
        "num2 = 4\n",
        "\n",
        "print(\"Addition:\", num1 + num2)        # 19\n",
        "print(\"Subtraction:\", num1 - num2)     # 11\n",
        "print(\"Multiplication:\", num1 * num2)  # 60\n",
        "print(\"Division:\", num1 / num2)        # 3.75\n",
        "print(\"Floor Division:\", num1 // num2) # 3\n",
        "print(\"Modulus:\", num1 % num2)         # 3\n",
        "print(\"Exponentiation:\", num1 ** num2) # 50625\n"
      ]
    }
  ]
}