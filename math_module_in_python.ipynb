{
  "nbformat": 4,
  "nbformat_minor": 0,
  "metadata": {
    "colab": {
      "provenance": [],
      "authorship_tag": "ABX9TyPQWwsVpq2tJzAbxwvf3Q/t",
      "include_colab_link": true
    },
    "kernelspec": {
      "name": "python3",
      "display_name": "Python 3"
    },
    "language_info": {
      "name": "python"
    }
  },
  "cells": [
    {
      "cell_type": "markdown",
      "metadata": {
        "id": "view-in-github",
        "colab_type": "text"
      },
      "source": [
        "<a href=\"https://colab.research.google.com/github/Tayyaba-Ramzan/Pythonic-Mastery/blob/main/math_module_in_python.ipynb\" target=\"_parent\"><img src=\"https://colab.research.google.com/assets/colab-badge.svg\" alt=\"Open In Colab\"/></a>"
      ]
    },
    {
      "cell_type": "markdown",
      "source": [
        "# ***What are Math Modules in Python - Explained with Examples | Python Tutorial***"
      ],
      "metadata": {
        "id": "RgMfsA4Dw8-j"
      }
    },
    {
      "cell_type": "markdown",
      "source": [
        "The **math module** in Python provides access to mathematical functions like square root, power, trigonometry, logarithm, constants, and more.\n",
        "\n",
        "To use it, we first import the module:\n",
        "\n",
        "```python\n",
        "import math"
      ],
      "metadata": {
        "id": "OG2VmDUQxDqI"
      }
    },
    {
      "cell_type": "markdown",
      "source": [
        "Common functions and constants:\n",
        "\n",
        "math.sqrt(x)\n",
        "\n",
        "math.pow(x, y)\n",
        "\n",
        "math.floor(x)\n",
        "\n",
        "math.ceil(x)\n",
        "\n",
        "math.pi\n",
        "\n",
        "math.e\n",
        "\n",
        "math.factorial(x)"
      ],
      "metadata": {
        "id": "OWGfju1qx3xw"
      }
    },
    {
      "cell_type": "markdown",
      "source": [
        "📌 Cell 1: Import and Basics"
      ],
      "metadata": {
        "id": "Ak3Myf7xxEdy"
      }
    },
    {
      "cell_type": "code",
      "source": [
        "import math\n",
        "\n",
        "print(\"Square root of 25 is:\", math.sqrt(25))\n",
        "print(\"2 to the power 3 is:\", math.pow(2, 3))\n",
        "print(\"Value of Pi is:\", math.pi)\n",
        "print(\"Euler's number e is:\", math.e)"
      ],
      "metadata": {
        "colab": {
          "base_uri": "https://localhost:8080/"
        },
        "id": "hbhEzrOBxQiY",
        "outputId": "a071c5a8-c121-45f6-c31d-28fd98544b8a"
      },
      "execution_count": 10,
      "outputs": [
        {
          "output_type": "stream",
          "name": "stdout",
          "text": [
            "Square root of 25 is: 5.0\n",
            "2 to the power 3 is: 8.0\n",
            "Value of Pi is: 3.141592653589793\n",
            "Euler's number e is: 2.718281828459045\n"
          ]
        }
      ]
    },
    {
      "cell_type": "markdown",
      "source": [
        "📌 Cell 2: Rounding Functions"
      ],
      "metadata": {
        "id": "Wny7LKamxS1I"
      }
    },
    {
      "cell_type": "code",
      "source": [
        "num = 4.7\n",
        "\n",
        "print(\"Floor of 4.7 is:\", math.floor(num))  # Round down\n",
        "print(\"Ceil of 4.7 is:\", math.ceil(num))    # Round up"
      ],
      "metadata": {
        "colab": {
          "base_uri": "https://localhost:8080/"
        },
        "id": "hkWQzGXFxUqw",
        "outputId": "5e60e49f-78cd-4f10-abb9-7235414bdff8"
      },
      "execution_count": 9,
      "outputs": [
        {
          "output_type": "stream",
          "name": "stdout",
          "text": [
            "Floor of 4.7 is: 4\n",
            "Ceil of 4.7 is: 5\n"
          ]
        }
      ]
    },
    {
      "cell_type": "markdown",
      "source": [
        "📌 Cell 3: Factorial and Absolute"
      ],
      "metadata": {
        "id": "ffcHDzYVxWTn"
      }
    },
    {
      "cell_type": "code",
      "source": [
        "print(\"Factorial of 5 is:\", math.factorial(5))\n",
        "print(\"Absolute value of -10 is:\", math.fabs(-10))"
      ],
      "metadata": {
        "colab": {
          "base_uri": "https://localhost:8080/"
        },
        "id": "ATbs09PaxX8I",
        "outputId": "e821d703-06a9-4ba5-d6b7-97cfc0f44c92"
      },
      "execution_count": 8,
      "outputs": [
        {
          "output_type": "stream",
          "name": "stdout",
          "text": [
            "Factorial of 5 is: 120\n",
            "Absolute value of -10 is: 10.0\n"
          ]
        }
      ]
    },
    {
      "cell_type": "markdown",
      "source": [
        "📌 Cell 4: Trigonometry Functions"
      ],
      "metadata": {
        "id": "JZNeuHSGxZs4"
      }
    },
    {
      "cell_type": "code",
      "source": [
        "print(\"cos(0):\", math.cos(0))\n",
        "print(\"sin(0):\", math.sin(0))\n",
        "print(\"tan(45 degrees):\", math.tan(math.radians(45)))  # Convert degrees to radians"
      ],
      "metadata": {
        "colab": {
          "base_uri": "https://localhost:8080/"
        },
        "id": "vVOCuaNyxbUw",
        "outputId": "efd790e0-db00-48f7-9a6e-9513c460aaa0"
      },
      "execution_count": 6,
      "outputs": [
        {
          "output_type": "stream",
          "name": "stdout",
          "text": [
            "cos(0): 1.0\n",
            "sin(0): 0.0\n",
            "tan(45 degrees): 0.9999999999999999\n"
          ]
        }
      ]
    }
  ]
}