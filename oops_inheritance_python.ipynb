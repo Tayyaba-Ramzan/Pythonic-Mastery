{
  "nbformat": 4,
  "nbformat_minor": 0,
  "metadata": {
    "colab": {
      "provenance": [],
      "authorship_tag": "ABX9TyNQ1s9jTk9JwGhvrJZK4X2v",
      "include_colab_link": true
    },
    "kernelspec": {
      "name": "python3",
      "display_name": "Python 3"
    },
    "language_info": {
      "name": "python"
    }
  },
  "cells": [
    {
      "cell_type": "markdown",
      "metadata": {
        "id": "view-in-github",
        "colab_type": "text"
      },
      "source": [
        "<a href=\"https://colab.research.google.com/github/Tayyaba-Ramzan/Pythonic-Mastery/blob/main/oops_inheritance_python.ipynb\" target=\"_parent\"><img src=\"https://colab.research.google.com/assets/colab-badge.svg\" alt=\"Open In Colab\"/></a>"
      ]
    },
    {
      "cell_type": "markdown",
      "source": [
        "# ***👨‍👩‍👧 Inheritance in Python - OOP Concept***"
      ],
      "metadata": {
        "id": "K2275ZkQKm-7"
      }
    },
    {
      "cell_type": "markdown",
      "source": [
        "\n",
        "Inheritance allows a class (child) to inherit attributes and methods from another class (parent).\n",
        "\n",
        "Benefits of Inheritance:\n",
        "- Code Reusability\n",
        "- Extensibility\n",
        "- Logical hierarchy"
      ],
      "metadata": {
        "id": "h28CXq2SKpza"
      }
    },
    {
      "cell_type": "markdown",
      "source": [
        "## ✅ Single Inheritance\n",
        "A child class inherits from one parent class."
      ],
      "metadata": {
        "id": "Ekp_hckUKrry"
      }
    },
    {
      "cell_type": "code",
      "source": [
        "class Animal:\n",
        "    def speak(self):\n",
        "        print(\"Animal speaks\")\n",
        "\n",
        "class Dog(Animal):\n",
        "    def bark(self):\n",
        "        print(\"Dog barks\")\n",
        "\n",
        "d = Dog()\n",
        "d.speak()\n",
        "d.bark()"
      ],
      "metadata": {
        "id": "WbsRsT8DKsRS",
        "colab": {
          "base_uri": "https://localhost:8080/"
        },
        "outputId": "164260c8-6b2b-4443-e5ec-67cabaf8e7a0"
      },
      "execution_count": 4,
      "outputs": [
        {
          "output_type": "stream",
          "name": "stdout",
          "text": [
            "Animal speaks\n",
            "Dog barks\n"
          ]
        }
      ]
    },
    {
      "cell_type": "markdown",
      "source": [
        "## ✅ Multilevel Inheritance\n",
        "A child inherits from a class, which itself inherits from another class."
      ],
      "metadata": {
        "id": "gixSWsNmKv0q"
      }
    },
    {
      "cell_type": "code",
      "source": [
        "class Grandparent:\n",
        "    def grand_action(self):\n",
        "        print(\"This is the grandparent's action\")\n",
        "\n",
        "class Parent(Grandparent):\n",
        "    def parent_action(self):\n",
        "        print(\"This is the parent's action\")\n",
        "\n",
        "class Child(Parent):\n",
        "    def child_action(self):\n",
        "        print(\"This is the child's action\")\n",
        "\n",
        "c = Child()\n",
        "c.grand_action()\n",
        "c.parent_action()\n",
        "c.child_action()"
      ],
      "metadata": {
        "id": "O0hsEq7KKwcq",
        "colab": {
          "base_uri": "https://localhost:8080/"
        },
        "outputId": "d2ce250b-5a15-49b2-9922-729da4f4d042"
      },
      "execution_count": 3,
      "outputs": [
        {
          "output_type": "stream",
          "name": "stdout",
          "text": [
            "This is the grandparent's action\n",
            "This is the parent's action\n",
            "This is the child's action\n"
          ]
        }
      ]
    },
    {
      "cell_type": "markdown",
      "source": [
        "## ✅ Multiple Inheritance\n",
        "A child class inherits from more than one parent class."
      ],
      "metadata": {
        "id": "7Fe2BTXnKz2C"
      }
    },
    {
      "cell_type": "code",
      "source": [
        "class Father:\n",
        "    def skills(self):\n",
        "        print(\"Father: Gardening\")\n",
        "\n",
        "class Mother:\n",
        "    def skills(self):\n",
        "        print(\"Mother: Cooking\")\n",
        "\n",
        "class Child(Father, Mother):\n",
        "    def skills(self):\n",
        "        print(\"Child: Drawing\")\n",
        "\n",
        "c = Child()\n",
        "c.skills()"
      ],
      "metadata": {
        "id": "omayWxD0K0dq",
        "colab": {
          "base_uri": "https://localhost:8080/"
        },
        "outputId": "a3a166c4-5b61-4863-847f-bffde7d22941"
      },
      "execution_count": 2,
      "outputs": [
        {
          "output_type": "stream",
          "name": "stdout",
          "text": [
            "Child: Drawing\n"
          ]
        }
      ]
    }
  ]
}