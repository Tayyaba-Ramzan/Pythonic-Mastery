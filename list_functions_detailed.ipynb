{
  "nbformat": 4,
  "nbformat_minor": 0,
  "metadata": {
    "colab": {
      "provenance": [],
      "authorship_tag": "ABX9TyPHQt96ZISdqk6iQ6oSQH8C",
      "include_colab_link": true
    },
    "kernelspec": {
      "name": "python3",
      "display_name": "Python 3"
    },
    "language_info": {
      "name": "python"
    }
  },
  "cells": [
    {
      "cell_type": "markdown",
      "metadata": {
        "id": "view-in-github",
        "colab_type": "text"
      },
      "source": [
        "<a href=\"https://colab.research.google.com/github/Tayyaba-Ramzan/Pythonic-Mastery/blob/main/list_functions_detailed.ipynb\" target=\"_parent\"><img src=\"https://colab.research.google.com/assets/colab-badge.svg\" alt=\"Open In Colab\"/></a>"
      ]
    },
    {
      "cell_type": "markdown",
      "source": [
        "# ***List Functions in Python (Detailed Explanation)***"
      ],
      "metadata": {
        "id": "bHk7-pQscSEU"
      }
    },
    {
      "cell_type": "markdown",
      "source": [
        "In this lesson, we will learn about commonly used list functions:\n",
        "\n",
        "- append()\n",
        "- insert()\n",
        "- extend()\n",
        "- sort()\n",
        "- reverse()\n",
        "- count()\n",
        "- index()\n",
        "\n",
        "Each function helps you perform different operations to manage and modify lists.\n",
        "Let's explore them one by one!"
      ],
      "metadata": {
        "id": "ByEGXZBgcWdK"
      }
    },
    {
      "cell_type": "markdown",
      "source": [
        "📌 append() Function"
      ],
      "metadata": {
        "id": "VIqn1HuicYhR"
      }
    },
    {
      "cell_type": "code",
      "source": [
        "# append() - Adds an element to the end of the list\n",
        "fruits = [\"Apple\", \"Banana\"]\n",
        "fruits.append(\"Cherry\")\n",
        "print(\"After append():\", fruits)"
      ],
      "metadata": {
        "colab": {
          "base_uri": "https://localhost:8080/"
        },
        "id": "AUM6zMvEcanJ",
        "outputId": "618e7c69-b755-4b6d-f21e-44438f48c20d"
      },
      "execution_count": 1,
      "outputs": [
        {
          "output_type": "stream",
          "name": "stdout",
          "text": [
            "After append(): ['Apple', 'Banana', 'Cherry']\n"
          ]
        }
      ]
    },
    {
      "cell_type": "markdown",
      "source": [
        "📌 insert() Function"
      ],
      "metadata": {
        "id": "WKrETPbRceHh"
      }
    },
    {
      "cell_type": "code",
      "source": [
        "# insert() - Adds an element at a specific index\n",
        "fruits.insert(1, \"Orange\")\n",
        "print(\"After insert():\", fruits)"
      ],
      "metadata": {
        "colab": {
          "base_uri": "https://localhost:8080/"
        },
        "id": "3NDGQdC9cgUV",
        "outputId": "c116a124-9103-4c34-cc37-09d16e8da6e9"
      },
      "execution_count": 2,
      "outputs": [
        {
          "output_type": "stream",
          "name": "stdout",
          "text": [
            "After insert(): ['Apple', 'Orange', 'Banana', 'Cherry']\n"
          ]
        }
      ]
    },
    {
      "cell_type": "markdown",
      "source": [
        "📌 extend() Function"
      ],
      "metadata": {
        "id": "FAD0B6Cich2R"
      }
    },
    {
      "cell_type": "code",
      "source": [
        "# extend() - Adds all elements of another list\n",
        "fruits.extend([\"Grapes\", \"Mango\"])\n",
        "print(\"After extend():\", fruits)"
      ],
      "metadata": {
        "colab": {
          "base_uri": "https://localhost:8080/"
        },
        "id": "cCGSgxbTcjxZ",
        "outputId": "af931778-f3ce-45a2-b97e-d708e4dab9c9"
      },
      "execution_count": 3,
      "outputs": [
        {
          "output_type": "stream",
          "name": "stdout",
          "text": [
            "After extend(): ['Apple', 'Orange', 'Banana', 'Cherry', 'Grapes', 'Mango']\n"
          ]
        }
      ]
    },
    {
      "cell_type": "markdown",
      "source": [
        "📌 sort() Function"
      ],
      "metadata": {
        "id": "mbpNtapacmVS"
      }
    },
    {
      "cell_type": "code",
      "source": [
        "# sort() - Sorts the list in ascending order\n",
        "numbers = [5, 2, 9, 1]\n",
        "numbers.sort()\n",
        "print(\"After sort():\", numbers)"
      ],
      "metadata": {
        "colab": {
          "base_uri": "https://localhost:8080/"
        },
        "id": "ttbNx71Hcnhp",
        "outputId": "64a8abbc-b95e-48cd-f4d2-73418a0b720a"
      },
      "execution_count": 4,
      "outputs": [
        {
          "output_type": "stream",
          "name": "stdout",
          "text": [
            "After sort(): [1, 2, 5, 9]\n"
          ]
        }
      ]
    },
    {
      "cell_type": "markdown",
      "source": [
        "📌 reverse() Function"
      ],
      "metadata": {
        "id": "_j_URA3qcpPZ"
      }
    },
    {
      "cell_type": "code",
      "source": [
        "# reverse() - Reverses the elements in the list\n",
        "numbers.reverse()\n",
        "print(\"After reverse():\", numbers)"
      ],
      "metadata": {
        "colab": {
          "base_uri": "https://localhost:8080/"
        },
        "id": "deFpyCBXcrWR",
        "outputId": "20f33784-5c21-46fb-b139-1bff682c4112"
      },
      "execution_count": 5,
      "outputs": [
        {
          "output_type": "stream",
          "name": "stdout",
          "text": [
            "After reverse(): [9, 5, 2, 1]\n"
          ]
        }
      ]
    },
    {
      "cell_type": "markdown",
      "source": [
        "📌 count() Function"
      ],
      "metadata": {
        "id": "s4t_NbbzcsiJ"
      }
    },
    {
      "cell_type": "code",
      "source": [
        "# count() - Counts the number of times a value occurs\n",
        "values = [1, 2, 3, 2, 4, 2]\n",
        "print(\"Count of 2:\", values.count(2))"
      ],
      "metadata": {
        "colab": {
          "base_uri": "https://localhost:8080/"
        },
        "id": "YSyI281lcujp",
        "outputId": "d8eb462a-c583-4885-a14a-ade58f662cbd"
      },
      "execution_count": 6,
      "outputs": [
        {
          "output_type": "stream",
          "name": "stdout",
          "text": [
            "Count of 2: 3\n"
          ]
        }
      ]
    },
    {
      "cell_type": "markdown",
      "source": [
        "📌 index() Function"
      ],
      "metadata": {
        "id": "udLqvnxJczix"
      }
    },
    {
      "cell_type": "code",
      "source": [
        "# index() - Returns the index of the first occurrence\n",
        "names = [\"Ali\", \"Sara\", \"Ali\", \"Ahmed\"]\n",
        "print(\"Index of 'Ali':\", names.index(\"Ali\"))"
      ],
      "metadata": {
        "colab": {
          "base_uri": "https://localhost:8080/"
        },
        "id": "htcU9erLc0iZ",
        "outputId": "48fd10a0-34d4-44c0-b95a-0ab999dffb7b"
      },
      "execution_count": 7,
      "outputs": [
        {
          "output_type": "stream",
          "name": "stdout",
          "text": [
            "Index of 'Ali': 0\n"
          ]
        }
      ]
    }
  ]
}