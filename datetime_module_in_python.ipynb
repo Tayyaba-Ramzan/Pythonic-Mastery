{
  "nbformat": 4,
  "nbformat_minor": 0,
  "metadata": {
    "colab": {
      "provenance": [],
      "authorship_tag": "ABX9TyPvHWsRP5VUyVnnL2EF/O60",
      "include_colab_link": true
    },
    "kernelspec": {
      "name": "python3",
      "display_name": "Python 3"
    },
    "language_info": {
      "name": "python"
    }
  },
  "cells": [
    {
      "cell_type": "markdown",
      "metadata": {
        "id": "view-in-github",
        "colab_type": "text"
      },
      "source": [
        "<a href=\"https://colab.research.google.com/github/Tayyaba-Ramzan/Pythonic-Mastery/blob/main/datetime_module_in_python.ipynb\" target=\"_parent\"><img src=\"https://colab.research.google.com/assets/colab-badge.svg\" alt=\"Open In Colab\"/></a>"
      ]
    },
    {
      "cell_type": "markdown",
      "source": [
        "# ***What are Datetime Modules in Python - Explained with Examples | Python Tutorial***"
      ],
      "metadata": {
        "id": "LrnaNoTQzmWX"
      }
    },
    {
      "cell_type": "markdown",
      "source": [
        "The `datetime` module in Python is used to work with dates and times. It provides classes for manipulating dates, times, and intervals.\n",
        "\n",
        "To use this module, we import it:\n",
        "\n",
        "```python\n",
        "import datetime"
      ],
      "metadata": {
        "id": "EZgjuEiUzquv"
      }
    },
    {
      "cell_type": "markdown",
      "source": [
        "Main classes in the datetime module:\n",
        "\n",
        "datetime.date — handles dates (year, month, day)\n",
        "\n",
        "datetime.time — handles time (hour, minute, second, microsecond)\n",
        "\n",
        "datetime.datetime — combines both date and time\n",
        "\n",
        "datetime.timedelta — represents the difference between two dates or times"
      ],
      "metadata": {
        "id": "Ht3DcTh8zsiO"
      }
    },
    {
      "cell_type": "markdown",
      "source": [
        "📌 Cell 1: Current Date"
      ],
      "metadata": {
        "id": "ldsJUeuIzuU-"
      }
    },
    {
      "cell_type": "code",
      "source": [
        "import datetime\n",
        "\n",
        "today = datetime.date.today()\n",
        "print(\"Today's date:\", today)"
      ],
      "metadata": {
        "id": "vFp0Wk6lzxCm",
        "colab": {
          "base_uri": "https://localhost:8080/"
        },
        "outputId": "19c713ea-2445-4c2c-bc4f-b96c34406464"
      },
      "execution_count": 1,
      "outputs": [
        {
          "output_type": "stream",
          "name": "stdout",
          "text": [
            "Today's date: 2025-05-05\n"
          ]
        }
      ]
    },
    {
      "cell_type": "markdown",
      "source": [
        "📌 Cell 2: Create Specific Date"
      ],
      "metadata": {
        "id": "n9LsO_g9zzSG"
      }
    },
    {
      "cell_type": "code",
      "source": [
        "custom_date = datetime.date(2025, 5, 5)\n",
        "print(\"Custom date:\", custom_date)"
      ],
      "metadata": {
        "id": "jTeNT0v8z1n2",
        "colab": {
          "base_uri": "https://localhost:8080/"
        },
        "outputId": "5f8f832b-7252-413a-c369-db79b4d6c188"
      },
      "execution_count": 2,
      "outputs": [
        {
          "output_type": "stream",
          "name": "stdout",
          "text": [
            "Custom date: 2025-05-05\n"
          ]
        }
      ]
    },
    {
      "cell_type": "markdown",
      "source": [
        "📌 Cell 3: Current Time"
      ],
      "metadata": {
        "id": "XvuxBoNNz7U3"
      }
    },
    {
      "cell_type": "code",
      "source": [
        "current_time = datetime.datetime.now().time()\n",
        "print(\"Current time:\", current_time)"
      ],
      "metadata": {
        "id": "8uOeih5uz-Bu",
        "colab": {
          "base_uri": "https://localhost:8080/"
        },
        "outputId": "fad28862-112a-4cdc-da13-d204bc9cc41d"
      },
      "execution_count": 3,
      "outputs": [
        {
          "output_type": "stream",
          "name": "stdout",
          "text": [
            "Current time: 15:06:38.703377\n"
          ]
        }
      ]
    },
    {
      "cell_type": "markdown",
      "source": [
        "📌 Cell 4: Current Date and Time"
      ],
      "metadata": {
        "id": "E0kC48t30AQP"
      }
    },
    {
      "cell_type": "code",
      "source": [
        "now = datetime.datetime.now()\n",
        "print(\"Current date and time:\", now)"
      ],
      "metadata": {
        "id": "uvsYZF__0DIO",
        "colab": {
          "base_uri": "https://localhost:8080/"
        },
        "outputId": "0e70b8e2-9db6-42b9-a4f3-84badb6a2fff"
      },
      "execution_count": 4,
      "outputs": [
        {
          "output_type": "stream",
          "name": "stdout",
          "text": [
            "Current date and time: 2025-05-05 15:06:38.720620\n"
          ]
        }
      ]
    },
    {
      "cell_type": "markdown",
      "source": [
        "📌 Cell 5: Timedelta Example"
      ],
      "metadata": {
        "id": "JblIlyNc0G1l"
      }
    },
    {
      "cell_type": "code",
      "source": [
        "today = datetime.date.today()\n",
        "five_days = datetime.timedelta(days=5)\n",
        "future_date = today + five_days\n",
        "print(\"Date after 5 days:\", future_date)\n",
        "\n",
        "past_date = today - five_days\n",
        "print(\"Date 5 days ago:\", past_date)"
      ],
      "metadata": {
        "id": "DfbK-JcQ0Hfm",
        "colab": {
          "base_uri": "https://localhost:8080/"
        },
        "outputId": "73852455-ea08-40bf-95cb-253b58136250"
      },
      "execution_count": 5,
      "outputs": [
        {
          "output_type": "stream",
          "name": "stdout",
          "text": [
            "Date after 5 days: 2025-05-10\n",
            "Date 5 days ago: 2025-04-30\n"
          ]
        }
      ]
    }
  ]
}