{
  "nbformat": 4,
  "nbformat_minor": 0,
  "metadata": {
    "colab": {
      "provenance": [],
      "authorship_tag": "ABX9TyO3mpShirfi8+gvhB2Ad+Py",
      "include_colab_link": true
    },
    "kernelspec": {
      "name": "python3",
      "display_name": "Python 3"
    },
    "language_info": {
      "name": "python"
    }
  },
  "cells": [
    {
      "cell_type": "markdown",
      "metadata": {
        "id": "view-in-github",
        "colab_type": "text"
      },
      "source": [
        "<a href=\"https://colab.research.google.com/github/Tayyaba-Ramzan/Pythonic-Mastery/blob/main/identity_operators.ipynb\" target=\"_parent\"><img src=\"https://colab.research.google.com/assets/colab-badge.svg\" alt=\"Open In Colab\"/></a>"
      ]
    },
    {
      "cell_type": "markdown",
      "source": [
        "# ***Identity Operators in Python***\n",
        "\n",
        "In this step, we will understand **Identity Operators** in Python.\n",
        "\n",
        "These operators compare the **memory location** of two objects:\n",
        "\n",
        "- `is` → Returns `True` if both variables point to the same object in memory\n",
        "- `is not` → Returns `True` if they do **not** point to the same object\n",
        "\n",
        "### Example:\n",
        "```python\n",
        "x = [1, 2, 3]\n",
        "y = x\n",
        "z = [1, 2, 3]\n",
        "\n",
        "print(x is y)       # True — both refer to the same object\n",
        "print(x is z)       # False — different objects even if values are same\n",
        "print(x is not z)   # True"
      ],
      "metadata": {
        "id": "-s3TftYmTUiz"
      }
    },
    {
      "cell_type": "code",
      "execution_count": null,
      "metadata": {
        "id": "sGnooZCjS6lv"
      },
      "outputs": [],
      "source": [
        "# 'is' vs '==' Operator\n",
        "x = 10\n",
        "y = 10\n",
        "print(x is y, x == y)   # True True (same memory and same value)\n",
        "\n",
        "# 'is not' vs '!=' Operator\n",
        "a = 20\n",
        "b = 30\n",
        "print(a is not b, a != b)  # True True (different memory and different value)\n"
      ]
    }
  ]
}