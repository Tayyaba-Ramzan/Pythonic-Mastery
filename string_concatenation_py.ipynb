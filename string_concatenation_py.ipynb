{
  "nbformat": 4,
  "nbformat_minor": 0,
  "metadata": {
    "colab": {
      "provenance": [],
      "authorship_tag": "ABX9TyP51O4Vgo9qIo+lCCKdPGYZ",
      "include_colab_link": true
    },
    "kernelspec": {
      "name": "python3",
      "display_name": "Python 3"
    },
    "language_info": {
      "name": "python"
    }
  },
  "cells": [
    {
      "cell_type": "markdown",
      "metadata": {
        "id": "view-in-github",
        "colab_type": "text"
      },
      "source": [
        "<a href=\"https://colab.research.google.com/github/Tayyaba-Ramzan/Pythonic-Mastery/blob/main/string_concatenation_py.ipynb\" target=\"_parent\"><img src=\"https://colab.research.google.com/assets/colab-badge.svg\" alt=\"Open In Colab\"/></a>"
      ]
    },
    {
      "cell_type": "markdown",
      "source": [
        "# ***Strings and Concatenation in Python***\n",
        "\n",
        "This step covers how to create string variables and join them using both the `+` operator and modern `f-strings`.\n"
      ],
      "metadata": {
        "id": "nywpQOzO42Uc"
      }
    },
    {
      "cell_type": "code",
      "execution_count": 4,
      "metadata": {
        "colab": {
          "base_uri": "https://localhost:8080/"
        },
        "id": "hapCfLKZ4sgM",
        "outputId": "03e0fd26-aedc-4dff-cda3-9cd29c8c63ad"
      },
      "outputs": [
        {
          "output_type": "stream",
          "name": "stdout",
          "text": [
            "Full Name (using +): Tayyaba Ramzan\n",
            "Full Name (using f-string): Tayyaba Ramzan\n"
          ]
        }
      ],
      "source": [
        "# Using + Operator\n",
        "first_name = \"Tayyaba\"\n",
        "last_name = \"Ramzan\"\n",
        "full_name = first_name + \" \" + last_name\n",
        "print(\"Full Name (using +):\", full_name)\n",
        "\n",
        "# Using f-string\n",
        "full_name_f = f\"{first_name} {last_name}\"\n",
        "print(f\"Full Name (using f-string): {full_name_f}\")\n"
      ]
    }
  ]
}