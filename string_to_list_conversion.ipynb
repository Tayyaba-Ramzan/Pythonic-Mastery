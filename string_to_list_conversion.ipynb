{
  "nbformat": 4,
  "nbformat_minor": 0,
  "metadata": {
    "colab": {
      "provenance": [],
      "authorship_tag": "ABX9TyP0gs6DBjrBAuNiczaREr6+",
      "include_colab_link": true
    },
    "kernelspec": {
      "name": "python3",
      "display_name": "Python 3"
    },
    "language_info": {
      "name": "python"
    }
  },
  "cells": [
    {
      "cell_type": "markdown",
      "metadata": {
        "id": "view-in-github",
        "colab_type": "text"
      },
      "source": [
        "<a href=\"https://colab.research.google.com/github/Tayyaba-Ramzan/Pythonic-Mastery/blob/main/string_to_list_conversion.ipynb\" target=\"_parent\"><img src=\"https://colab.research.google.com/assets/colab-badge.svg\" alt=\"Open In Colab\"/></a>"
      ]
    },
    {
      "cell_type": "markdown",
      "source": [
        "# ***How to Convert String to List in Python | Python Tutorial***\n"
      ],
      "metadata": {
        "id": "gdiDZpFsx8bG"
      }
    },
    {
      "cell_type": "markdown",
      "source": [
        "In this tutorial, we will learn how to convert a string into a list using different methods:\n",
        "\n",
        "- `list()` – Converts each character into a list element.\n",
        "- `split()` – Converts string into a list by separating with spaces or custom delimiters."
      ],
      "metadata": {
        "id": "HgDaA0upyDHD"
      }
    },
    {
      "cell_type": "markdown",
      "source": [
        "📌 Convert string to list of characters using list()"
      ],
      "metadata": {
        "id": "wcaKKGDHyGPL"
      }
    },
    {
      "cell_type": "code",
      "source": [
        "# Using list() to convert string into list of characters\n",
        "text = \"Hello\"\n",
        "char_list = list(text)\n",
        "print(\"List of characters:\", char_list)"
      ],
      "metadata": {
        "colab": {
          "base_uri": "https://localhost:8080/"
        },
        "id": "utFFrwomyLuD",
        "outputId": "9380dd37-239c-4c83-e5d6-9cbef25ca330"
      },
      "execution_count": 1,
      "outputs": [
        {
          "output_type": "stream",
          "name": "stdout",
          "text": [
            "List of characters: ['H', 'e', 'l', 'l', 'o']\n"
          ]
        }
      ]
    },
    {
      "cell_type": "markdown",
      "source": [
        "📌 Convert string to list of words using split()\n",
        "\n"
      ],
      "metadata": {
        "id": "RYDAzsf5yNiT"
      }
    },
    {
      "cell_type": "code",
      "source": [
        "# Using split() to convert string into list of words\n",
        "sentence = \"Welcome to Python programming\"\n",
        "word_list = sentence.split()\n",
        "print(\"List of words:\", word_list)"
      ],
      "metadata": {
        "colab": {
          "base_uri": "https://localhost:8080/"
        },
        "id": "YSBwF_S6yQ5b",
        "outputId": "a2b370ba-09dc-4b33-c6ce-659230bbbc96"
      },
      "execution_count": 2,
      "outputs": [
        {
          "output_type": "stream",
          "name": "stdout",
          "text": [
            "List of words: ['Welcome', 'to', 'Python', 'programming']\n"
          ]
        }
      ]
    },
    {
      "cell_type": "markdown",
      "source": [
        "📌 Convert using custom delimiter with split()\n"
      ],
      "metadata": {
        "id": "n31yQyVCySfj"
      }
    },
    {
      "cell_type": "code",
      "source": [
        "# Using custom delimiter in split()\n",
        "data = \"apple,banana,orange\"\n",
        "fruit_list = data.split(\",\")\n",
        "print(\"Fruits list:\", fruit_list)"
      ],
      "metadata": {
        "colab": {
          "base_uri": "https://localhost:8080/"
        },
        "id": "u8S7bTf8yVUL",
        "outputId": "b55cdfc2-9f40-4692-fe0f-f25bde6abe52"
      },
      "execution_count": 3,
      "outputs": [
        {
          "output_type": "stream",
          "name": "stdout",
          "text": [
            "Fruits list: ['apple', 'banana', 'orange']\n"
          ]
        }
      ]
    }
  ]
}