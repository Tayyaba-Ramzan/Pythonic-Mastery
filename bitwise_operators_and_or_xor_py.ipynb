{
  "nbformat": 4,
  "nbformat_minor": 0,
  "metadata": {
    "colab": {
      "provenance": [],
      "authorship_tag": "ABX9TyOAf6w6owqbXG2XY/al2UOp",
      "include_colab_link": true
    },
    "kernelspec": {
      "name": "python3",
      "display_name": "Python 3"
    },
    "language_info": {
      "name": "python"
    }
  },
  "cells": [
    {
      "cell_type": "markdown",
      "metadata": {
        "id": "view-in-github",
        "colab_type": "text"
      },
      "source": [
        "<a href=\"https://colab.research.google.com/github/Tayyaba-Ramzan/Pythonic-Mastery/blob/main/bitwise_operators_and_or_xor_py.ipynb\" target=\"_parent\"><img src=\"https://colab.research.google.com/assets/colab-badge.svg\" alt=\"Open In Colab\"/></a>"
      ]
    },
    {
      "cell_type": "markdown",
      "source": [
        "# ***Bitwise Operators in Python | AND, OR, XOR***\n"
      ],
      "metadata": {
        "id": "K9ye2ey5z-Gx"
      }
    },
    {
      "cell_type": "markdown",
      "source": [
        "In this lesson, we will understand how bitwise operators work in Python:\n",
        "\n",
        "- `&` → Bitwise AND\n",
        "- `|` → Bitwise OR\n",
        "- `^` → Bitwise XOR\n",
        "\n",
        "These operators compare the binary values of integers bit by bit.\n",
        "\n",
        "Useful when dealing with low-level operations, flags, binary manipulation etc."
      ],
      "metadata": {
        "id": "s97Oy9pA0Ang"
      }
    },
    {
      "cell_type": "markdown",
      "source": [
        "📌 Bitwise AND Operator &"
      ],
      "metadata": {
        "id": "q3m7PfR70C-_"
      }
    },
    {
      "cell_type": "code",
      "source": [
        "# Bitwise AND\n",
        "a = 5    # 0101\n",
        "b = 3    # 0011\n",
        "print(\"Bitwise AND of 5 & 3 =\", a & b)  # Output: 1 (0001)"
      ],
      "metadata": {
        "id": "lI3Xpw4o0FoA",
        "outputId": "96ca771c-a35e-435f-df64-3dcd20836595",
        "colab": {
          "base_uri": "https://localhost:8080/"
        }
      },
      "execution_count": 15,
      "outputs": [
        {
          "output_type": "stream",
          "name": "stdout",
          "text": [
            "Bitwise AND of 5 & 3 = 1\n"
          ]
        }
      ]
    },
    {
      "cell_type": "markdown",
      "source": [
        "📌 Bitwise OR Operator |"
      ],
      "metadata": {
        "id": "P3Wap2GG0HgY"
      }
    },
    {
      "cell_type": "code",
      "source": [
        "# Bitwise OR\n",
        "a = 5    # 0101\n",
        "b = 3    # 0011\n",
        "print(\"Bitwise OR of 5 | 3 =\", a | b)  # Output: 7 (0111)"
      ],
      "metadata": {
        "id": "iZJMQitp0N6n",
        "outputId": "7fa085af-7ad6-48e5-b5be-5bc11b0773e6",
        "colab": {
          "base_uri": "https://localhost:8080/"
        }
      },
      "execution_count": 16,
      "outputs": [
        {
          "output_type": "stream",
          "name": "stdout",
          "text": [
            "Bitwise OR of 5 | 3 = 7\n"
          ]
        }
      ]
    },
    {
      "cell_type": "markdown",
      "source": [
        "📌 Bitwise XOR Operator ^"
      ],
      "metadata": {
        "id": "p6Jf9Aea0QNf"
      }
    },
    {
      "cell_type": "code",
      "source": [
        "# Bitwise XOR\n",
        "a = 5    # 0101\n",
        "b = 3    # 0011\n",
        "print(\"Bitwise XOR of 5 ^ 3 =\", a ^ b)  # Output: 6 (0110)"
      ],
      "metadata": {
        "id": "3bBzIRAM0SZI",
        "outputId": "b32dcdc8-ab60-4c0b-b645-5754d86074bd",
        "colab": {
          "base_uri": "https://localhost:8080/"
        }
      },
      "execution_count": 17,
      "outputs": [
        {
          "output_type": "stream",
          "name": "stdout",
          "text": [
            "Bitwise XOR of 5 ^ 3 = 6\n"
          ]
        }
      ]
    },
    {
      "cell_type": "code",
      "source": [
        "# Using bin() to visualize binary format\n",
        "a = 5\n",
        "b = 3\n",
        "\n",
        "print(\"Binary of a (5):\", bin(a))\n",
        "print(\"Binary of b (3):\", bin(b))\n",
        "print(\"Binary of a & b:\", bin(a & b))\n",
        "print(\"Binary of a | b:\", bin(a | b))\n",
        "print(\"Binary of a ^ b:\", bin(a ^ b))"
      ],
      "metadata": {
        "id": "YnVXtQcp0Xe_",
        "outputId": "ae79b7b4-78a1-44e1-8b6c-8d1d8d2bbe6f",
        "colab": {
          "base_uri": "https://localhost:8080/"
        }
      },
      "execution_count": 18,
      "outputs": [
        {
          "output_type": "stream",
          "name": "stdout",
          "text": [
            "Binary of a (5): 0b101\n",
            "Binary of b (3): 0b11\n",
            "Binary of a & b: 0b1\n",
            "Binary of a | b: 0b111\n",
            "Binary of a ^ b: 0b110\n"
          ]
        }
      ]
    }
  ]
}