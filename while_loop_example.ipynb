{
  "nbformat": 4,
  "nbformat_minor": 0,
  "metadata": {
    "colab": {
      "provenance": [],
      "authorship_tag": "ABX9TyPkiDuUhohrlU6c8tuATuZT",
      "include_colab_link": true
    },
    "kernelspec": {
      "name": "python3",
      "display_name": "Python 3"
    },
    "language_info": {
      "name": "python"
    }
  },
  "cells": [
    {
      "cell_type": "markdown",
      "metadata": {
        "id": "view-in-github",
        "colab_type": "text"
      },
      "source": [
        "<a href=\"https://colab.research.google.com/github/Tayyaba-Ramzan/Pythonic-Mastery/blob/main/while_loop_example.ipynb\" target=\"_parent\"><img src=\"https://colab.research.google.com/assets/colab-badge.svg\" alt=\"Open In Colab\"/></a>"
      ]
    },
    {
      "cell_type": "markdown",
      "source": [
        "# ***What is While Loop in Python | Repeat Code | Tutorial for Beginners***"
      ],
      "metadata": {
        "id": "kiAM3vrze8VE"
      }
    },
    {
      "cell_type": "markdown",
      "source": [
        "In this tutorial, we will learn how to use the `while` loop in Python. A `while` loop continues to execute a block of code as long as a specified condition is `True`. It is commonly used when the number of repetitions is not known in advance.\n",
        "\n",
        "---\n",
        "\n",
        "### 🧪 Example 1: Counting from 1 to 5 using while loop\n",
        "\n",
        "```python\n",
        "# Initialize variable\n",
        "num = 1\n",
        "\n",
        "# Condition-based loop\n",
        "while num <= 5:\n",
        "    print(f\"Current number is: {num}\")\n",
        "    num += 1"
      ],
      "metadata": {
        "id": "foOrQvKFfW57"
      }
    },
    {
      "cell_type": "markdown",
      "source": [
        "## 🔁 While Loop Syntax:\n",
        "\n",
        "- **Initialization**\n",
        "- `while (condition):`\n",
        "  - code to repeat  \n",
        "  - increment/decrement\n"
      ],
      "metadata": {
        "id": "M8G0mNCrfX8b"
      }
    },
    {
      "cell_type": "markdown",
      "source": [
        "🧪 Example 1: Print \"Tayyaba Ramzan\" 10 times"
      ],
      "metadata": {
        "id": "jY6DZ0h-gA4L"
      }
    },
    {
      "cell_type": "code",
      "source": [
        "i = 1\n",
        "while i <= 10:\n",
        "    print(i, \"Tayyaba Ramzan\")\n",
        "    i += 1"
      ],
      "metadata": {
        "colab": {
          "base_uri": "https://localhost:8080/"
        },
        "id": "box1qIvCfcKz",
        "outputId": "613204b1-1f38-4e04-9d0a-7e3a24fd4983"
      },
      "execution_count": 1,
      "outputs": [
        {
          "output_type": "stream",
          "name": "stdout",
          "text": [
            "1 Tayyaba Ramzan\n",
            "2 Tayyaba Ramzan\n",
            "3 Tayyaba Ramzan\n",
            "4 Tayyaba Ramzan\n",
            "5 Tayyaba Ramzan\n",
            "6 Tayyaba Ramzan\n",
            "7 Tayyaba Ramzan\n",
            "8 Tayyaba Ramzan\n",
            "9 Tayyaba Ramzan\n",
            "10 Tayyaba Ramzan\n"
          ]
        }
      ]
    },
    {
      "cell_type": "markdown",
      "source": [
        "🔁 Example 2: Reverse Counting (10 to 1)"
      ],
      "metadata": {
        "id": "EQboyZ-rgEEb"
      }
    },
    {
      "cell_type": "code",
      "source": [
        "i = 10\n",
        "while i >= 1:\n",
        "    print(i)\n",
        "    i -= 1"
      ],
      "metadata": {
        "colab": {
          "base_uri": "https://localhost:8080/"
        },
        "id": "kGEZPWVogEyj",
        "outputId": "238699fa-fe78-40a5-c3b5-c826c2a755d8"
      },
      "execution_count": 2,
      "outputs": [
        {
          "output_type": "stream",
          "name": "stdout",
          "text": [
            "10\n",
            "9\n",
            "8\n",
            "7\n",
            "6\n",
            "5\n",
            "4\n",
            "3\n",
            "2\n",
            "1\n"
          ]
        }
      ]
    },
    {
      "cell_type": "markdown",
      "source": [
        "🔁 Example 3: Reverse Even Numbers (10, 8, 6, ..., 2)"
      ],
      "metadata": {
        "id": "jIFnEeQXgJ1T"
      }
    },
    {
      "cell_type": "code",
      "source": [
        "i = 10\n",
        "while i >= 1:\n",
        "    print(i)\n",
        "    i -= 2"
      ],
      "metadata": {
        "colab": {
          "base_uri": "https://localhost:8080/"
        },
        "id": "WWh-8nKEgLgC",
        "outputId": "6bba9d63-e90a-4ca4-c9b3-539e39737c58"
      },
      "execution_count": 3,
      "outputs": [
        {
          "output_type": "stream",
          "name": "stdout",
          "text": [
            "10\n",
            "8\n",
            "6\n",
            "4\n",
            "2\n"
          ]
        }
      ]
    }
  ]
}