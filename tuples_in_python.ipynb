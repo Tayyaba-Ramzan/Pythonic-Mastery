{
  "nbformat": 4,
  "nbformat_minor": 0,
  "metadata": {
    "colab": {
      "provenance": [],
      "authorship_tag": "ABX9TyPTzTRqETU1abQ5YbrQ1N5G",
      "include_colab_link": true
    },
    "kernelspec": {
      "name": "python3",
      "display_name": "Python 3"
    },
    "language_info": {
      "name": "python"
    }
  },
  "cells": [
    {
      "cell_type": "markdown",
      "metadata": {
        "id": "view-in-github",
        "colab_type": "text"
      },
      "source": [
        "<a href=\"https://colab.research.google.com/github/Tayyaba-Ramzan/Pythonic-Mastery/blob/main/tuples_in_python.ipynb\" target=\"_parent\"><img src=\"https://colab.research.google.com/assets/colab-badge.svg\" alt=\"Open In Colab\"/></a>"
      ]
    },
    {
      "cell_type": "markdown",
      "source": [
        "# ***What is Tuple in Python - Explained with Examples | Python Tutorial***\n"
      ],
      "metadata": {
        "id": "UQKJZD6iw_0g"
      }
    },
    {
      "cell_type": "markdown",
      "source": [
        "A **tuple** is a collection which is **ordered** and **immutable** (cannot be changed).  \n",
        "Tuples are written with **round brackets ( )**."
      ],
      "metadata": {
        "id": "_jEKfK8bxFSf"
      }
    },
    {
      "cell_type": "markdown",
      "source": [
        "📌 Creating a Tuple\n"
      ],
      "metadata": {
        "id": "UQzE19aexIdo"
      }
    },
    {
      "cell_type": "code",
      "source": [
        "# Creating a tuple\n",
        "my_tuple = (\"apple\", \"banana\", \"cherry\")\n",
        "print(my_tuple)"
      ],
      "metadata": {
        "colab": {
          "base_uri": "https://localhost:8080/"
        },
        "id": "fTVuH7tuxJuf",
        "outputId": "49a976db-73ae-41b0-9209-189d47371b75"
      },
      "execution_count": 1,
      "outputs": [
        {
          "output_type": "stream",
          "name": "stdout",
          "text": [
            "('apple', 'banana', 'cherry')\n"
          ]
        }
      ]
    },
    {
      "cell_type": "markdown",
      "source": [
        "📌 Accessing Tuple Elements\n"
      ],
      "metadata": {
        "id": "vNnYKNFsxMdX"
      }
    },
    {
      "cell_type": "code",
      "source": [
        "# Accessing elements\n",
        "print(my_tuple[0])  # apple\n",
        "print(my_tuple[2])  # cherry"
      ],
      "metadata": {
        "colab": {
          "base_uri": "https://localhost:8080/"
        },
        "id": "JQ-Oy2eKxOaw",
        "outputId": "c9fa88d6-8b9f-4170-966c-c3557f404525"
      },
      "execution_count": 2,
      "outputs": [
        {
          "output_type": "stream",
          "name": "stdout",
          "text": [
            "apple\n",
            "cherry\n"
          ]
        }
      ]
    },
    {
      "cell_type": "markdown",
      "source": [
        "📌 Tuple with Different Data Types\n",
        "\n"
      ],
      "metadata": {
        "id": "Jf7AxiTYxR-3"
      }
    },
    {
      "cell_type": "code",
      "source": [
        "# Tuple with different data types\n",
        "mixed_tuple = (1, \"hello\", 3.14, True)\n",
        "print(mixed_tuple)"
      ],
      "metadata": {
        "colab": {
          "base_uri": "https://localhost:8080/"
        },
        "id": "2A47vowQxTpw",
        "outputId": "1d465f9b-5c30-4b74-a6d1-90fd76eb390f"
      },
      "execution_count": 3,
      "outputs": [
        {
          "output_type": "stream",
          "name": "stdout",
          "text": [
            "(1, 'hello', 3.14, True)\n"
          ]
        }
      ]
    },
    {
      "cell_type": "markdown",
      "source": [
        "📌 Iterating a Tuple\n"
      ],
      "metadata": {
        "id": "rHqnWol6xW6f"
      }
    },
    {
      "cell_type": "code",
      "source": [
        "# Iterating through tuple\n",
        "for item in my_tuple:\n",
        "    print(item)"
      ],
      "metadata": {
        "colab": {
          "base_uri": "https://localhost:8080/"
        },
        "id": "CnvaGdYRxZV4",
        "outputId": "6c1c502a-f0a1-47a4-d14c-637d332c0331"
      },
      "execution_count": 4,
      "outputs": [
        {
          "output_type": "stream",
          "name": "stdout",
          "text": [
            "apple\n",
            "banana\n",
            "cherry\n"
          ]
        }
      ]
    },
    {
      "cell_type": "markdown",
      "source": [
        "📌 Tuple Immutability\n"
      ],
      "metadata": {
        "id": "X6sRS5ilxb5o"
      }
    },
    {
      "cell_type": "code",
      "source": [
        "# Tuples are immutable - This will give error\n",
        "# my_tuple[1] = \"mango\"  # ❌ TypeError\n",
        "\n",
        "print(\"Tuples are immutable. You can't change elements after creation.\")"
      ],
      "metadata": {
        "colab": {
          "base_uri": "https://localhost:8080/"
        },
        "id": "e-wAUZcTxdmP",
        "outputId": "1c0ed541-0954-4f1c-e97b-6e48aec7ab31"
      },
      "execution_count": 5,
      "outputs": [
        {
          "output_type": "stream",
          "name": "stdout",
          "text": [
            "Tuples are immutable. You can't change elements after creation.\n"
          ]
        }
      ]
    }
  ]
}