{
  "nbformat": 4,
  "nbformat_minor": 0,
  "metadata": {
    "colab": {
      "provenance": [],
      "authorship_tag": "ABX9TyM+++z1lSVAvV/KHRCQI+jj",
      "include_colab_link": true
    },
    "kernelspec": {
      "name": "python3",
      "display_name": "Python 3"
    },
    "language_info": {
      "name": "python"
    }
  },
  "cells": [
    {
      "cell_type": "markdown",
      "metadata": {
        "id": "view-in-github",
        "colab_type": "text"
      },
      "source": [
        "<a href=\"https://colab.research.google.com/github/Tayyaba-Ramzan/Pythonic-Mastery/blob/main/logical_operators.ipynb\" target=\"_parent\"><img src=\"https://colab.research.google.com/assets/colab-badge.svg\" alt=\"Open In Colab\"/></a>"
      ]
    },
    {
      "cell_type": "markdown",
      "source": [
        "# ***Logical Operators in Python***\n",
        "In this step, we will explore Logical Operators in Python. These operators are used to combine multiple conditions and return a boolean result (`True` or `False`). The main logical operators in Python are:\n",
        "\n",
        "- `and` → Returns `True` if both conditions are `True`\n",
        "- `or` → Returns `True` if at least one condition is `True`\n",
        "- `not` → Reverses the result (True becomes False, and vice versa)"
      ],
      "metadata": {
        "id": "svJ7j7_nNqiR"
      }
    },
    {
      "cell_type": "code",
      "execution_count": null,
      "metadata": {
        "colab": {
          "base_uri": "https://localhost:8080/"
        },
        "id": "rr0GJ8nRNjv_",
        "outputId": "37e76d30-5b71-44c6-c1b1-18ee8c345a58"
      },
      "outputs": [
        {
          "output_type": "stream",
          "name": "stdout",
          "text": [
            "True\n",
            "True\n",
            "False\n"
          ]
        }
      ],
      "source": [
        "# and Operator\n",
        "x = 10\n",
        "y = 10\n",
        "print(x == y and y == x)   # True\n",
        "\n",
        "# or Operator\n",
        "x = 5\n",
        "y = 3\n",
        "print(x > y or y > x)      # True\n",
        "\n",
        "# not Operator\n",
        "x = 10\n",
        "y = 5\n",
        "print(not x > y)           # Fals"
      ]
    }
  ]
}