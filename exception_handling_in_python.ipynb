{
  "nbformat": 4,
  "nbformat_minor": 0,
  "metadata": {
    "colab": {
      "provenance": [],
      "authorship_tag": "ABX9TyO/KalE0DIOBLtO2xwYTFOT",
      "include_colab_link": true
    },
    "kernelspec": {
      "name": "python3",
      "display_name": "Python 3"
    },
    "language_info": {
      "name": "python"
    }
  },
  "cells": [
    {
      "cell_type": "markdown",
      "metadata": {
        "id": "view-in-github",
        "colab_type": "text"
      },
      "source": [
        "<a href=\"https://colab.research.google.com/github/Tayyaba-Ramzan/Pythonic-Mastery/blob/main/exception_handling_in_python.ipynb\" target=\"_parent\"><img src=\"https://colab.research.google.com/assets/colab-badge.svg\" alt=\"Open In Colab\"/></a>"
      ]
    },
    {
      "cell_type": "markdown",
      "source": [
        "# ***⚠️ Exception Handling in Python | Python Tutorial for Beginners***"
      ],
      "metadata": {
        "id": "vClfZHdRS8mg"
      }
    },
    {
      "cell_type": "markdown",
      "source": [
        "Exception handling is a way to gracefully manage runtime errors in your Python programs.  \n",
        "In this tutorial, we will cover:\n",
        "\n",
        "- What are exceptions?\n",
        "- Why do we need exception handling?\n",
        "- `try`, `except`, `else`, and `finally` blocks\n",
        "- Handling specific exceptions (e.g., `ZeroDivisionError`, `ValueError`)\n",
        "- Using `raise` to throw custom exceptions\n",
        "- Creating user-defined exceptions with classes\n",
        "\n",
        "---\n",
        "\n",
        "## 🔹 What is an Exception?\n",
        "\n",
        "An exception is an error that occurs during the execution of a program. It interrupts the normal flow of the program.\n",
        "\n",
        "Example:\n",
        "\n",
        "```python\n",
        "x = 10 / 0"
      ],
      "metadata": {
        "id": "DoU5qQi9TB9P"
      }
    },
    {
      "cell_type": "markdown",
      "source": [
        "This line will raise a ZeroDivisionError."
      ],
      "metadata": {
        "id": "p7EoGK5uTENf"
      }
    },
    {
      "cell_type": "markdown",
      "source": [
        "🔹 Basic try-except Block"
      ],
      "metadata": {
        "id": "_HY0lyOhTHSn"
      }
    },
    {
      "cell_type": "code",
      "source": [
        "try:\n",
        "    num = int(input(\"Enter a number: \"))\n",
        "    result = 10 / num\n",
        "    print(\"Result:\", result)\n",
        "except ZeroDivisionError:\n",
        "    print(\"You can't divide by zero!\")\n",
        "except ValueError:\n",
        "    print(\"Invalid input. Please enter a number.\")\n"
      ],
      "metadata": {
        "id": "Qvq1IERdTI2X"
      },
      "execution_count": null,
      "outputs": []
    },
    {
      "cell_type": "markdown",
      "source": [
        "🔹 Using else and finally"
      ],
      "metadata": {
        "id": "CJ8GT_hKTKm3"
      }
    },
    {
      "cell_type": "code",
      "source": [
        "try:\n",
        "    num = int(input(\"Enter a number: \"))\n",
        "    result = 10 / num\n",
        "except ZeroDivisionError:\n",
        "    print(\"Division by zero is not allowed.\")\n",
        "else:\n",
        "    print(\"Division successful. Result:\", result)\n",
        "finally:\n",
        "    print(\"Execution completed.\")\n"
      ],
      "metadata": {
        "id": "Df8QIcdWTLq_"
      },
      "execution_count": null,
      "outputs": []
    },
    {
      "cell_type": "markdown",
      "source": [
        "🔹 Raising Custom Exceptions"
      ],
      "metadata": {
        "id": "6G08vYb2TM-a"
      }
    },
    {
      "cell_type": "code",
      "source": [
        "age = int(input(\"Enter your age: \"))\n",
        "if age < 18:\n",
        "    raise ValueError(\"You must be at least 18 years old.\")\n"
      ],
      "metadata": {
        "id": "2Nzwbyi1TQNq"
      },
      "execution_count": null,
      "outputs": []
    },
    {
      "cell_type": "markdown",
      "source": [
        "🔹 Defining Your Own Exception Class"
      ],
      "metadata": {
        "id": "UO3GVDcFTSNn"
      }
    },
    {
      "cell_type": "code",
      "source": [
        "class TooYoungError(Exception):\n",
        "    pass\n",
        "\n",
        "try:\n",
        "    age = int(input(\"Enter your age: \"))\n",
        "    if age < 18:\n",
        "        raise TooYoungError(\"Sorry, you're too young to proceed.\")\n",
        "except TooYoungError as e:\n",
        "    print(e)\n"
      ],
      "metadata": {
        "id": "2xzQ0a3_TTjP"
      },
      "execution_count": null,
      "outputs": []
    },
    {
      "cell_type": "markdown",
      "source": [
        "🎯 Exception handling is essential to building robust and user-friendly programs.\n",
        "\n"
      ],
      "metadata": {
        "id": "ytO1H2uoTX0v"
      }
    }
  ]
}