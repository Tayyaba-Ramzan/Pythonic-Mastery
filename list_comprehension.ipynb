{
  "nbformat": 4,
  "nbformat_minor": 0,
  "metadata": {
    "colab": {
      "provenance": [],
      "authorship_tag": "ABX9TyNsivmBRcCQlnYAXj/nUsC9",
      "include_colab_link": true
    },
    "kernelspec": {
      "name": "python3",
      "display_name": "Python 3"
    },
    "language_info": {
      "name": "python"
    }
  },
  "cells": [
    {
      "cell_type": "markdown",
      "metadata": {
        "id": "view-in-github",
        "colab_type": "text"
      },
      "source": [
        "<a href=\"https://colab.research.google.com/github/Tayyaba-Ramzan/Pythonic-Mastery/blob/main/list_comprehension.ipynb\" target=\"_parent\"><img src=\"https://colab.research.google.com/assets/colab-badge.svg\" alt=\"Open In Colab\"/></a>"
      ]
    },
    {
      "cell_type": "markdown",
      "source": [
        "# ***List Comprehension in Python | Elegant Way to Create Lists***"
      ],
      "metadata": {
        "id": "6inNrkNpaxzc"
      }
    },
    {
      "cell_type": "markdown",
      "source": [
        "In this lesson, you will learn:\n",
        "- What is List Comprehension\n",
        "- How to write cleaner and shorter for-loops\n",
        "- Basic and conditional list comprehension\n",
        "\n",
        "List comprehension is a concise way to create lists in Python."
      ],
      "metadata": {
        "id": "8O7Dn9IQa1_b"
      }
    },
    {
      "cell_type": "markdown",
      "source": [
        "📌 Traditional Way vs List Comprehension"
      ],
      "metadata": {
        "id": "rLclSa3Na35K"
      }
    },
    {
      "cell_type": "code",
      "source": [
        "# Traditional way to create a list of squares\n",
        "squares = []\n",
        "for i in range(1, 6):\n",
        "    squares.append(i**2)\n",
        "print(\"Squares using loop:\", squares)\n",
        "\n",
        "# Using list comprehension\n",
        "squares_comp = [i**2 for i in range(1, 6)]\n",
        "print(\"Squares using comprehension:\", squares_comp)"
      ],
      "metadata": {
        "id": "ByY-9D4Ea6Ii",
        "colab": {
          "base_uri": "https://localhost:8080/"
        },
        "outputId": "9724c5b3-59f5-4906-d97f-66317a3e0886"
      },
      "execution_count": 5,
      "outputs": [
        {
          "output_type": "stream",
          "name": "stdout",
          "text": [
            "Squares using loop: [1, 4, 9, 16, 25]\n",
            "Squares using comprehension: [1, 4, 9, 16, 25]\n"
          ]
        }
      ]
    },
    {
      "cell_type": "markdown",
      "source": [
        "📌 List Comprehension with Condition"
      ],
      "metadata": {
        "id": "1Mbj8g11a90D"
      }
    },
    {
      "cell_type": "code",
      "source": [
        "# Get even numbers between 1 to 10\n",
        "even_numbers = [x for x in range(1, 11) if x % 2 == 0]\n",
        "print(\"Even numbers:\", even_numbers)"
      ],
      "metadata": {
        "id": "1QafISESa_sb",
        "colab": {
          "base_uri": "https://localhost:8080/"
        },
        "outputId": "563e96ad-9018-4a20-da11-899cff1c3e10"
      },
      "execution_count": 4,
      "outputs": [
        {
          "output_type": "stream",
          "name": "stdout",
          "text": [
            "Even numbers: [2, 4, 6, 8, 10]\n"
          ]
        }
      ]
    },
    {
      "cell_type": "markdown",
      "source": [
        "📌 Applying Functions in List Comprehension"
      ],
      "metadata": {
        "id": "ayLyKJo6bBUC"
      }
    },
    {
      "cell_type": "code",
      "source": [
        "# Convert all strings to uppercase\n",
        "names = [\"tayyaba\", \"ramzan\", \"python\"]\n",
        "uppercase_names = [name.upper() for name in names]\n",
        "print(\"Uppercase Names:\", uppercase_names)"
      ],
      "metadata": {
        "id": "qQzykVjGbDuy",
        "colab": {
          "base_uri": "https://localhost:8080/"
        },
        "outputId": "5d2dbd75-804b-49bb-9b41-31059921231b"
      },
      "execution_count": 3,
      "outputs": [
        {
          "output_type": "stream",
          "name": "stdout",
          "text": [
            "Uppercase Names: ['TAYYABA', 'RAMZAN', 'PYTHON']\n"
          ]
        }
      ]
    },
    {
      "cell_type": "markdown",
      "source": [
        "📌 Conditional Expressions in List Comprehension"
      ],
      "metadata": {
        "id": "xlxTcvD1bGPb"
      }
    },
    {
      "cell_type": "code",
      "source": [
        "# Replace even numbers with \"Even\" and odd with \"Odd\"\n",
        "labels = [\"Even\" if x % 2 == 0 else \"Odd\" for x in range(1, 6)]\n",
        "print(\"Labels:\", labels)"
      ],
      "metadata": {
        "id": "JaZRd-61bILC",
        "colab": {
          "base_uri": "https://localhost:8080/"
        },
        "outputId": "29a3d162-2dad-49b6-c97a-a85828429235"
      },
      "execution_count": 2,
      "outputs": [
        {
          "output_type": "stream",
          "name": "stdout",
          "text": [
            "Labels: ['Odd', 'Even', 'Odd', 'Even', 'Odd']\n"
          ]
        }
      ]
    },
    {
      "cell_type": "markdown",
      "source": [
        "📌 Nested List Comprehension (Optional/Advanced)"
      ],
      "metadata": {
        "id": "rE-w43vUbKHq"
      }
    },
    {
      "cell_type": "code",
      "source": [
        "# Create a 2D matrix using nested list comprehension\n",
        "matrix = [[j for j in range(3)] for i in range(3)]\n",
        "print(\"Matrix:\", matrix)"
      ],
      "metadata": {
        "id": "yGGma8uXbMdS",
        "colab": {
          "base_uri": "https://localhost:8080/"
        },
        "outputId": "b9d5d439-c588-4a2d-b134-7b658f77b0ee"
      },
      "execution_count": 1,
      "outputs": [
        {
          "output_type": "stream",
          "name": "stdout",
          "text": [
            "Matrix: [[0, 1, 2], [0, 1, 2], [0, 1, 2]]\n"
          ]
        }
      ]
    },
    {
      "cell_type": "markdown",
      "source": [
        "## Summary\n",
        "\n",
        "- List comprehensions make your code shorter and cleaner.\n",
        "- You can apply conditions and transformations directly inside the brackets.\n",
        "- Perfect for generating new lists from sequences.\n",
        "\n",
        "In the next tutorial, we’ll explore **list methods** like `append()`, `remove()`, `insert()`, and more!"
      ],
      "metadata": {
        "id": "liqqs2ZpbOGc"
      }
    }
  ]
}