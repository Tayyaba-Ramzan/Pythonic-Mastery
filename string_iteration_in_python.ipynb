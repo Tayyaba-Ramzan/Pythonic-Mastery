{
  "nbformat": 4,
  "nbformat_minor": 0,
  "metadata": {
    "colab": {
      "provenance": [],
      "authorship_tag": "ABX9TyMscstieNqhBLY4r4JxhGc3",
      "include_colab_link": true
    },
    "kernelspec": {
      "name": "python3",
      "display_name": "Python 3"
    },
    "language_info": {
      "name": "python"
    }
  },
  "cells": [
    {
      "cell_type": "markdown",
      "metadata": {
        "id": "view-in-github",
        "colab_type": "text"
      },
      "source": [
        "<a href=\"https://colab.research.google.com/github/Tayyaba-Ramzan/Pythonic-Mastery/blob/main/string_iteration_in_python.ipynb\" target=\"_parent\"><img src=\"https://colab.research.google.com/assets/colab-badge.svg\" alt=\"Open In Colab\"/></a>"
      ]
    },
    {
      "cell_type": "markdown",
      "source": [
        "# ***What is String Iteration in Python | Python Tutorial for Beginners***"
      ],
      "metadata": {
        "id": "86gpS5-RkOgR"
      }
    },
    {
      "cell_type": "markdown",
      "source": [
        "In this tutorial, we will learn how to iterate over each character in a string using a `for` loop. This is useful for tasks like counting characters, checking vowels, or performing operations on individual letters.\n"
      ],
      "metadata": {
        "id": "l6yN2Kn2kSLg"
      }
    },
    {
      "cell_type": "markdown",
      "source": [
        "🔢 Length of a String"
      ],
      "metadata": {
        "id": "Y9FQgjwLkeFn"
      }
    },
    {
      "cell_type": "code",
      "source": [
        "# Define a full name string\n",
        "full_name = \"Tayyaba Ramzan\"\n",
        "\n",
        "# Get the length of the string\n",
        "length = len(full_name)\n",
        "\n",
        "# Print the total number of characters\n",
        "print(\"Length of the string:\", length)"
      ],
      "metadata": {
        "colab": {
          "base_uri": "https://localhost:8080/"
        },
        "id": "DRKSwbsikflA",
        "outputId": "8abb6e0c-3a4f-4415-939d-36bb187956cc"
      },
      "execution_count": 1,
      "outputs": [
        {
          "output_type": "stream",
          "name": "stdout",
          "text": [
            "Length of the string: 14\n"
          ]
        }
      ]
    },
    {
      "cell_type": "markdown",
      "source": [
        "🔁 Iterating with Index (Forward)"
      ],
      "metadata": {
        "id": "8P_tUOLlkiSY"
      }
    },
    {
      "cell_type": "code",
      "source": [
        "# Forward iteration using index\n",
        "print(\"Characters using forward iteration with index:\")\n",
        "for i in range(length):\n",
        "    print(full_name[i])"
      ],
      "metadata": {
        "colab": {
          "base_uri": "https://localhost:8080/"
        },
        "id": "vQSG3iPzkm0w",
        "outputId": "fe8d197d-fbe8-4c0e-bec6-55f67c48cec0"
      },
      "execution_count": 2,
      "outputs": [
        {
          "output_type": "stream",
          "name": "stdout",
          "text": [
            "Characters using forward iteration with index:\n",
            "T\n",
            "a\n",
            "y\n",
            "y\n",
            "a\n",
            "b\n",
            "a\n",
            " \n",
            "R\n",
            "a\n",
            "m\n",
            "z\n",
            "a\n",
            "n\n"
          ]
        }
      ]
    },
    {
      "cell_type": "markdown",
      "source": [
        "🔡 Iterating Directly Over Characters"
      ],
      "metadata": {
        "id": "r8CSmqCBkpqY"
      }
    },
    {
      "cell_type": "code",
      "source": [
        "# Direct iteration without using index\n",
        "d = \"Software Engineering\"\n",
        "\n",
        "print(\"Characters using direct iteration:\")\n",
        "for char in d:\n",
        "    print(char)"
      ],
      "metadata": {
        "colab": {
          "base_uri": "https://localhost:8080/"
        },
        "id": "AKU-iKlpks5H",
        "outputId": "8ad05d38-254e-4247-d695-fc50778a9a59"
      },
      "execution_count": 3,
      "outputs": [
        {
          "output_type": "stream",
          "name": "stdout",
          "text": [
            "Characters using direct iteration:\n",
            "S\n",
            "o\n",
            "f\n",
            "t\n",
            "w\n",
            "a\n",
            "r\n",
            "e\n",
            " \n",
            "E\n",
            "n\n",
            "g\n",
            "i\n",
            "n\n",
            "e\n",
            "e\n",
            "r\n",
            "i\n",
            "n\n",
            "g\n"
          ]
        }
      ]
    },
    {
      "cell_type": "markdown",
      "source": [
        "## Summary:\n",
        "- Use `len()` to get the number of characters in a string.\n",
        "- Use `range()` with indexing to iterate forward or backward.\n",
        "- Use a `for-in` loop to directly access each character in the string."
      ],
      "metadata": {
        "id": "rSucvD61kwCf"
      }
    }
  ]
}