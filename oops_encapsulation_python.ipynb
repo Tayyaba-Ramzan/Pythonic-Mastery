{
  "nbformat": 4,
  "nbformat_minor": 0,
  "metadata": {
    "colab": {
      "provenance": [],
      "authorship_tag": "ABX9TyMOEcR9O0pBYQl81d31PkGy",
      "include_colab_link": true
    },
    "kernelspec": {
      "name": "python3",
      "display_name": "Python 3"
    },
    "language_info": {
      "name": "python"
    }
  },
  "cells": [
    {
      "cell_type": "markdown",
      "metadata": {
        "id": "view-in-github",
        "colab_type": "text"
      },
      "source": [
        "<a href=\"https://colab.research.google.com/github/Tayyaba-Ramzan/Pythonic-Mastery/blob/main/oops_encapsulation_python.ipynb\" target=\"_parent\"><img src=\"https://colab.research.google.com/assets/colab-badge.svg\" alt=\"Open In Colab\"/></a>"
      ]
    },
    {
      "cell_type": "markdown",
      "source": [
        "# ***🔒 Encapsulation in Python - OOP Concept***"
      ],
      "metadata": {
        "id": "_KXf4uU-3rTL"
      }
    },
    {
      "cell_type": "markdown",
      "source": [
        "Encapsulation is the concept of wrapping data and methods into a single unit (class).  \n",
        "It also restricts direct access to some components, which is a way of enforcing data hiding.\n",
        "\n",
        "**Key Concepts:**\n",
        "- Private Variables\n",
        "- Getters & Setters\n",
        "- Name Mangling"
      ],
      "metadata": {
        "id": "ECrNEYuj3t2y"
      }
    },
    {
      "cell_type": "markdown",
      "source": [
        "## 🔹 Public vs Private Members\n",
        "\n",
        "Public members can be accessed from anywhere.  \n",
        "Private members (prefixed with `__`) are intended to be hidden."
      ],
      "metadata": {
        "id": "7pVVvetp3wQi"
      }
    },
    {
      "cell_type": "code",
      "source": [
        "class Employee:\n",
        "    def __init__(self, name, salary):\n",
        "        self.name = name          # public\n",
        "        self.__salary = salary    # private\n",
        "\n",
        "    def show(self):\n",
        "        print(f\"Name: {self.name}, Salary: {self.__salary}\")\n",
        "\n",
        "emp = Employee(\"Tayyaba\", 50000)\n",
        "emp.show()\n",
        "\n",
        "# Trying to access private attribute directly will fail\n",
        "# print(emp.__salary)  # ❌ AttributeError"
      ],
      "metadata": {
        "colab": {
          "base_uri": "https://localhost:8080/"
        },
        "id": "bRHvpkwn3xsy",
        "outputId": "bd51369e-1882-44d5-b569-ec90431e9150"
      },
      "execution_count": 1,
      "outputs": [
        {
          "output_type": "stream",
          "name": "stdout",
          "text": [
            "Name: Tayyaba, Salary: 50000\n"
          ]
        }
      ]
    },
    {
      "cell_type": "markdown",
      "source": [
        "## 🔹 Accessing Private Data Using Name Mangling\n",
        "Name mangling uses `_ClassName__attribute` to access private attributes.\n"
      ],
      "metadata": {
        "id": "wpPCQFXY30_q"
      }
    },
    {
      "cell_type": "markdown",
      "source": [
        "print(emp._Employee__salary)  # ✅ Accessing using name mangling\n"
      ],
      "metadata": {
        "id": "x0bCaUnF331C"
      }
    },
    {
      "cell_type": "markdown",
      "source": [
        "## 🔹 Using Getters and Setters\n",
        "\n",
        "The proper way to access and update private variables is through methods.\n"
      ],
      "metadata": {
        "id": "B_TxZ2s935ZS"
      }
    },
    {
      "cell_type": "code",
      "source": [
        "class BankAccount:\n",
        "    def __init__(self, balance):\n",
        "        self.__balance = balance\n",
        "\n",
        "    def get_balance(self):\n",
        "        return self.__balance\n",
        "\n",
        "    def set_balance(self, amount):\n",
        "        if amount >= 0:\n",
        "            self.__balance = amount\n",
        "        else:\n",
        "            print(\"Invalid amount\")\n",
        "\n",
        "acc = BankAccount(1000)\n",
        "print(acc.get_balance())\n",
        "acc.set_balance(1500)\n",
        "print(acc.get_balance())\n",
        "acc.set_balance(-500)  # Invalid"
      ],
      "metadata": {
        "colab": {
          "base_uri": "https://localhost:8080/"
        },
        "id": "PN-l4gz137Aa",
        "outputId": "101f50c4-7065-488d-a084-9a73eb64e745"
      },
      "execution_count": 2,
      "outputs": [
        {
          "output_type": "stream",
          "name": "stdout",
          "text": [
            "1000\n",
            "1500\n",
            "Invalid amount\n"
          ]
        }
      ]
    },
    {
      "cell_type": "markdown",
      "source": [
        "## ✅ Benefits of Encapsulation\n",
        "\n",
        "- Better control of class attributes and methods\n",
        "- Increases code security\n",
        "- Prevents accidental modification\n"
      ],
      "metadata": {
        "id": "O90ko1N4384a"
      }
    }
  ]
}