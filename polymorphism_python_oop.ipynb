{
  "nbformat": 4,
  "nbformat_minor": 0,
  "metadata": {
    "colab": {
      "provenance": [],
      "authorship_tag": "ABX9TyNxy1hWCFE0Zcx09cqBWCZX",
      "include_colab_link": true
    },
    "kernelspec": {
      "name": "python3",
      "display_name": "Python 3"
    },
    "language_info": {
      "name": "python"
    }
  },
  "cells": [
    {
      "cell_type": "markdown",
      "metadata": {
        "id": "view-in-github",
        "colab_type": "text"
      },
      "source": [
        "<a href=\"https://colab.research.google.com/github/Tayyaba-Ramzan/Pythonic-Mastery/blob/main/polymorphism_python_oop.ipynb\" target=\"_parent\"><img src=\"https://colab.research.google.com/assets/colab-badge.svg\" alt=\"Open In Colab\"/></a>"
      ]
    },
    {
      "cell_type": "markdown",
      "source": [
        "# ***🧠 Polymorphism in Python | OOP Concept***"
      ],
      "metadata": {
        "id": "It7PhmZB5A0S"
      }
    },
    {
      "cell_type": "markdown",
      "source": [
        "\n",
        "Polymorphism allows objects to behave in different ways depending on their types or classes. It is a fundamental concept in Object-Oriented Programming (OOP).\n",
        "\n",
        "### Types of Polymorphism in Python:\n",
        "- **Method Overriding**: Changing a method in a derived class\n",
        "- **Method Overloading**: Defining multiple methods with the same name but different arguments (though Python does not directly support this, we can simulate it)\n",
        "\n",
        "Polymorphism helps in writing generic code that works with different data types."
      ],
      "metadata": {
        "id": "2gXd5bru5EFp"
      }
    },
    {
      "cell_type": "markdown",
      "source": [
        "## 🔹 Method Overriding in Python\n",
        "\n",
        "Method overriding allows a derived class to modify a method in the base class with the same signature.\n",
        "\n",
        "Let's see an example below.\n"
      ],
      "metadata": {
        "id": "qucMr8Gv5Fhx"
      }
    },
    {
      "cell_type": "code",
      "source": [
        "class Animal:\n",
        "    def speak(self):\n",
        "        print(\"Animal speaks\")\n",
        "\n",
        "class Dog(Animal):\n",
        "    def speak(self):   # Method overriding\n",
        "        print(\"Dog barks\")\n",
        "\n",
        "class Cat(Animal):\n",
        "    def speak(self):   # Method overriding\n",
        "        print(\"Cat meows\")\n",
        "\n",
        "# Creating objects\n",
        "animal = Animal()\n",
        "dog = Dog()\n",
        "cat = Cat()\n",
        "\n",
        "# Polymorphism in action\n",
        "animal.speak()  # Outputs: Animal speaks\n",
        "dog.speak()     # Outputs: Dog barks\n",
        "cat.speak()     # Outputs: Cat meows"
      ],
      "metadata": {
        "colab": {
          "base_uri": "https://localhost:8080/"
        },
        "id": "Ec_QAS9g5G75",
        "outputId": "adcd959c-ed80-47ed-9312-1ab8ad37e5d0"
      },
      "execution_count": 1,
      "outputs": [
        {
          "output_type": "stream",
          "name": "stdout",
          "text": [
            "Animal speaks\n",
            "Dog barks\n",
            "Cat meows\n"
          ]
        }
      ]
    },
    {
      "cell_type": "markdown",
      "source": [
        "## 🔹 Simulating Method Overloading\n",
        "\n",
        "Python does not support method overloading directly, but we can achieve similar functionality by using default arguments or variable-length arguments.\n",
        "\n",
        "Let's see how.\n"
      ],
      "metadata": {
        "id": "ed36u3Rr5Iwh"
      }
    },
    {
      "cell_type": "code",
      "source": [
        "class Calculator:\n",
        "    def add(self, *args):\n",
        "        result = 0\n",
        "        for number in args:\n",
        "            result += number\n",
        "        return result\n",
        "\n",
        "# Creating object\n",
        "calc = Calculator()\n",
        "\n",
        "# Using method with different numbers of arguments\n",
        "print(calc.add(2, 3))        # Outputs: 5\n",
        "print(calc.add(1, 2, 3, 4))  # Outputs: 10\n",
        "print(calc.add(10))          # Outputs: 10\n"
      ],
      "metadata": {
        "colab": {
          "base_uri": "https://localhost:8080/"
        },
        "id": "YMvKzSBj5KIh",
        "outputId": "3234c15a-55d9-4973-83f9-c7550c33230c"
      },
      "execution_count": 2,
      "outputs": [
        {
          "output_type": "stream",
          "name": "stdout",
          "text": [
            "5\n",
            "10\n",
            "10\n"
          ]
        }
      ]
    },
    {
      "cell_type": "markdown",
      "source": [
        "## ✅ Summary\n",
        "\n",
        "- **Polymorphism**: The ability of different classes to implement methods with the same name but potentially different behaviors.\n",
        "- **Method Overriding**: A derived class changing a method of its base class.\n",
        "- **Method Overloading**: Achieved using variable-length arguments in Python, as direct overloading is not supported.\n",
        "\n",
        "Polymorphism is a powerful feature of OOP that increases flexibility and maintainability in code."
      ],
      "metadata": {
        "id": "51Je40dG5Lgi"
      }
    }
  ]
}