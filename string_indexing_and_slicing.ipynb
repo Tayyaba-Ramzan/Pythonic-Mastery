{
  "nbformat": 4,
  "nbformat_minor": 0,
  "metadata": {
    "colab": {
      "provenance": [],
      "authorship_tag": "ABX9TyOvKAIyYGGS2eQUG8pkk6cG",
      "include_colab_link": true
    },
    "kernelspec": {
      "name": "python3",
      "display_name": "Python 3"
    },
    "language_info": {
      "name": "python"
    }
  },
  "cells": [
    {
      "cell_type": "markdown",
      "metadata": {
        "id": "view-in-github",
        "colab_type": "text"
      },
      "source": [
        "<a href=\"https://colab.research.google.com/github/Tayyaba-Ramzan/Pythonic-Mastery/blob/main/string_indexing_and_slicing.ipynb\" target=\"_parent\"><img src=\"https://colab.research.google.com/assets/colab-badge.svg\" alt=\"Open In Colab\"/></a>"
      ]
    },
    {
      "cell_type": "markdown",
      "source": [
        "# ***What is String Indexing & String Slicing in Python | Python Tutorial***"
      ],
      "metadata": {
        "id": "0tvQp4eCgyU7"
      }
    },
    {
      "cell_type": "markdown",
      "source": [
        "In this tutorial, you'll learn how to work with strings in Python using **indexing** and **slicing**. These are powerful tools that help you extract specific characters or parts of a string.\n",
        "\n",
        "---\n",
        "\n",
        "## 🔢 String Indexing\n",
        "\n",
        "Each character in a string has an index number. Indexing starts from **0** in Python.\n",
        "\n",
        "### ▶️ Example:\n",
        "\n",
        "```python\n",
        "text = \"Tayyaba\"\n",
        "\n",
        "print(text[0])  # Output: T\n",
        "print(text[1])  # Output: a\n",
        "print(text[-1]) # Output: a (last character)\n",
        "print(text[-2]) # Output: b (second last character)"
      ],
      "metadata": {
        "id": "qhJVPJYrg7Ry"
      }
    },
    {
      "cell_type": "markdown",
      "source": [
        "🔢 String Indexing"
      ],
      "metadata": {
        "id": "bH9D3Wqtg2B7"
      }
    },
    {
      "cell_type": "code",
      "source": [
        "# String Indexing Example\n",
        "name = \"Tayyaba Ramzan\"\n",
        "\n",
        "# Print character at index 6\n",
        "print(\"Character at index 6:\", name[6])  # Output: a"
      ],
      "metadata": {
        "colab": {
          "base_uri": "https://localhost:8080/"
        },
        "id": "A2fjXsPuhSL6",
        "outputId": "be7497d6-77c3-4ffe-edc7-3bf7ce258f22"
      },
      "execution_count": 1,
      "outputs": [
        {
          "output_type": "stream",
          "name": "stdout",
          "text": [
            "Character at index 6: a\n"
          ]
        }
      ]
    },
    {
      "cell_type": "markdown",
      "source": [
        "🔁 Reverse Indexing"
      ],
      "metadata": {
        "id": "Nchu4aIchUo7"
      }
    },
    {
      "cell_type": "code",
      "source": [
        "# Reverse Indexing Example\n",
        "# Negative indices count from the end\n",
        "print(\"Last character using reverse index [-1]:\", name[-1])  # Output: n"
      ],
      "metadata": {
        "colab": {
          "base_uri": "https://localhost:8080/"
        },
        "id": "F74Ds3JChYwy",
        "outputId": "a54b703b-8f3a-47ce-abf5-606c6b826944"
      },
      "execution_count": 2,
      "outputs": [
        {
          "output_type": "stream",
          "name": "stdout",
          "text": [
            "Last character using reverse index [-1]: n\n"
          ]
        }
      ]
    },
    {
      "cell_type": "markdown",
      "source": [
        "✂️ String Slicing"
      ],
      "metadata": {
        "id": "x1n0_gX1hhCy"
      }
    },
    {
      "cell_type": "code",
      "source": [
        "# String Slicing Example\n",
        "department = \"Software Engineering\"\n",
        "\n",
        "# Print character at index 2\n",
        "print(\"Character at index 2:\", department[2])  # Output: f\n",
        "\n",
        "# Print character at index 0\n",
        "print(\"Character at index 0:\", department[0])  # Output: S\n",
        "\n",
        "# Slice from index 0 to 7 (8 is excluded)\n",
        "print(\"Slice from 0 to 8:\", department[0:8])  # Output: Software\n",
        "\n",
        "# Slice with step 2\n",
        "print(\"Slice from 0 with step 2:\", department[0::2])  # Output: SfwreEgiern"
      ],
      "metadata": {
        "colab": {
          "base_uri": "https://localhost:8080/"
        },
        "id": "2RYJX0N3hi_i",
        "outputId": "6e3b463d-230a-49e9-c3a5-395f9781467e"
      },
      "execution_count": 3,
      "outputs": [
        {
          "output_type": "stream",
          "name": "stdout",
          "text": [
            "Character at index 2: f\n",
            "Character at index 0: S\n",
            "Slice from 0 to 8: Software\n",
            "Slice from 0 with step 2: Sfwr niern\n"
          ]
        }
      ]
    },
    {
      "cell_type": "markdown",
      "source": [
        "🔄 Reverse Slicing"
      ],
      "metadata": {
        "id": "eSfgf8mmhpZS"
      }
    },
    {
      "cell_type": "code",
      "source": [
        "# Reverse Slicing Example\n",
        "# Start from last character and go backward to index -12 (excluded)\n",
        "print(\"Reverse slice [-1:-12:-1]:\", department[-1:-12:-1])  # Output: gnireenignE"
      ],
      "metadata": {
        "colab": {
          "base_uri": "https://localhost:8080/"
        },
        "id": "eHsuxJZyhrq6",
        "outputId": "60627e8e-08ea-4787-9e40-6ecc2994c7f5"
      },
      "execution_count": 4,
      "outputs": [
        {
          "output_type": "stream",
          "name": "stdout",
          "text": [
            "Reverse slice [-1:-12:-1]: gnireenignE\n"
          ]
        }
      ]
    },
    {
      "cell_type": "markdown",
      "source": [
        "## Summary:\n",
        "- Use `[index]` to access specific characters.\n",
        "- Use `[start:stop]` or `[start:stop:step]` for slicing.\n",
        "- Negative indices and reverse slicing let you move backwards through the string.\n",
        "- Strings are immutable, but slicing lets you work flexibly with them.\n"
      ],
      "metadata": {
        "id": "NroUW_g6hu8y"
      }
    }
  ]
}